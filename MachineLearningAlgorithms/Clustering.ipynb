{
  "nbformat": 4,
  "nbformat_minor": 0,
  "metadata": {
    "interpreter": {
      "hash": "31f2aee4e71d21fbe5cf8b01ff0e069b9275f58929596ceb00d14d90e3e16cd6"
    },
    "kernelspec": {
      "display_name": "Python 3.8.9 64-bit",
      "language": "python",
      "name": "python3"
    },
    "language_info": {
      "codemirror_mode": {
        "name": "ipython",
        "version": 3
      },
      "file_extension": ".py",
      "mimetype": "text/x-python",
      "name": "python",
      "nbconvert_exporter": "python",
      "pygments_lexer": "ipython3",
      "version": "3.8.9"
    },
    "orig_nbformat": 4,
    "colab": {
      "name": "Clustering Lab Final.ipynb",
      "provenance": [],
      "collapsed_sections": [
        "PNDoUK-ehT0O",
        "OFDfcxynhlbI",
        "Zkb0Dx4PhT0S",
        "Oi8yZcqehT0X",
        "yLh2xnt4hT0g",
        "_uptvLxyhT0g",
        "JVyJNpnLhT0g",
        "ucPYOnufhT0h",
        "2TkxJyZKhT0h",
        "DJmvwWaVhT0i",
        "2WIr8p98KMcx",
        "F41bOvGrhT0j",
        "yHUAGWzihT0k",
        "NfxQsZ-chT0k",
        "RDreFpkeI4tb"
      ]
    }
  },
  "cells": [
    {
      "cell_type": "code",
      "metadata": {
        "id": "quT7bZyyhT0K"
      },
      "source": [
        "import matplotlib.pyplot as plt\n",
        "import numpy as np\n",
        "from scipy.io.arff import loadarff\n",
        "import pandas as pd\n",
        "import math"
      ],
      "execution_count": 84,
      "outputs": []
    },
    {
      "cell_type": "markdown",
      "metadata": {
        "id": "PNDoUK-ehT0O"
      },
      "source": [
        "# 1. Implement the k-means clustering algorithm and the HAC algorithm."
      ]
    },
    {
      "cell_type": "markdown",
      "metadata": {
        "id": "TAGm_i_ShT0Q"
      },
      "source": [
        "## 1.1.1 HAC Algorithm"
      ]
    },
    {
      "cell_type": "markdown",
      "metadata": {
        "id": "OFDfcxynhlbI"
      },
      "source": [
        "### HAC Class"
      ]
    },
    {
      "cell_type": "code",
      "metadata": {
        "id": "42Kg9zvYhT0Q"
      },
      "source": [
        "class HACClustering():\n",
        "\n",
        "    def __init__(self, k=3, link_type='single', distance_metric='euclidean', silhouette=False, output='print'): ## add parameters here\n",
        "\n",
        "        self.link_type = link_type\n",
        "        self.k = k\n",
        "        self.distance_metric = distance_metric\n",
        "        self.silhouette = silhouette\n",
        "        self.output = output\n",
        "\n",
        "\n",
        "    def fit_clusters(self, X, y=None):\n",
        "\n",
        "        self.n_samples, self.n_features = X.shape\n",
        "        self.X = X\n",
        "\n",
        "        samples = [[(self.X[i])] for i in range(self.n_samples)]\n",
        "        clusters = [[i] for i in range(self.n_samples)] \n",
        "        num_clusters = len(samples)\n",
        "\n",
        "        while num_clusters > self.k:\n",
        "          matrix = self.create_dist_matrix(samples)\n",
        "          sample_ind_needed = np.where(matrix==matrix.min())[0]\n",
        "          value_to_add = samples.pop(sample_ind_needed[1])\n",
        "          samples[sample_ind_needed[0]].extend(value_to_add)\n",
        "          num_clusters = len(samples)\n",
        "\n",
        "          clusters[sample_ind_needed[0]].extend(clusters[sample_ind_needed[1]]) #changing append to extend\n",
        "          clusters.pop(sample_ind_needed[1])\n",
        "        \n",
        "        self.clusters = clusters\n",
        "        self.centroids = self.get_centroids()\n",
        "\n",
        "        \n",
        "        if self.output == 'print':\n",
        "          # Call the print method\n",
        "          self.print_clusters(self.clusters, self.centroids)\n",
        "        elif (self.output == 'score') & (self.silhouette == False):\n",
        "          return sum(self.get_SSE())\n",
        "        else:\n",
        "          return\n",
        "\n",
        "\n",
        "    def get_centroids(self):\n",
        "        # assign mean value of clusters to centroids\n",
        "        centroids = np.zeros((self.k, self.n_features))\n",
        "        for cluster_idx, cluster in enumerate(self.clusters):\n",
        "            cluster_mean = np.mean(self.X[cluster], axis=0)\n",
        "            centroids[cluster_idx] = cluster_mean\n",
        "        return centroids\n",
        "\n",
        "    \n",
        "    def create_dist_matrix(self, samples):\n",
        "        matrix = np.zeros((len(samples),len(samples)))\n",
        "        for i in range(matrix.shape[0]):\n",
        "          for j in range(matrix.shape[0]):\n",
        "            if i == j:\n",
        "              # matrix[i,j] = np.nan\n",
        "              matrix[i,j] = 10*9\n",
        "            else:\n",
        "              if self.distance_metric == 'euclidean':\n",
        "                matrix[i,j] = self.euclidean_distance(samples[i], samples[j])\n",
        "              else:\n",
        "                matrix[i,j] = self.manhattan_distance(samples[i], samples[j])\n",
        "        return matrix\n",
        "\n",
        "\n",
        "    def manhattan_distance(self, instance1, instance2):\n",
        "        dist = []\n",
        "        for i in range(len(instance1)):\n",
        "          for j in range(len(instance2)):\n",
        "            dist.append(np.sum(np.abs(np.array(instance1[i]) - np.array(instance2[j]))))\n",
        "\n",
        "        if self.link_type == 'single':\n",
        "          return min(dist)\n",
        "        else:\n",
        "          return max(dist)\n",
        "    \n",
        "\n",
        "    def euclidean_distance(self, instance1, instance2):\n",
        "        dist = []\n",
        "        for i in range(len(instance1)):\n",
        "          for j in range(len(instance2)):\n",
        "            try:\n",
        "              dist.append(np.linalg.norm(np.array(instance1[i])-np.array(instance2[j])))\n",
        "            except:\n",
        "              print('fuck')\n",
        "\n",
        "        if self.link_type == 'single':\n",
        "          return min(dist)\n",
        "        else:\n",
        "          return max(dist) \n",
        "\n",
        "\n",
        "    def silhouette_scores(self, clusters):\n",
        "        # create initial list of all silhouette scores\n",
        "        all_silhouette_scores = []\n",
        "        \n",
        "        # initial list to store the instances of the data in each cluster\n",
        "        cluster_values = [[] for _ in range(self.k)]\n",
        "        for cluster_idx, cluster in enumerate(clusters):\n",
        "            cluster = self.X[cluster]\n",
        "            cluster_values[cluster_idx] = cluster\n",
        "        \n",
        "        # loop through each instance in each cluster\n",
        "        for ind_cluster in cluster_values:\n",
        "            dist_btwn_list = []\n",
        "            dist_among_list = []\n",
        "            remaining_clusters = self.check_clusters(cluster_values, ind_cluster)\n",
        "            for idx in range(len(ind_cluster)):\n",
        "                dist_temporary = []\n",
        "                for rem_cluster in remaining_clusters:\n",
        "                    distances_btwn = np.mean([self.euclidean_distance_sil(ind_cluster[idx], point) for point in rem_cluster])\n",
        "                    dist_temporary.append(distances_btwn)\n",
        "                dist_btwn_list.append(min(dist_temporary))\n",
        "\n",
        "                # Check if cluster has more than one point\n",
        "                if len(ind_cluster) > 1:\n",
        "                    distances_among = [self.euclidean_distance_sil(ind_cluster[idx], point) for point in ind_cluster]\n",
        "                    distances_among = np.mean([i for i in distances_among if i != 0])\n",
        "                    dist_among_list.append(distances_among)\n",
        "                else:\n",
        "                    dist_among_list.append(np.nan) # distance will be zero\n",
        "\n",
        "            silhouette_scores = []\n",
        "            check_nan = [math.isnan(x) for x in dist_among_list] #check if distance list contains nan values\n",
        "            if any(check_nan): #give silhouette score a zero if the cluster only contains one sample\n",
        "                sil = 0\n",
        "                silhouette_scores.append(sil)\n",
        "            else:\n",
        "                for x in range(len(ind_cluster)):\n",
        "                    a_i = dist_among_list[x]\n",
        "                    b_i = dist_btwn_list[x]\n",
        "                    sil = (b_i - a_i) / (max(a_i, b_i))\n",
        "                    silhouette_scores.append(sil)\n",
        "\n",
        "            all_silhouette_scores.append(silhouette_scores)\n",
        "            \n",
        "        return all_silhouette_scores\n",
        "\n",
        "\n",
        "    def get_SSE(self): # get SSE of each cluster\n",
        "        SSE_clusters = []\n",
        "        for idx, points in enumerate(self.clusters):\n",
        "          squared_distance = np.sum((self.X[points] - self.centroids[idx]) ** 2)\n",
        "          # squared_distance = np.sqrt(np.sum((self.X[points] - self.centroids[idx]) ** 2))\n",
        "          SSE_clusters.append(squared_distance)\n",
        "        return SSE_clusters\n",
        "\n",
        "\n",
        "    def euclidean_distance_sil(self, x1, x2):\n",
        "        return np.sqrt(np.sum((x1 - x2) ** 2))\n",
        "\n",
        "\n",
        "    def check_clusters(self, clusters, ind_cluster):\n",
        "        # remove the cluster that is being evaluated from the list of the other k-1 clusters\n",
        "        list_remaining = []\n",
        "        for clust in clusters:\n",
        "            try:\n",
        "                if np.any(np.not_equal(clust, ind_cluster)):\n",
        "                    list_remaining.append(clust)\n",
        "            except:\n",
        "                list_remaining.append(clust)\n",
        "        return list_remaining\n",
        "\n",
        "\n",
        "    def print_clusters(self): \n",
        "\n",
        "        print(\"Num clusters: {:d}\\n\".format(self.k))\n",
        "\n",
        "        if self.silhouette: # check if user wants silhoette score\n",
        "            # Get silhouette scores from the method, then take the score of the entire dataset\n",
        "            silhouette_score = self.silhouette_scores(self.clusters)\n",
        "            sil_score_list = [item for sublist in silhouette_score for item in sublist]\n",
        "            sil_score = sum(sil_score_list)/len(sil_score_list)\n",
        "            print(\"Silhouette score: {:.4f}\\n\\n\".format(sil_score))\n",
        "\n",
        "            # Print the cluster and centroid of each of the k clusters and centroids\n",
        "            for clust, centroid in zip(self.clusters, self.centroids):\n",
        "                print(np.array2string(centroid,precision=4,separator=\",\"))\n",
        "                print(f'{len(clust)}\\n')\n",
        "  \n",
        "        else: # otherwise, print out the SSE of clusters\n",
        "            SSE = self.get_SSE()\n",
        "            print(\"SSE: {:.4f}\\n\\n\".format(sum(SSE)))\n",
        "\n",
        "            # Print the cluster and centroid of each of the k clusters and centroids\n",
        "            for clust, centroid, clust_sse in zip(self.clusters, self.centroids, SSE):\n",
        "                print(np.array2string(centroid,precision=4,separator=\",\"))\n",
        "                print(len(clust))\n",
        "                print(f'{round(clust_sse,4)}\\n')\n"
      ],
      "execution_count": 98,
      "outputs": []
    },
    {
      "cell_type": "markdown",
      "metadata": {
        "id": "Zkb0Dx4PhT0S"
      },
      "source": [
        "### 1.1.2 Debug"
      ]
    },
    {
      "cell_type": "code",
      "metadata": {
        "id": "1lKq1ZcphT0T"
      },
      "source": [
        "## Debug Dataset\n",
        "!curl https://raw.githubusercontent.com/cs472ta/CS472/master/datasets/abalone.arff --output debug.arff\n",
        "dataset = loadarff('debug.arff')\n",
        "df_debug = pd.DataFrame(dataset[0])\n",
        "# df_debug.head()\n",
        "\n",
        "# Normalize the dataset\n",
        "X = df_debug.to_numpy()\n",
        "X = (X - X.min(axis=0))/ (X.max(axis=0) - X.min(axis=0))"
      ],
      "execution_count": null,
      "outputs": []
    },
    {
      "cell_type": "code",
      "metadata": {
        "colab": {
          "base_uri": "https://localhost:8080/"
        },
        "id": "iDj7JP2MdI4O",
        "outputId": "14f09ef1-9ffb-42c4-f44d-3ea30e3ae6b0"
      },
      "source": [
        "# Debug HAC single link\n",
        "hac_algorithm = HACClustering(k=5, link_type='single')\n",
        "hac_algorithm.fit_clusters(X)"
      ],
      "execution_count": null,
      "outputs": [
        {
          "output_type": "stream",
          "name": "stdout",
          "text": [
            "Num clusters: 5\n",
            "\n",
            "SSE: 54.4392\n",
            "\n",
            "\n",
            "[0.599 ,0.5923,0.4915,0.2826,0.2682,0.2921,0.2316,0.3849]\n",
            "195\n",
            "54.3917\n",
            "\n",
            "[0.9189,0.9438,0.7105,0.7016,0.759 ,0.7222,0.4472,0.8824]\n",
            "1\n",
            "0.0\n",
            "\n",
            "[1.    ,0.9831,0.8026,0.8343,0.6575,0.7825,0.9221,0.8824]\n",
            "2\n",
            "0.0475\n",
            "\n",
            "[1.    ,0.9888,0.7895,1.    ,1.    ,0.8915,0.7186,0.5882]\n",
            "1\n",
            "0.0\n",
            "\n",
            "[0.9189,0.9888,0.8684,0.719 ,0.5797,0.7512,0.6432,0.9412]\n",
            "1\n",
            "0.0\n",
            "\n"
          ]
        }
      ]
    },
    {
      "cell_type": "code",
      "metadata": {
        "id": "aV-03fB7hT0V",
        "colab": {
          "base_uri": "https://localhost:8080/"
        },
        "outputId": "1172a143-84a9-473a-cd82-17f7deb076cd"
      },
      "source": [
        "# Debug HAC complete link\n",
        "hac_algorithm_complete = HACClustering(k=5, link_type='complete')\n",
        "hac_algorithm_complete.fit_clusters(X)"
      ],
      "execution_count": null,
      "outputs": [
        {
          "output_type": "stream",
          "name": "stdout",
          "text": [
            "Num clusters: 5\n",
            "\n",
            "SSE: 13.0824\n",
            "\n",
            "\n",
            "[0.6544,0.649 ,0.5256,0.2879,0.2815,0.3057,0.2288,0.3911]\n",
            "71\n",
            "3.8232\n",
            "\n",
            "[0.3661,0.3505,0.271 ,0.1008,0.1024,0.1058,0.0836,0.2116]\n",
            "67\n",
            "5.2786\n",
            "\n",
            "[0.7622,0.7658,0.6759,0.4265,0.4016,0.4536,0.3376,0.5217]\n",
            "38\n",
            "1.4989\n",
            "\n",
            "[0.8818,0.8904,0.7582,0.614 ,0.5433,0.5317,0.561 ,0.7794]\n",
            "16\n",
            "1.5328\n",
            "\n",
            "[0.9471,0.934 ,0.8158,0.7457,0.6434,0.7944,0.6457,0.625 ]\n",
            "8\n",
            "0.949\n",
            "\n"
          ]
        }
      ]
    },
    {
      "cell_type": "markdown",
      "metadata": {
        "id": "kZiPq4RKhT0V"
      },
      "source": [
        "### 1.1.3 Evaluation"
      ]
    },
    {
      "cell_type": "code",
      "metadata": {
        "id": "sapdN7jXhT0W"
      },
      "source": [
        "## Evaluation Dataset\n",
        "!curl https://raw.githubusercontent.com/cs472ta/CS472/master/datasets/seismic-bumps_train.arff --output eval.arff\n",
        "dataset = loadarff('eval.arff')\n",
        "df_eval_hac = pd.DataFrame(dataset[0])\n",
        "str_df = df_eval_hac.select_dtypes([object])\n",
        "str_df = str_df.stack().str.decode('utf-8').unstack()\n",
        "for col in str_df:\n",
        "    df_eval_hac[col] = str_df[col]\n",
        "df_eval_hac['Class'] = df_eval_hac['Class'].astype(float) #change datatype of Class column to float64\n",
        "# df_eval_hac.head()\n",
        "\n",
        "# Normalize the dataset\n",
        "X = df_eval_hac.to_numpy()\n",
        "X = (X - X.min(axis=0))/ (X.max(axis=0) - X.min(axis=0))"
      ],
      "execution_count": null,
      "outputs": []
    },
    {
      "cell_type": "markdown",
      "metadata": {
        "id": "cf4S5OO1hT0W"
      },
      "source": [
        "#### 1.1.3.1 Complete Link"
      ]
    },
    {
      "cell_type": "code",
      "metadata": {
        "id": "_hpl1cuJhT0X",
        "colab": {
          "base_uri": "https://localhost:8080/"
        },
        "outputId": "275ab7e9-eec5-4752-e4ca-f02b126bac46"
      },
      "source": [
        "# Debug HAC complete link\n",
        "hac_algorithm_eval_comp = HACClustering(k=5, link_type='complete')\n",
        "hac_algorithm_eval_comp.fit_clusters(X)"
      ],
      "execution_count": null,
      "outputs": [
        {
          "output_type": "stream",
          "name": "stdout",
          "text": [
            "Num clusters: 5\n",
            "\n",
            "SSE: 15.6967\n",
            "\n",
            "\n",
            "[0.3636,0.4107,0.5609,0.3857,0.3937,0.2808,0.3155,0.    ]\n",
            "49\n",
            "5.0209\n",
            "\n",
            "[0.3471,0.3622,0.7897,0.279 ,0.441 ,0.8568,0.2234,0.    ]\n",
            "3\n",
            "0.2178\n",
            "\n",
            "[0.1656,0.2226,0.3509,0.2328,0.152 ,0.3424,0.1918,0.    ]\n",
            "18\n",
            "2.2794\n",
            "\n",
            "[0.7918,0.8268,0.606 ,0.7669,0.7787,0.4634,0.7877,1.    ]\n",
            "49\n",
            "6.3712\n",
            "\n",
            "[0.5326,0.6002,0.4536,0.5531,0.5144,0.5401,0.6266,1.    ]\n",
            "21\n",
            "1.8075\n",
            "\n"
          ]
        }
      ]
    },
    {
      "cell_type": "markdown",
      "metadata": {
        "id": "ROIxl7E1hT0X"
      },
      "source": [
        "#### 1.1.3.2 Single Link"
      ]
    },
    {
      "cell_type": "code",
      "metadata": {
        "id": "xgae76xlhT0X",
        "colab": {
          "base_uri": "https://localhost:8080/"
        },
        "outputId": "be6e6438-5108-4b5e-880c-fd208033c9e1"
      },
      "source": [
        "# Debug HAC single link\n",
        "hac_algorithm_eval_sing = HACClustering(k=5, link_type='single')\n",
        "hac_algorithm_eval_sing.fit_clusters(X)"
      ],
      "execution_count": null,
      "outputs": [
        {
          "output_type": "stream",
          "name": "stdout",
          "text": [
            "Num clusters: 5\n",
            "\n",
            "SSE: 22.4548\n",
            "\n",
            "\n",
            "[0.3159,0.3648,0.5145,0.349 ,0.3338,0.3077,0.2868,0.    ]\n",
            "67\n",
            "10.0257\n",
            "\n",
            "[0.2774,0.2597,1.    ,0.1224,0.4505,0.7549,0.129 ,0.    ]\n",
            "1\n",
            "0.0\n",
            "\n",
            "[0.3065,0.3333,0.6979,0.2792,0.3787,1.    ,0.2373,0.    ]\n",
            "1\n",
            "0.0\n",
            "\n",
            "[0.0884,0.1818,0.    ,0.145 ,0.1538,0.1245,0.    ,0.    ]\n",
            "1\n",
            "0.0\n",
            "\n",
            "[0.714 ,0.7588,0.5603,0.7028,0.6994,0.4864,0.7393,1.    ]\n",
            "70\n",
            "12.4291\n",
            "\n"
          ]
        }
      ]
    },
    {
      "cell_type": "markdown",
      "metadata": {
        "id": "Oi8yZcqehT0X"
      },
      "source": [
        "## 1.2.1 K-Means Algorithm"
      ]
    },
    {
      "cell_type": "markdown",
      "metadata": {
        "id": "1gCs6Ssoh0gS"
      },
      "source": [
        "### k-Means Class"
      ]
    },
    {
      "cell_type": "code",
      "metadata": {
        "id": "OXmh3WAlhT0Y"
      },
      "source": [
        "class KMeans():\n",
        "    \n",
        "    def __init__(self, K=5, random=True, max_iters=1000, silhouette=False, output='print'): \n",
        "    \n",
        "        self.K = K\n",
        "        self.max_iters = max_iters\n",
        "        self.random = random\n",
        "        self.silhouette = silhouette\n",
        "        self.output = output\n",
        "        self.clusters = [[] for _ in range(self.K)]  # Initialize list of indices for each cluster\n",
        "        self.centroids = []  # Initialize list of centroids for each cluster\n",
        "\n",
        "    def predict(self, X):\n",
        "        self.X = X\n",
        "        self.n_samples, self.n_features = X.shape\n",
        "\n",
        "        # initialize first k centroids \n",
        "        if self.random: # choose random samples for initial centroid\n",
        "          random_initial_idxs = np.random.choice(self.n_samples, self.K, replace=False)\n",
        "          self.centroids = [self.X[idx] for idx in random_initial_idxs]\n",
        "        else: # initialize first k centroids in order of dataset - for debug purposes\n",
        "          self.centroids = self.X[:self.K]\n",
        "\n",
        "        # Loop through max_iters and update the clusters\n",
        "        for _ in range(self.max_iters):\n",
        "            # Assign samples to closest centroids (create clusters)\n",
        "            self.clusters = self.create_clusters(self.centroids)\n",
        "\n",
        "            # Calculate new centroids from the clusters\n",
        "            centroids_previous = self.centroids\n",
        "            self.centroids = self.get_centroids(self.clusters)\n",
        "\n",
        "            # check if clusters have changed\n",
        "            if self.check_convergence(centroids_previous, self.centroids):\n",
        "                break\n",
        "        \n",
        "        if self.output == 'print':\n",
        "          # Call the print method\n",
        "          self.print_cluster(self.clusters, self.centroids)\n",
        "        elif (self.output == 'score') & (self.silhouette == False):\n",
        "          return sum(self.get_SSE())\n",
        "        else:\n",
        "          return\n",
        "\n",
        "        # Classify samples as the index of their clusters\n",
        "        # return self.get_labels_cluster(self.clusters)\n",
        "\n",
        "\n",
        "    def get_labels_cluster(self, clusters):\n",
        "        labels = np.empty(self.n_samples)\n",
        "\n",
        "        for cluster_idx, cluster in enumerate(clusters):\n",
        "            for sample_index in cluster:\n",
        "                labels[sample_index] = cluster_idx\n",
        "        return labels\n",
        "\n",
        "\n",
        "    def create_clusters(self, centroids):\n",
        "        # Assign the samples to the closest centroids to create clusters\n",
        "        clusters = [[] for _ in range(self.K)]\n",
        "        for idx, sample in enumerate(self.X):\n",
        "            centroid_idx = self.closest_centroid(sample, centroids)\n",
        "            clusters[centroid_idx].append(idx)\n",
        "        return clusters\n",
        "\n",
        "\n",
        "    def closest_centroid(self, sample, centroids):\n",
        "        # distance of the current sample to each centroid\n",
        "        distances = [self.euclidean_distance(sample, point) for point in centroids]\n",
        "        closest_index = np.argmin(distances)\n",
        "        return closest_index\n",
        "\n",
        "\n",
        "    def get_centroids(self, clusters):\n",
        "        # assign mean value of clusters to centroids\n",
        "        centroids = np.zeros((self.K, self.n_features))\n",
        "        for cluster_idx, cluster in enumerate(clusters):\n",
        "            cluster_mean = np.mean(self.X[cluster], axis=0)\n",
        "            centroids[cluster_idx] = cluster_mean\n",
        "        return centroids\n",
        "\n",
        "\n",
        "    def check_convergence(self, centroids_previous, centroids):\n",
        "        # distances between each old and new centroids, fol all centroids\n",
        "        distances = [self.euclidean_distance(centroids_previous[i], centroids[i]) for i in range(self.K)]\n",
        "        return sum(distances) == 0 # return True if old and new centroid are equal\n",
        "\n",
        "\n",
        "    def get_SSE(self): #not sure if this is SSE, RMSE, or MSE\n",
        "        SSE_clusters = []\n",
        "        for idx, points in enumerate(self.clusters):\n",
        "          squared_distance = np.sum((self.X[points] - self.centroids[idx]) ** 2)\n",
        "          # squared_distance = np.sqrt(np.sum((self.X[points] - self.centroids[idx]) ** 2))\n",
        "          SSE_clusters.append(squared_distance)\n",
        "        return SSE_clusters\n",
        "\n",
        "\n",
        "    def euclidean_distance(self, x1, x2):\n",
        "        return np.sqrt(np.sum((x1 - x2) ** 2))\n",
        "\n",
        "\n",
        "    def silhouette_scores(self, clusters):\n",
        "        # create initial list of all silhouette scores\n",
        "        all_silhouette_scores = []\n",
        "        \n",
        "        # initial list to store the instances of the data in each cluster\n",
        "        cluster_values = [[] for _ in range(self.K)]\n",
        "        for cluster_idx, cluster in enumerate(clusters):\n",
        "            cluster = self.X[cluster]\n",
        "            cluster_values[cluster_idx] = cluster\n",
        "        \n",
        "        # loop through each instance in each cluster\n",
        "        for ind_cluster in cluster_values:\n",
        "            dist_btwn_list = []\n",
        "            dist_among_list = []\n",
        "            remaining_clusters = self.check_clusters(cluster_values, ind_cluster)\n",
        "            for idx in range(len(ind_cluster)):\n",
        "                dist_temporary = []\n",
        "                for rem_cluster in remaining_clusters:\n",
        "                    distances_btwn = np.mean([self.euclidean_distance(ind_cluster[idx], point) for point in rem_cluster])\n",
        "                    dist_temporary.append(distances_btwn)\n",
        "                dist_btwn_list.append(min(dist_temporary))\n",
        "\n",
        "                distances_among = [self.euclidean_distance(ind_cluster[idx], point) for point in ind_cluster]\n",
        "                distances_among = np.mean([i for i in distances_among if i != 0])\n",
        "                dist_among_list.append(distances_among)\n",
        "\n",
        "            silhouette_scores = []\n",
        "            for x in range(len(ind_cluster)):\n",
        "                a_i = dist_among_list[x]\n",
        "                b_i = dist_btwn_list[x]\n",
        "                sil = (b_i - a_i) / (max(a_i, b_i))\n",
        "                silhouette_scores.append(sil)\n",
        "                \n",
        "            all_silhouette_scores.append(silhouette_scores)\n",
        "        return all_silhouette_scores\n",
        "\n",
        "\n",
        "    def check_clusters(self, clusters, ind_cluster):\n",
        "        # remove the cluster that is being evaluated from the list of the other k-1 clusters\n",
        "        list_remaining = []\n",
        "        for clust in clusters:\n",
        "            try:\n",
        "                if np.any(np.not_equal(clust, ind_cluster)):\n",
        "                    list_remaining.append(clust)\n",
        "            except:\n",
        "                list_remaining.append(clust)\n",
        "        return list_remaining\n",
        "    \n",
        "\n",
        "    def print_cluster(self, clusters, centroids):\n",
        "        # Method used to print the information used for grading\n",
        "        print(\"Num clusters: {:d}\\n\".format(self.K))\n",
        "\n",
        "        if self.silhouette: # check if user wants silhoette score\n",
        "            # Get silhouette scores from the method, then take the score of the entire dataset\n",
        "            silhouette_score = self.silhouette_scores(clusters)\n",
        "            sil_score_list = [item for sublist in silhouette_score for item in sublist]\n",
        "            sil_score = sum(sil_score_list)/len(sil_score_list)\n",
        "            print(\"Silhouette score: {:.4f}\\n\\n\".format(sil_score))\n",
        "\n",
        "            # Print the cluster and centroid of each of the k clusters and centroids\n",
        "            for clust, centroid in zip(clusters, centroids):\n",
        "                print(np.array2string(centroid,precision=4,separator=\",\"))\n",
        "                print(f'{len(clust)}\\n')\n",
        "\n",
        "\n",
        "        else: # otherwise, print out the SSE of clusters\n",
        "            SSE = self.get_SSE()\n",
        "            print(\"SSE: {:.4f}\\n\\n\".format(sum(SSE)))\n",
        "\n",
        "            # Print the cluster and centroid of each of the k clusters and centroids\n",
        "            for clust, centroid, clust_sse in zip(clusters, centroids, SSE):\n",
        "                print(np.array2string(centroid,precision=4,separator=\",\"))\n",
        "                print(len(clust))\n",
        "                print(f'{round(clust_sse,4)}\\n')\n",
        "            \n",
        "  \n",
        "\n",
        "            "
      ],
      "execution_count": 109,
      "outputs": []
    },
    {
      "cell_type": "markdown",
      "metadata": {
        "id": "6XxgDXe3hT0a"
      },
      "source": [
        "### 1.2.2 Debug"
      ]
    },
    {
      "cell_type": "code",
      "metadata": {
        "id": "bi-3_WRPhT0c"
      },
      "source": [
        "## Debug Dataset\n",
        "!curl https://raw.githubusercontent.com/cs472ta/CS472/master/datasets/abalone.arff --output debug_train.arff\n",
        "dataset = loadarff('debug_train.arff')\n",
        "df_debug = pd.DataFrame(dataset[0])\n",
        "# df_debug.head()\n",
        "\n",
        "# Normalize the dataset\n",
        "X = df_debug.to_numpy()\n",
        "X = (X - X.min(axis=0))/ (X.max(axis=0) - X.min(axis=0))"
      ],
      "execution_count": null,
      "outputs": []
    },
    {
      "cell_type": "code",
      "metadata": {
        "colab": {
          "base_uri": "https://localhost:8080/"
        },
        "id": "Y5NLXYGTYxQq",
        "outputId": "281caba5-168f-4c1a-caf1-d0301c95f7ac"
      },
      "source": [
        "# Specify clusters and use the K Means on debug dataset\n",
        "clusters = 5\n",
        "k = KMeans(K=clusters, random=False)\n",
        "y_pred = k.predict(X)"
      ],
      "execution_count": null,
      "outputs": [
        {
          "output_type": "stream",
          "name": "stdout",
          "text": [
            "Num clusters: 5\n",
            "\n",
            "SSE: 9.7826\n",
            "\n",
            "\n",
            "[0.7325,0.7327,0.627 ,0.3817,0.3633,0.4045,0.3046,0.4839]\n",
            "75\n",
            "4.0454\n",
            "\n",
            "[0.3704,0.3519,0.2686,0.0926,0.0935,0.094 ,0.0792,0.218 ]\n",
            "34\n",
            "0.6609\n",
            "\n",
            "[0.9035,0.905 ,0.7774,0.6579,0.5767,0.6193,0.5893,0.7279]\n",
            "24\n",
            "3.2116\n",
            "\n",
            "[0.5692,0.5628,0.4376,0.211 ,0.2113,0.2248,0.1659,0.317 ]\n",
            "54\n",
            "1.5452\n",
            "\n",
            "[0.1296,0.1037,0.1053,0.0177,0.0211,0.0272,0.0135,0.0724]\n",
            "13\n",
            "0.3195\n",
            "\n"
          ]
        }
      ]
    },
    {
      "cell_type": "markdown",
      "metadata": {
        "id": "PBhCofwnhT0d"
      },
      "source": [
        "### 1.2.3 Evaluation"
      ]
    },
    {
      "cell_type": "code",
      "metadata": {
        "id": "4cn0PYpGhT0e"
      },
      "source": [
        "## Evaluation Dataset\n",
        "!curl https://raw.githubusercontent.com/cs472ta/CS472/master/datasets/seismic-bumps_train.arff --output eval.arff\n",
        "dataset = loadarff('eval.arff')\n",
        "df_eval = pd.DataFrame(dataset[0])\n",
        "str_df = df_eval.select_dtypes([object])\n",
        "str_df = str_df.stack().str.decode('utf-8').unstack()\n",
        "for col in str_df:\n",
        "    df_eval[col] = str_df[col]\n",
        "df_eval['Class'] = df_eval['Class'].astype(float) #change datatype of Class column to float64\n",
        "# df_eval.head()\n",
        "\n",
        "# Normalize the dataset\n",
        "X = df_eval.to_numpy()\n",
        "X = (X - X.min(axis=0))/ (X.max(axis=0) - X.min(axis=0))"
      ],
      "execution_count": null,
      "outputs": []
    },
    {
      "cell_type": "code",
      "metadata": {
        "id": "f_6f2nTLhT0e",
        "colab": {
          "base_uri": "https://localhost:8080/"
        },
        "outputId": "7ae0eabe-c26b-4f11-8982-9b2538ee0dbb"
      },
      "source": [
        "# Specify clusters and use the K Means on eval dataset\n",
        "clusters = 5\n",
        "k_eval = KMeans(K=clusters, random=False)\n",
        "y_pred = k_eval.predict(X)"
      ],
      "execution_count": null,
      "outputs": [
        {
          "output_type": "stream",
          "name": "stdout",
          "text": [
            "Num clusters: 5\n",
            "\n",
            "SSE: 14.7279\n",
            "\n",
            "\n",
            "[0.5349,0.6013,0.4617,0.5541,0.5232,0.5544,0.6248,1.    ]\n",
            "22\n",
            "2.016\n",
            "\n",
            "[0.3684,0.4338,0.4356,0.4388,0.3573,0.2988,0.3673,0.    ]\n",
            "31\n",
            "2.4076\n",
            "\n",
            "[0.3658,0.3854,0.7563,0.3093,0.4659,0.3691,0.2413,0.    ]\n",
            "20\n",
            "2.5248\n",
            "\n",
            "[0.1634,0.2137,0.3968,0.2178,0.1555,0.3078,0.1775,0.    ]\n",
            "19\n",
            "1.777\n",
            "\n",
            "[0.7961,0.831 ,0.6054,0.7709,0.7802,0.4553,0.7919,1.    ]\n",
            "48\n",
            "6.0025\n",
            "\n"
          ]
        }
      ]
    },
    {
      "cell_type": "markdown",
      "metadata": {
        "id": "dP8M5WnnhT0e"
      },
      "source": [
        "# 2 Iris Classification Problem"
      ]
    },
    {
      "cell_type": "markdown",
      "metadata": {
        "id": "kjYE-jugVa7G"
      },
      "source": [
        "For the iris dataset, I chose to normalize the the feautes using min/max so that each feature contributes to the model equally. "
      ]
    },
    {
      "cell_type": "markdown",
      "metadata": {
        "id": "f7Po40UvhT0e"
      },
      "source": [
        "## 2.1.1 Clustering the Iris Classification problem - HAC"
      ]
    },
    {
      "cell_type": "code",
      "metadata": {
        "id": "AlBkq0WLhT0e"
      },
      "source": [
        "# Load Iris Dataset\n",
        "!curl https://raw.githubusercontent.com/cs472ta/CS472/master/datasets/iris.arff --output iris.arff\n",
        "dataset = loadarff('iris.arff')\n",
        "df_iris_hac = pd.DataFrame(dataset[0])\n",
        "df_iris_hac.drop(columns=['class'], inplace=True)\n",
        "\n",
        "# Normalize the dataset\n",
        "X_hac = df_iris_hac.to_numpy()\n",
        "X_hac = (X_hac - X_hac.min(axis=0))/ (X_hac.max(axis=0) - X_hac.min(axis=0))"
      ],
      "execution_count": null,
      "outputs": []
    },
    {
      "cell_type": "code",
      "metadata": {
        "id": "YP9xlSYjhT0f",
        "colab": {
          "base_uri": "https://localhost:8080/",
          "height": 294
        },
        "outputId": "a16a772d-037a-47cc-e6da-434b5dcb0df4"
      },
      "source": [
        "# Single Link\n",
        "sse_list = []\n",
        "k_list = []\n",
        "for k in range(2,8):\n",
        "  hac_algorithm = HACClustering(k=k, link_type='single', output='score')\n",
        "  sse_list.append(hac_algorithm.fit_clusters(X_hac))\n",
        "  k_list.append(k)\n",
        "\n",
        "# Plot SEE vs k values\n",
        "plt.plot(k_list, sse_list)\n",
        "plt.title(\"SSE over K Values\")\n",
        "plt.xlabel(\"k values\")\n",
        "plt.ylabel(\"SSE\")\n",
        "plt.show()"
      ],
      "execution_count": 92,
      "outputs": [
        {
          "output_type": "display_data",
          "data": {
            "image/png": "[encoded data removed]",
            "text/plain": [
              "<Figure size 432x288 with 1 Axes>"
            ]
          },
          "metadata": {
            "needs_background": "light"
          }
        }
      ]
    },
    {
      "cell_type": "code",
      "metadata": {
        "id": "E9evOjOZhT0f",
        "colab": {
          "base_uri": "https://localhost:8080/",
          "height": 294
        },
        "outputId": "cd120d11-981a-4d4c-b624-e234ded1d154"
      },
      "source": [
        "# Complete Link\n",
        "sse_list = []\n",
        "k_list = []\n",
        "for k in range(2,8):\n",
        "  hac_algorithm = HACClustering(k=k, link_type='complete', output='score')\n",
        "  sse_list.append(hac_algorithm.fit_clusters(X_hac))\n",
        "  k_list.append(k)\n",
        "\n",
        "# Plot SEE vs k values\n",
        "plt.plot(k_list, sse_list)\n",
        "plt.title(\"SSE over K Values\")\n",
        "plt.xlabel(\"k values\")\n",
        "plt.ylabel(\"SSE\")\n",
        "plt.show()"
      ],
      "execution_count": 102,
      "outputs": [
        {
          "output_type": "display_data",
          "data": {
            "image/png": "[encoded data removed]",
            "text/plain": [
              "<Figure size 432x288 with 1 Axes>"
            ]
          },
          "metadata": {
            "needs_background": "light"
          }
        }
      ]
    },
    {
      "cell_type": "markdown",
      "metadata": {
        "id": "KfEteIzSbIQI"
      },
      "source": [
        "The single link HAC algorithm had a more consistent SSE over k values. The complete link HAC algorithm started with a high error for k values 2 and 3 and decreased rapidly to a similar SSE that the single HAC algorithm yielded. \n",
        "\n",
        "The single link creates clusters that resemble long chains where some points in the same cluster are far from each other. The complete link, on the other hand, finds more compact clusters. "
      ]
    },
    {
      "cell_type": "markdown",
      "metadata": {
        "id": "tiAsRkizhT0f"
      },
      "source": [
        "## 2.2.1 Clustering the Iris Classification problem - K-Means"
      ]
    },
    {
      "cell_type": "code",
      "metadata": {
        "id": "S3FtMdmEhT0f"
      },
      "source": [
        "# Load Iris Dataset\n",
        "!curl https://raw.githubusercontent.com/cs472ta/CS472/master/datasets/iris.arff --output iris.arff\n",
        "dataset = loadarff('iris.arff')\n",
        "df_iris_k = pd.DataFrame(dataset[0])\n",
        "df_iris_k.drop(columns=['class'], inplace=True)\n",
        "\n",
        "# Normalize the dataset\n",
        "X_kmeans = df_iris_k.to_numpy()\n",
        "X_kmeans = (X_kmeans - X_kmeans.min(axis=0))/ (X_kmeans.max(axis=0) - X_kmeans.min(axis=0))"
      ],
      "execution_count": null,
      "outputs": []
    },
    {
      "cell_type": "code",
      "metadata": {
        "id": "Um5flwdphT0f",
        "colab": {
          "base_uri": "https://localhost:8080/",
          "height": 294
        },
        "outputId": "e1df0e64-7943-4746-833d-1efaf5669d9e"
      },
      "source": [
        "# Iris Classification using k-means\n",
        "sse_list = []\n",
        "list_k = []\n",
        "for k in range(2,8):\n",
        "  kmeans_algo = KMeans(K=k, output='score')\n",
        "  sse_list.append(kmeans_algo.predict(X_kmeans))\n",
        "  list_k.append(k)\n",
        "\n",
        "# Plot SEE vs k values\n",
        "plt.plot(list_k, sse_list)\n",
        "plt.title(\"SSE over K Values\")\n",
        "plt.xlabel(\"k values\")\n",
        "plt.ylabel(\"SSE\")\n",
        "plt.show()"
      ],
      "execution_count": null,
      "outputs": [
        {
          "output_type": "display_data",
          "data": {
            "image/png": "[encoded data removed]",
            "text/plain": [
              "<Figure size 432x288 with 1 Axes>"
            ]
          },
          "metadata": {
            "needs_background": "light"
          }
        }
      ]
    },
    {
      "cell_type": "markdown",
      "metadata": {
        "id": "EV8_wkvjeHU1"
      },
      "source": [
        "The k-means algorithm performed fairly similar to the HAC alogithm. The spread of the SSE over the k values most closely resembles the complete link HAC algorithm above. "
      ]
    },
    {
      "cell_type": "markdown",
      "metadata": {
        "id": "Dl5rcbgVchRm"
      },
      "source": [
        "## 2.2.2 Run k-means 5 times with k=4"
      ]
    },
    {
      "cell_type": "code",
      "metadata": {
        "colab": {
          "base_uri": "https://localhost:8080/"
        },
        "id": "u8QuP57Jcnv-",
        "outputId": "8e052841-0b6a-4959-a1c0-e9c64119280e"
      },
      "source": [
        "sse_scores = []\n",
        "\n",
        "for _ in range(5):\n",
        "  kmeans_algo = KMeans(K=4, output='score')\n",
        "  sse_scores.append(kmeans_algo.predict(X_kmeans))\n",
        "\n",
        "sse_scores"
      ],
      "execution_count": 113,
      "outputs": [
        {
          "output_type": "execute_result",
          "data": {
            "text/plain": [
              "[5.541657763082495,\n",
              " 5.532831003081898,\n",
              " 6.036463510500609,\n",
              " 6.037206614805417,\n",
              " 5.549759171192486]"
            ]
          },
          "metadata": {},
          "execution_count": 113
        }
      ]
    },
    {
      "cell_type": "markdown",
      "metadata": {
        "id": "CrGSN_SodWe5"
      },
      "source": [
        "After running the k-means algorithm 5 times with k=4 and different random centroids, the SSE scores were really similar. The minimum was 5.54 and the max was 6.037. This shows that with the Iris dataset, the k-means algorithm did not struggle with local minima or outliers. "
      ]
    },
    {
      "cell_type": "markdown",
      "metadata": {
        "id": "LUJJFHiEhT0g"
      },
      "source": [
        "# 3 Run Models using Scikit Learn"
      ]
    },
    {
      "cell_type": "markdown",
      "metadata": {
        "id": "yLh2xnt4hT0g"
      },
      "source": [
        "## 3.1 Run the SK versions of HAC (both single and complete link) on iris dataset"
      ]
    },
    {
      "cell_type": "markdown",
      "metadata": {
        "id": "2UkjnMENhXTX"
      },
      "source": [
        "Note: I used and implemented my own silhouette score funtion"
      ]
    },
    {
      "cell_type": "code",
      "metadata": {
        "colab": {
          "base_uri": "https://localhost:8080/"
        },
        "id": "gL4q-EoG5Vos",
        "outputId": "37e54e20-52d4-4501-d39e-75581e0ca501"
      },
      "source": [
        "from sklearn.cluster import AgglomerativeClustering\n",
        "from sklearn.metrics import silhouette_score\n",
        "\n",
        "# Load Iris Dataset\n",
        "!curl https://raw.githubusercontent.com/cs472ta/CS472/master/datasets/iris.arff --output iris.arff\n",
        "dataset = loadarff('iris.arff')\n",
        "df_iris_hac = pd.DataFrame(dataset[0])\n",
        "df_iris_hac.drop(columns=['class'], inplace=True)\n",
        "\n",
        "# Normalize the dataset\n",
        "X_iris = df_iris_hac.to_numpy()\n",
        "X_iris = (X_iris - X_iris.min(axis=0))/ (X_iris.max(axis=0) - X_iris.min(axis=0))"
      ],
      "execution_count": 86,
      "outputs": [
        {
          "output_type": "stream",
          "name": "stdout",
          "text": [
            "  % Total    % Received % Xferd  Average Speed   Time    Time     Time  Current\n",
            "                                 Dload  Upload   Total   Spent    Left  Speed\n",
            "\r  0     0    0     0    0     0      0      0 --:--:-- --:--:-- --:--:--     0\r  0     0    0     0    0     0      0      0 --:--:-- --:--:-- --:--:--     0\r100  7485  100  7485    0     0  46490      0 --:--:-- --:--:-- --:--:-- 46203\n"
          ]
        }
      ]
    },
    {
      "cell_type": "code",
      "metadata": {
        "colab": {
          "base_uri": "https://localhost:8080/",
          "height": 294
        },
        "id": "iXt9bKUF_iay",
        "outputId": "a275eff0-9b5e-460b-cc1f-c917f8d31d94"
      },
      "source": [
        "# Single Link SK\n",
        "silhouette_score_list = []\n",
        "k_list = []\n",
        "for k in range(2,8):\n",
        "  predicted_clusters = AgglomerativeClustering(n_clusters=k, linkage='single').fit(X_iris).labels_\n",
        "  silhouette_score_list.append(Personal_Silhouette_Score().score(X_iris, predicted_clusters)) # using personal Silhouette score function\n",
        "  k_list.append(k)\n",
        "\n",
        "# Plot SEE vs k values\n",
        "plt.plot(k_list, silhouette_score_list)\n",
        "plt.title(\"HAC Algorithm Single: Silhouette Score over K Values\")\n",
        "plt.xlabel(\"k values\")\n",
        "plt.ylabel(\"Silhouette Score\")\n",
        "plt.show()"
      ],
      "execution_count": 7,
      "outputs": [
        {
          "output_type": "display_data",
          "data": {
            "image/png": "[encoded data removed]",
            "text/plain": [
              "<Figure size 432x288 with 1 Axes>"
            ]
          },
          "metadata": {
            "needs_background": "light"
          }
        }
      ]
    },
    {
      "cell_type": "code",
      "metadata": {
        "colab": {
          "base_uri": "https://localhost:8080/",
          "height": 294
        },
        "id": "ycDw-vtgRE_V",
        "outputId": "93844d9d-eb41-4075-d4a9-afa2af2d129a"
      },
      "source": [
        "# Complete Link SK\n",
        "silhouette_score_list = []\n",
        "k_list = []\n",
        "for k in range(2,8):\n",
        "  predicted_clusters = AgglomerativeClustering(n_clusters=k, linkage='complete').fit(X_iris).labels_\n",
        "  silhouette_score_list.append(Personal_Silhouette_Score().score(X_iris, predicted_clusters)) # using personal Silhouette score function\n",
        "  k_list.append(k)\n",
        "\n",
        "# Plot SEE vs k values\n",
        "plt.plot(k_list, silhouette_score_list)\n",
        "plt.title(\"HAC Algorithm Complete: Silhouette Score over K Values\")\n",
        "plt.xlabel(\"k values\")\n",
        "plt.ylabel(\"Silhouette Score\")\n",
        "plt.show()"
      ],
      "execution_count": 8,
      "outputs": [
        {
          "output_type": "display_data",
          "data": {
            "image/png": "[encoded data removed]",
            "text/plain": [
              "<Figure size 432x288 with 1 Axes>"
            ]
          },
          "metadata": {
            "needs_background": "light"
          }
        }
      ]
    },
    {
      "cell_type": "markdown",
      "metadata": {
        "id": "_uptvLxyhT0g"
      },
      "source": [
        "## 3.2 Run the SK version of k-means on iris dataset"
      ]
    },
    {
      "cell_type": "code",
      "metadata": {
        "colab": {
          "base_uri": "https://localhost:8080/",
          "height": 294
        },
        "id": "FPu-yTDcSGBP",
        "outputId": "983369e7-2729-4255-aee6-7a1b06fa5da2"
      },
      "source": [
        "from sklearn.cluster import KMeans\n",
        "\n",
        "# SK K-means\n",
        "silhouette_score_list = []\n",
        "k_list = []\n",
        "for k in range(2,8):\n",
        "  predicted_clusters = KMeans(n_clusters=k).fit(X_iris).labels_\n",
        "  silhouette_score_list.append(Personal_Silhouette_Score().score(X_iris, predicted_clusters)) # using personal Silhouette score function\n",
        "  k_list.append(k)\n",
        "\n",
        "# Plot SEE vs k values\n",
        "plt.plot(k_list, silhouette_score_list)\n",
        "plt.title(\"K-Means: Silhouette Score over K Values\")\n",
        "plt.xlabel(\"k values\")\n",
        "plt.ylabel(\"Silhouette Score\")\n",
        "plt.show()"
      ],
      "execution_count": 11,
      "outputs": [
        {
          "output_type": "display_data",
          "data": {
            "image/png": "[encoded data removed]",
            "text/plain": [
              "<Figure size 432x288 with 1 Axes>"
            ]
          },
          "metadata": {
            "needs_background": "light"
          }
        }
      ]
    },
    {
      "cell_type": "markdown",
      "metadata": {
        "id": "hHroeS4ce11Q"
      },
      "source": [
        "After running the scikit learn single and complete HAC algorithms and the scikit learn k-means algorithm, the results seem fairly similar to my own models in section 2. However, it is difficult to compare apples to apples since in section 2 we used SSE as the score function and in section 3 we are using silhouette score as the scoring metric. The silhouette scores indicate that the most optimal number of clusters is either 2 or 3 (The sinlge link HAC and the k-means algorithm indicate 2 and the complete link HAC algorithm indicates 3 clusters)."
      ]
    },
    {
      "cell_type": "markdown",
      "metadata": {
        "id": "_6TcY5C2TMTU"
      },
      "source": [
        "## 3.3 Find a data set of your choice and use the SK versions of k-means and HAC to get results\n",
        "\n",
        "*   Experiment with and discuss your results with different hyper-parameters.\n",
        "\n"
      ]
    },
    {
      "cell_type": "code",
      "metadata": {
        "id": "8-OoL1fhTWB8"
      },
      "source": [
        "from sklearn.cluster import AgglomerativeClustering\n",
        "from sklearn.metrics import silhouette_score\n",
        "\n",
        "# Importing \"Absenteeism at work Data Set\" from UCI Machine Learning Repository\n",
        "choice_dataset = loadarff('/content/drive/MyDrive/Colab Notebooks/Data/Absenteeism_at_work.arff')\n",
        "df = pd.DataFrame(choice_dataset[0])\n",
        "str_df = df.select_dtypes([np.object])\n",
        "str_df = str_df.stack().str.decode('utf-8').unstack()\n",
        "for col in df:\n",
        "  if df[col].dtype == 'O':\n",
        "    df[col] = str_df[col]\n",
        "\n",
        "df.drop(columns=['ID', 'Absenteeism_time_in_hours'], inplace=True)\n",
        "df_test = df.astype(float)\n",
        "X_absenteeism = df_test.to_numpy()"
      ],
      "execution_count": null,
      "outputs": []
    },
    {
      "cell_type": "markdown",
      "metadata": {
        "id": "gGPkjuel7VyT"
      },
      "source": [
        "### Single HAC"
      ]
    },
    {
      "cell_type": "code",
      "metadata": {
        "colab": {
          "base_uri": "https://localhost:8080/",
          "height": 294
        },
        "id": "LIqkZUUcnTyG",
        "outputId": "ec9ea887-3519-4c33-9cc8-24cf524eb63f"
      },
      "source": [
        "# Single Link SK\n",
        "silhouette_score_list = []\n",
        "k_list = []\n",
        "for k in range(2,14):\n",
        "  predicted_clusters = AgglomerativeClustering(n_clusters=k, linkage='single', affinity='manhattan').fit(X_absenteeism).labels_\n",
        "  silhouette_score_list.append(Personal_Silhouette_Score().score(X_absenteeism, predicted_clusters)) # using personal Silhouette score function\n",
        "  k_list.append(k)\n",
        "\n",
        "# Plot SEE vs k values\n",
        "plt.plot(k_list, silhouette_score_list)\n",
        "plt.title(\"HAC Algorithm Single: Silhouette Score over K Values\")\n",
        "plt.xlabel(\"k values\")\n",
        "plt.ylabel(\"Silhouette Score\")\n",
        "plt.show()"
      ],
      "execution_count": 29,
      "outputs": [
        {
          "output_type": "display_data",
          "data": {
            "image/png": "[encoded data removed]",
            "text/plain": [
              "<Figure size 432x288 with 1 Axes>"
            ]
          },
          "metadata": {
            "needs_background": "light"
          }
        }
      ]
    },
    {
      "cell_type": "code",
      "metadata": {
        "colab": {
          "base_uri": "https://localhost:8080/",
          "height": 294
        },
        "id": "lwZUY91h6VCE",
        "outputId": "ccae5f24-18e8-481c-9376-8deef8419501"
      },
      "source": [
        "from sklearn.metrics import silhouette_score\n",
        "\n",
        "silhouette_score_list = []\n",
        "k_list = []\n",
        "for k in range(2,14):\n",
        "  predicted_clusters = AgglomerativeClustering(n_clusters=k, linkage='single', affinity='cosine').fit(X_absenteeism).labels_\n",
        "  silhouette_score_list.append(Personal_Silhouette_Score().score(X_absenteeism, predicted_clusters)) # using personal Silhouette score function\n",
        "  k_list.append(k)\n",
        "\n",
        "# Plot SEE vs k values\n",
        "plt.plot(k_list, silhouette_score_list)\n",
        "plt.title(\"HAC Algorithm Single: Silhouette Score over K Values\")\n",
        "plt.xlabel(\"k values\")\n",
        "plt.ylabel(\"Silhouette Score\")\n",
        "plt.show()"
      ],
      "execution_count": 77,
      "outputs": [
        {
          "output_type": "display_data",
          "data": {
            "image/png": "[encoded data removed]",
            "text/plain": [
              "<Figure size 432x288 with 1 Axes>"
            ]
          },
          "metadata": {
            "needs_background": "light"
          }
        }
      ]
    },
    {
      "cell_type": "markdown",
      "metadata": {
        "id": "nLj6kJwTgePX"
      },
      "source": [
        "The sinlge link HAC algorithm performed the manhattan distance as its affinity, whereas the cosine affinity performed the worst. \n",
        "\n"
      ]
    },
    {
      "cell_type": "markdown",
      "metadata": {
        "id": "yBZ7RfQKAkAE"
      },
      "source": [
        "### Complete HAC"
      ]
    },
    {
      "cell_type": "code",
      "metadata": {
        "colab": {
          "base_uri": "https://localhost:8080/",
          "height": 294
        },
        "id": "AbA23tIWAmFL",
        "outputId": "bacc0165-c9f2-4535-ea12-353a7c300aa9"
      },
      "source": [
        "# Complete Link SK\n",
        "silhouette_score_list = []\n",
        "k_list = []\n",
        "for k in range(2,14):\n",
        "  predicted_clusters = AgglomerativeClustering(n_clusters=k, linkage='complete').fit(X_absenteeism).labels_\n",
        "  silhouette_score_list.append(Personal_Silhouette_Score().score(X_absenteeism, predicted_clusters)) # using personal Silhouette score function\n",
        "  k_list.append(k)\n",
        "\n",
        "# Plot SEE vs k values\n",
        "plt.plot(k_list, silhouette_score_list)\n",
        "plt.title(\"HAC Algorithm Single: Silhouette Score over K Values\")\n",
        "plt.xlabel(\"k values\")\n",
        "plt.ylabel(\"Silhouette Score\")\n",
        "plt.show()"
      ],
      "execution_count": 17,
      "outputs": [
        {
          "output_type": "display_data",
          "data": {
            "image/png": "[encoded data removed]",
            "text/plain": [
              "<Figure size 432x288 with 1 Axes>"
            ]
          },
          "metadata": {
            "needs_background": "light"
          }
        }
      ]
    },
    {
      "cell_type": "markdown",
      "metadata": {
        "id": "mGrYHRxtAyeV"
      },
      "source": [
        "### Average"
      ]
    },
    {
      "cell_type": "code",
      "metadata": {
        "colab": {
          "base_uri": "https://localhost:8080/",
          "height": 294
        },
        "id": "Pn_JJbHSA3qi",
        "outputId": "399858b3-d48c-4e62-b634-1debecc51506"
      },
      "source": [
        "# Average Link SK\n",
        "silhouette_score_list = []\n",
        "k_list = []\n",
        "for k in range(2,14):\n",
        "  predicted_clusters = AgglomerativeClustering(n_clusters=k, linkage='average', affinity='manhattan').fit(X_absenteeism).labels_\n",
        "  silhouette_score_list.append(Personal_Silhouette_Score().score(X_absenteeism, predicted_clusters)) # using personal Silhouette score function\n",
        "  k_list.append(k)\n",
        "\n",
        "# Plot SEE vs k values\n",
        "plt.plot(k_list, silhouette_score_list)\n",
        "plt.title(\"HAC Algorithm Single: Silhouette Score over K Values\")\n",
        "plt.xlabel(\"k values\")\n",
        "plt.ylabel(\"Silhouette Score\")\n",
        "plt.show()"
      ],
      "execution_count": 78,
      "outputs": [
        {
          "output_type": "display_data",
          "data": {
            "image/png": "[encoded data removed]",
            "text/plain": [
              "<Figure size 432x288 with 1 Axes>"
            ]
          },
          "metadata": {
            "needs_background": "light"
          }
        }
      ]
    },
    {
      "cell_type": "code",
      "metadata": {
        "colab": {
          "base_uri": "https://localhost:8080/",
          "height": 294
        },
        "id": "RcT5856NA7lU",
        "outputId": "4207252d-ab3a-44ae-a991-593d1a30f88a"
      },
      "source": [
        "# Average Link SK\n",
        "silhouette_score_list = []\n",
        "k_list = []\n",
        "for k in range(2,14):\n",
        "  predicted_clusters = AgglomerativeClustering(n_clusters=k, linkage='ward').fit(X_absenteeism).labels_\n",
        "  silhouette_score_list.append(Personal_Silhouette_Score().score(X_absenteeism, predicted_clusters)) # using personal Silhouette score function\n",
        "  k_list.append(k)\n",
        "\n",
        "# Plot SEE vs k values\n",
        "plt.plot(k_list, silhouette_score_list)\n",
        "plt.title(\"HAC Algorithm Single: Silhouette Score over K Values\")\n",
        "plt.xlabel(\"k values\")\n",
        "plt.ylabel(\"Silhouette Score\")\n",
        "plt.show()"
      ],
      "execution_count": 79,
      "outputs": [
        {
          "output_type": "display_data",
          "data": {
            "image/png": "[encoded data removed]",
            "text/plain": [
              "<Figure size 432x288 with 1 Axes>"
            ]
          },
          "metadata": {
            "needs_background": "light"
          }
        }
      ]
    },
    {
      "cell_type": "markdown",
      "metadata": {
        "id": "nsxLk20cChNm"
      },
      "source": [
        "Besides n_clusters, linkage, and affinity, there were not too many hyperparameters to test. However, I did find some variablility in my overall Silhouette scores (as seen in my output graphs). The HAC model that yielded the greatest silhouette score after testing k values from 2-13 used the 'ward' distance metric. Ward minimizes the variance of the clusters being compared. There was not too much variation between using average and complete distance matrices, all else equal. And althought I tried different affinity parameters for both the average and complete HAC models, the default euclidean distance performed the best.\n",
        "\n",
        "The single linkage model performed the worst (as far as average silhouette scores accross my k values). I tested using cosine as the metric to compute distance, and the silhouette scores decreased substantially. However, the combination of single linkage with cosine affinity had much higher scores than the average and complete linkage with the cosine affinity. "
      ]
    },
    {
      "cell_type": "markdown",
      "metadata": {
        "id": "TXW3ks1JBnZN"
      },
      "source": [
        "### K Means"
      ]
    },
    {
      "cell_type": "code",
      "metadata": {
        "colab": {
          "base_uri": "https://localhost:8080/",
          "height": 294
        },
        "id": "NW5z1rltCfz_",
        "outputId": "60b5d79d-5c75-48ad-a3f3-854374ed2c6e"
      },
      "source": [
        "from sklearn.cluster import KMeans\n",
        "\n",
        "silhouette_score_list = []\n",
        "k_list = []\n",
        "for k in range(2,14):\n",
        "  predicted_clusters = KMeans(n_clusters=k, algorithm='elkan', tol=0.000001).fit(X_absenteeism).labels_\n",
        "  silhouette_score_list.append(Personal_Silhouette_Score().score(X_iris, predicted_clusters)) # using personal Silhouette score function\n",
        "  k_list.append(k)\n",
        "\n",
        "# Plot SEE vs k values\n",
        "plt.plot(k_list, silhouette_score_list)\n",
        "plt.title(\"K-Means: Silhouette Score over K Values\")\n",
        "plt.xlabel(\"k values\")\n",
        "plt.ylabel(\"Silhouette Score\")\n",
        "plt.show()"
      ],
      "execution_count": 80,
      "outputs": [
        {
          "output_type": "display_data",
          "data": {
            "image/png": "[encoded data removed]",
            "text/plain": [
              "<Figure size 432x288 with 1 Axes>"
            ]
          },
          "metadata": {
            "needs_background": "light"
          }
        }
      ]
    },
    {
      "cell_type": "code",
      "metadata": {
        "colab": {
          "base_uri": "https://localhost:8080/",
          "height": 294
        },
        "id": "Xk6q7BXkC6Zu",
        "outputId": "f610f67f-ffa9-4eac-e943-c45903692edb"
      },
      "source": [
        "from sklearn.cluster import KMeans\n",
        "\n",
        "silhouette_score_list = []\n",
        "k_list = []\n",
        "for k in range(2,14):\n",
        "  predicted_clusters = KMeans(n_clusters=k, algorithm='elkan', tol=0.1).fit(X_absenteeism).labels_\n",
        "  silhouette_score_list.append(Personal_Silhouette_Score().score(X_iris, predicted_clusters)) # using personal Silhouette score function\n",
        "  k_list.append(k)\n",
        "\n",
        "# Plot SEE vs k values\n",
        "plt.plot(k_list, silhouette_score_list)\n",
        "plt.title(\"K-Means: Silhouette Score over K Values\")\n",
        "plt.xlabel(\"k values\")\n",
        "plt.ylabel(\"Silhouette Score\")\n",
        "plt.show()"
      ],
      "execution_count": 81,
      "outputs": [
        {
          "output_type": "display_data",
          "data": {
            "image/png": "[encoded data removed]",
            "text/plain": [
              "<Figure size 432x288 with 1 Axes>"
            ]
          },
          "metadata": {
            "needs_background": "light"
          }
        }
      ]
    },
    {
      "cell_type": "code",
      "metadata": {
        "colab": {
          "base_uri": "https://localhost:8080/",
          "height": 294
        },
        "id": "5h-HcAYrB00B",
        "outputId": "8ef00f8b-f93f-488a-a680-1d6ec2b8013d"
      },
      "source": [
        "silhouette_score_list = []\n",
        "k_list = []\n",
        "for k in range(2,14):\n",
        "  predicted_clusters = KMeans(n_clusters=k, algorithm='full', n_init=100, max_iter=1000).fit(X_absenteeism).labels_\n",
        "  silhouette_score_list.append(Personal_Silhouette_Score().score(X_iris, predicted_clusters)) # using personal Silhouette score function\n",
        "  k_list.append(k)\n",
        "\n",
        "# Plot SEE vs k values\n",
        "plt.plot(k_list, silhouette_score_list)\n",
        "plt.title(\"K-Means: Silhouette Score over K Values\")\n",
        "plt.xlabel(\"k values\")\n",
        "plt.ylabel(\"Silhouette Score\")\n",
        "plt.show()"
      ],
      "execution_count": 82,
      "outputs": [
        {
          "output_type": "display_data",
          "data": {
            "image/png": "[encoded data removed]",
            "text/plain": [
              "<Figure size 432x288 with 1 Axes>"
            ]
          },
          "metadata": {
            "needs_background": "light"
          }
        }
      ]
    },
    {
      "cell_type": "markdown",
      "metadata": {
        "id": "mzxSUV0PD1cn"
      },
      "source": [
        "The K-Means algorithm resulted in similar silhouette scores across k values 2 through 13 as the HAC algorithm. Like the silhouette scores from the HAC algorithm, it favored more clusters (around 11 to 13). The hyperparameters I decided to test for scikit learn's K-Means algorithm were the type of algorithm, the number of iterations the algorithm runs with different centroid seeds ('n_init'), the max iterations, and the tolerance.  \n",
        "\n",
        "My model with algorithm='full', n_init=100, and max_iter=1000 peformed the best with a silhouette score of .775 over 13 clusters. "
      ]
    },
    {
      "cell_type": "markdown",
      "metadata": {
        "id": "JVyJNpnLhT0g"
      },
      "source": [
        "# 4 (Optional 5% extra credit) For your silhouette experiment above, write and use your own code to calculate the silhouette scores, rather than the SK or other version."
      ]
    },
    {
      "cell_type": "markdown",
      "metadata": {
        "id": "jP3aW68bg0Xd"
      },
      "source": [
        "Below is my custom class for calculating silhouette score. I have a check_clusters() method to separate the various clusters, a euclidean_distance() method, and a score() method to execute the silhouette algorithm"
      ]
    },
    {
      "cell_type": "code",
      "metadata": {
        "id": "JO8mJXe0Pobt"
      },
      "source": [
        "# Custom Class to calculate Silhouette score\n",
        "class Personal_Silhouette_Score():\n",
        "\n",
        "  def check_clusters(self,clusters, ind_cluster):\n",
        "      # remove the cluster that is being evaluated from the list of the other k-1 clusters\n",
        "      list_remaining = []\n",
        "      for clust in clusters:\n",
        "          try:\n",
        "              if np.any(np.not_equal(clust, ind_cluster)):\n",
        "                  list_remaining.append(clust)\n",
        "          except:\n",
        "              list_remaining.append(clust)\n",
        "      return list_remaining\n",
        "\n",
        "\n",
        "  def euclidean_distance(self,x1, x2):\n",
        "      return np.sqrt(np.sum((x1 - x2) ** 2))\n",
        "\n",
        "\n",
        "  def score(self, X, label):\n",
        "      # create initial list of all silhouette scores\n",
        "      all_silhouette_scores = []\n",
        "      K = len(np.unique(label))\n",
        "      \n",
        "      # initialize list of clusters with idxs \n",
        "      clusters = [[] for _ in range(K)]\n",
        "      for idx,x in enumerate(label):\n",
        "        clusters[x].append(idx)\n",
        "\n",
        "      # create list of feature values in each cluster\n",
        "      cluster_values = [[] for _ in range(K)]\n",
        "      for cluster_idx, cluster in enumerate(clusters):\n",
        "          cluster = X[cluster]\n",
        "          cluster_values[cluster_idx] = cluster\n",
        "      \n",
        "      # loop through each instance in each cluster\n",
        "      for ind_cluster in cluster_values:\n",
        "          dist_btwn_list = []\n",
        "          dist_among_list = []\n",
        "          remaining_clusters = self.check_clusters(cluster_values, ind_cluster)\n",
        "          for idx in range(len(ind_cluster)):\n",
        "              dist_temporary = []\n",
        "              for rem_cluster in remaining_clusters:\n",
        "                  distances_btwn = np.mean([self.euclidean_distance(ind_cluster[idx], point) for point in rem_cluster])\n",
        "                  dist_temporary.append(distances_btwn)\n",
        "              dist_btwn_list.append(min(dist_temporary))\n",
        "\n",
        "\n",
        "              # Check if cluster has more than one point\n",
        "              if len(ind_cluster) > 1:\n",
        "                  distances_among = [self.euclidean_distance(ind_cluster[idx], point) for point in ind_cluster]\n",
        "                  distances_among = np.mean([i for i in distances_among if i != 0])\n",
        "                  dist_among_list.append(distances_among)\n",
        "              else:\n",
        "                  dist_among_list.append(np.nan) # distance will be zero\n",
        "\n",
        "          silhouette_scores = []\n",
        "          check_nan = [math.isnan(x) for x in dist_among_list]\n",
        "          if any(check_nan):\n",
        "              sil = 0\n",
        "              silhouette_scores.append(sil)\n",
        "          else:\n",
        "              for x in range(len(ind_cluster)):\n",
        "                  a_i = dist_among_list[x]\n",
        "                  b_i = dist_btwn_list[x]\n",
        "                  sil = (b_i - a_i) / (max(a_i, b_i))\n",
        "                  silhouette_scores.append(sil)\n",
        "\n",
        "          all_silhouette_scores.append(silhouette_scores)\n",
        "          \n",
        "      aggregated_sil_scores = [item for sublist in all_silhouette_scores for item in sublist]\n",
        "      return sum(aggregated_sil_scores)/len(aggregated_sil_scores)"
      ],
      "execution_count": 5,
      "outputs": []
    }
  ]
}