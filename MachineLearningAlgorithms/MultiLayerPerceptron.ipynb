{
  "nbformat": 4,
  "nbformat_minor": 0,
  "metadata": {
    "colab": {
      "name": "lab2_backprop_final.ipynb",
      "provenance": [],
      "collapsed_sections": [
        "KROtiPiy2ldE",
        "JUPGAYAf5W3d",
        "O_hdgin66MJY",
        "4pSWbGzXF1nD",
        "081G03O3LA0G",
        "y59MoEqbLFVN",
        "pPiVBpu-LMgY",
        "5W_wb4l-LhFt"
      ]
    },
    "kernelspec": {
      "name": "python3",
      "display_name": "Python 3"
    },
    "language_info": {
      "name": "python"
    }
  },
  "cells": [
    {
      "cell_type": "code",
      "metadata": {
        "id": "mEZft2yV1vfE"
      },
      "source": [
        "from sklearn.base import BaseEstimator, ClassifierMixin\n",
        "from sklearn.neural_network import MLPClassifier\n",
        "import numpy as np\n",
        "import matplotlib.pyplot as plt\n",
        "from sklearn.model_selection import train_test_split\n",
        "import math\n",
        "from sklearn.model_selection import train_test_split"
      ],
      "execution_count": null,
      "outputs": []
    },
    {
      "cell_type": "markdown",
      "metadata": {
        "id": "pj9DUkps1yZg"
      },
      "source": [
        "# Final Class"
      ]
    },
    {
      "cell_type": "code",
      "metadata": {
        "id": "T-Sf381t10bN"
      },
      "source": [
        "import numpy as np\n",
        "import math\n",
        "\n",
        "class MLP_Final():\n",
        "    def __init__(self, num_inputs=3, num_hidden=[3,3], num_outputs=2, lr=0.1, momentum=0.5, shuffle=True, initial_weights=None, given_weights=None):  \n",
        "        # parameters\n",
        "        self.num_inputs = num_inputs\n",
        "        self.num_hidden = num_hidden\n",
        "        self.num_outputs = num_outputs\n",
        "        self.learning_rate = lr\n",
        "        self.momentum = momentum\n",
        "        self.shuffle = shuffle\n",
        "        self.initial_weights = initial_weights\n",
        "\n",
        "        # keeping track of layers\n",
        "        layers = [self.num_inputs] + self.num_hidden + [self.num_outputs]\n",
        "        self.layers = layers\n",
        "\n",
        "        # initialize the weights\n",
        "        self.weights = []\n",
        "        self.weights = self.initialize_weights(self.layers) if not initial_weights else self.initialize_weights(self.layers, True, given_weights)\n",
        "\n",
        "        # initialize activations, derivatives, and previous momentum\n",
        "        activations = []\n",
        "        for i in range(len(layers)):\n",
        "            a = np.zeros(layers[i]) \n",
        "            activations.append(a)\n",
        "        self.activations = activations\n",
        "\n",
        "        derivatives = []\n",
        "        for i in range(len(layers) - 1):\n",
        "            d = np.zeros((layers[i], layers[i+1]))\n",
        "            derivatives.append(d)\n",
        "        self.derivatives = derivatives\n",
        "        \n",
        "        previous_momentum_change = []\n",
        "        for i in range(len(self.layers) - 1):\n",
        "            m = np.zeros((self.layers[i] + 1, self.layers[i+1]))\n",
        "            previous_momentum_change.append(m)\n",
        "        self.previous_momentum_change = previous_momentum_change\n",
        "\n",
        "\n",
        "    def forward_prop(self, inputs):        \n",
        "        activations = inputs\n",
        "        self.activations[0] = np.append(activations, [1])\n",
        "\n",
        "        for i, w in enumerate(self.weights):\n",
        "            # calc net and add bias\n",
        "            activations = np.append(activations, [1])\n",
        "            net_inputs = np.dot(activations, w)\n",
        "\n",
        "            # calc activation\n",
        "            activations = self._sigmoid_function(net_inputs)\n",
        "  \n",
        "            # add bias\n",
        "            if i < len(self.weights)-1:\n",
        "              self.activations[i+1] = np.append(activations, [1])\n",
        "            else:\n",
        "              self.activations[i+1] = activations\n",
        "\n",
        "        return activations\n",
        "\n",
        "    def backpropogate(self, error, verbose=False):\n",
        "        for i in reversed(range(len(self.derivatives))):         \n",
        "            # output node \n",
        "            if i == len(self.derivatives) - 1:\n",
        "                activations = self.activations[i+1]\n",
        "            # hidden nodes\n",
        "            else:\n",
        "                activations = self.activations[i+1][:-1]\n",
        "\n",
        "            delta = error * self._sigmoid_derivative(activations)\n",
        "            delta_reshaped = delta.reshape(delta.shape[0], -1).T\n",
        "\n",
        "            current_activations = self.activations[i]\n",
        "            current_activations_reshaped = current_activations.reshape(current_activations.shape[0], -1)\n",
        "\n",
        "            self.derivatives[i] = np.dot(current_activations_reshaped, delta_reshaped)\n",
        "\n",
        "            #removing last weight associated with the bias \n",
        "            updated_weights = self.weights[i][:-1, :]\n",
        "            error = np.dot(delta, updated_weights.T)\n",
        "\n",
        "            if verbose:\n",
        "                print(\"Derivatives for W{}: {}\".format(i, self.derivatives[i]))\n",
        "\n",
        "\n",
        "    def gradient_descent(self, learning_rate):\n",
        "        for i in range(len(self.weights)):\n",
        "            previous_momentum_change = self.previous_momentum_change[i]\n",
        "            derivatives = self.derivatives[i]\n",
        "            self.weights[i] += derivatives * learning_rate + self.momentum * previous_momentum_change\n",
        "        \n",
        "            # keep track of last change\n",
        "            self.previous_momentum_change[i] = derivatives * learning_rate + self.momentum * previous_momentum_change\n",
        "\n",
        "\n",
        "    def train(self, inputs, targets, epochs=None):\n",
        "        # if the model had weights/deterministic\n",
        "        if self.initial_weights != None:\n",
        "            for i in range(epochs):\n",
        "                sum_error = 0\n",
        "                for (input, target) in zip(inputs, targets):    \n",
        "                    # forward propogate\n",
        "                    output = self.forward_prop(input)\n",
        "\n",
        "                    # calculate error\n",
        "                    error = target - output\n",
        "                    \n",
        "                    # backpropogation\n",
        "                    self.backpropogate(error)\n",
        "\n",
        "                    # apply gradient descent\n",
        "                    self.gradient_descent(self.learning_rate)\n",
        "\n",
        "                    sum_error += self._mse(target, output)\n",
        "                \n",
        "            \n",
        "        # if the model is not deterministic\n",
        "        else:\n",
        "            #initialize variables for while loop - this is for the stopping criteria\n",
        "            continue_loop = True\n",
        "\n",
        "            validation_inputs, validation_targets, inputs, targets = self._create_validation(inputs, targets)\n",
        "            \n",
        "            # while loop - use num_iters in while to count\n",
        "            num_iters = 0\n",
        "            sum_error_validation_last = 1\n",
        "            recording_validation_mse = []\n",
        "            recording_train_mse = []\n",
        "            recording_train_classified_correctly = []\n",
        "            recording_validation_classified_correctly = []\n",
        "            \n",
        "            self.bestiteration = [1,0] # trying this new thing out\n",
        "            self.bestWeights = []\n",
        "\n",
        "            while continue_loop:                \n",
        "                if (self.shuffle == True):\n",
        "                    inputs, targets = self._shuffle(inputs, targets)\n",
        "                \n",
        "                # Loop through\n",
        "                predicted_outputs_train = []\n",
        "                sum_error_train = 0\n",
        "                for (input, target) in zip(inputs, targets):    \n",
        "                    # forward propogate\n",
        "                    output = self.forward_prop(input)\n",
        "                    predicted_outputs_train.append(output) # recording predicted outputs of train\n",
        "                    sum_error_train += self._mse(output, target)\n",
        "\n",
        "                    # calculate error\n",
        "                    error = target - output\n",
        "                    \n",
        "                    # backpropogation\n",
        "                    self.backpropogate(error) \n",
        "\n",
        "                    # apply gradient descent - getting rid of method\n",
        "                    self.gradient_descent(self.learning_rate)\n",
        "\n",
        "                # keep track of mse of train\n",
        "                error_train = (sum_error_train/len(inputs))\n",
        "                recording_train_mse.append(error_train)\n",
        "\n",
        "                # keep track of good wieghts for stopping criteria   \n",
        "                good_weights = self.weights\n",
        "                \n",
        "\n",
        "\n",
        "                # mse of validation\n",
        "                sum_error_validation = 0\n",
        "                validation_outputs_predicted = []\n",
        "                for (input_val, target_val) in zip(validation_inputs, validation_targets):\n",
        "                    output_val = self.forward_prop(input_val)\n",
        "                    validation_outputs_predicted.append(output_val)\n",
        "                    sum_error_validation += self._mse(target_val, output_val)\n",
        "                \n",
        "                error = (sum_error_validation/len(validation_inputs))\n",
        "                recording_validation_mse.append(error)\n",
        "\n",
        "\n",
        "                # classification accuracy of training\n",
        "                recording_train_classified_correctly.append(self.percent_classified_binary_targets(predicted_outputs_train, targets))\n",
        "\n",
        "                # classification accuracy of validation\n",
        "                recording_validation_classified_correctly.append(self.percent_classified_binary_targets(validation_outputs_predicted, validation_targets))\n",
        "\n",
        "\n",
        "                # stopping criteria\n",
        "                if error < self.bestiteration[0]:\n",
        "                    # print('going into loop.....')\n",
        "                    noChanges = 0\n",
        "                    self.bestiteration[0] = error\n",
        "                    self.bestiteration[1] = num_iters\n",
        "                    self.bestWeights = good_weights\n",
        "                    \n",
        "                else:\n",
        "                    noChanges += 1\n",
        "                \n",
        "                num_iters += 1\n",
        "\n",
        "                if noChanges > 5:\n",
        "                    continue_loop = False\n",
        "\n",
        "            self.record_validation_mse = recording_validation_mse\n",
        "            self.record_train_mse = recording_train_mse\n",
        "            \n",
        "            self.record_train_classified_correctly = recording_train_classified_correctly\n",
        "            self.record_validation_classified_correctly = recording_validation_classified_correctly\n",
        "\n",
        "\n",
        "    def _create_validation(self, inputs, targets):\n",
        "        num_targets = self.num_outputs\n",
        "\n",
        "        together = np.concatenate((inputs, targets), axis=1)\n",
        "        number_rows = together.shape[0]\n",
        "        random_indeces = np.random.choice(number_rows, size=math.floor(len(together)*.15), replace=False)\n",
        "\n",
        "        validation_array = together[random_indeces,:]\n",
        "\n",
        "        vali_input = validation_array[:,:-num_targets]\n",
        "        vali_output = validation_array[:,-num_targets:]\n",
        "\n",
        "        testing_set = np.delete(together, random_indeces, 0)\n",
        "        testing_input = testing_set[:,:-num_targets]\n",
        "        testing_target = testing_set[:,-num_targets:]\n",
        "        \n",
        "        return vali_input, vali_output, testing_input, testing_target\n",
        "\n",
        "    def _shuffle(self, inputs, targets):\n",
        "        np_shuffled = np.concatenate((inputs, targets), axis=1)\n",
        "        np.random.shuffle(np_shuffled)\n",
        "\n",
        "        split_input = inputs.shape[1]\n",
        "        split_target = targets.shape[1]\n",
        "        inputs = np_shuffled[:,:split_input]\n",
        "        targets = np_shuffled[:,-split_target:]\n",
        "\n",
        "        return inputs, targets\n",
        "\n",
        "    # adding this to score the test inputs\n",
        "    def forward_prop_testing(self, inputs):        \n",
        "        activations = inputs\n",
        "        self.activations[0] = np.append(activations, [1])\n",
        "\n",
        "        for i, w in enumerate(self.bestWeights):\n",
        "            activations = np.append(activations, [1])\n",
        "            net_inputs = np.dot(activations, w)\n",
        "\n",
        "            # calc activation\n",
        "            activations = self._sigmoid_function(net_inputs)\n",
        "\n",
        "            # trying to fix the bias problem, but this is for sure not a good idea w/ more than 1 iteration\n",
        "            if i < len(self.weights)-1:\n",
        "              self.activations[i+1] = np.append(activations, [1])\n",
        "            else:\n",
        "              self.activations[i+1] = activations\n",
        "\n",
        "        return activations\n",
        "    \n",
        "    \n",
        "    # method to try to get percent classified correclty with X_test\n",
        "    def percent_classified_binary_targets(self, model_outputs, y_test):\n",
        "        # get correct data types\n",
        "        if isinstance(model_outputs, list) == True:\n",
        "            model_outputs = np.vstack(model_outputs)\n",
        "        if isinstance(y_test, list) == True:\n",
        "            y_test = np.vstack(y_test)\n",
        "\n",
        "        if model_outputs.shape[1] > 1:\n",
        "            model_outputs_new = np.zeros_like(model_outputs)\n",
        "            model_outputs_new[np.arange(len(model_outputs)), model_outputs.argmax(1)] = 1\n",
        "            model_outputs = model_outputs_new\n",
        "        else:\n",
        "            model_outputs = np.round(model_outputs, 0)\n",
        "\n",
        "        correct = 0\n",
        "        for (output, y) in zip(model_outputs, y_test):\n",
        "            # check to see if target has multiple classes\n",
        "            if model_outputs.shape[1] > 1:\n",
        "                comparison_multiple_outputs = output == y\n",
        "                if comparison_multiple_outputs.all() == True:\n",
        "                    correct += 1\n",
        "            # checking for single output class\n",
        "            else:\n",
        "                if output == y:\n",
        "                    correct += 1\n",
        "        return (correct/len(model_outputs))\n",
        "\n",
        "    # this is a new method, didn't change anything else in this class - note: i dont think I use this\n",
        "    def predict(self, inputs):\n",
        "        output_list = []\n",
        "        for input in inputs:\n",
        "            output = self.forward_prop_testing(input)\n",
        "            # print(f'output of the predict method: {output}')\n",
        "            # print()\n",
        "            output_list.append(output)\n",
        "        # return output_list\n",
        "        return np.vstack(output_list)\n",
        "\n",
        "\n",
        "    # new method for getting error of test data ... but idk if this is actually necessary... refer to \"perecent_classified_binary_targets() method\"\n",
        "    def predict_test(self, inputs, targets):\n",
        "        error_test = 0\n",
        "        for (input, target) in zip(inputs, targets):\n",
        "            output_test = self.forward_prop(input)\n",
        "            error_test += self._mse(target, output_test)\n",
        "        \n",
        "        error = (error_test / len(inputs))\n",
        "        return error\n",
        "\n",
        "    def _mse(self, target, output):\n",
        "        return np.average((target - output)**2)\n",
        "\n",
        "    def _sigmoid_derivative(self, x):\n",
        "        return x * (1.0 - x)\n",
        "\n",
        "    def _sigmoid_function(self, x):\n",
        "        return 1 / (1 + np.exp(-x))\n",
        "\n",
        "    def initialize_weights(self, layers, deterministic=False, given_weights=None):\n",
        "        for i in range(len(layers) - 1):\n",
        "            if deterministic:\n",
        "                w = np.full((layers[i] + 1, layers[i+1]), given_weights)\n",
        "                self.weights.append(w)\n",
        "            else:\n",
        "                mu, sigma = 0, 0.05 # mean and standard deviation\n",
        "                w = np.random.normal(mu, sigma, size=(layers[i] + 1, layers[i+1]))\n",
        "                self.weights.append(w)\n",
        "        return self.weights\n",
        "      \n",
        "    def get_weights(self):\n",
        "        return self.weights\n",
        "\n",
        "    # ****This is only for my new method of stopping criteria****\n",
        "    def get_best_weights(self):\n",
        "        return self.thisbetterwork\n",
        "    \n",
        "    def get_best_iteration(self):\n",
        "        return self.bestiteration\n",
        "\n",
        "    def get_validationset_mse(self):\n",
        "        return self.record_validation_mse\n",
        "\n",
        "    def get_train_mse(self):\n",
        "        return self.record_train_mse\n",
        "\n",
        "    def get_validation_percent_classified(self):\n",
        "        return self.record_validation_classified_correctly\n",
        "\n",
        "    def get_train_percent_classified(self):\n",
        "        return self.record_train_classified_correctly\n",
        "  "
      ],
      "execution_count": null,
      "outputs": []
    },
    {
      "cell_type": "markdown",
      "metadata": {
        "id": "afUcs_RfEiVg"
      },
      "source": [
        "My MLP model has several additional methods to the original skeleton code. In the constructor I initiate the number of inputs, hidden layers, outputs, and track the learning rate, and momentum rate. In the train method, I check to see if the model is deterministic or not. If it is, the user can specify a discrete mumber of epochs. If not, I go into my stopping criteria. \n",
        "\n",
        "My stopping criteria takes the validation's MSE and checks to see if each subsequent epoch either improved upon the MSE or got worse. If it imporoved, I update the weights and continued the model. If the MSE gets worse, I start a counter that allowed for 5 epochs of declining MSE until stopping.\n",
        "\n",
        "In the training method, I reference forward_prop, backpropogate, and gradient_descent methods, which apply the MLP algorithm to each row in the data and update the weights after each row. "
      ]
    },
    {
      "cell_type": "markdown",
      "metadata": {
        "id": "KROtiPiy2ldE"
      },
      "source": [
        "# 1.1.1 Debug"
      ]
    },
    {
      "cell_type": "code",
      "metadata": {
        "id": "RhUsDjqh2a_M",
        "colab": {
          "base_uri": "https://localhost:8080/"
        },
        "outputId": "e689ee62-77ef-45b7-986d-1e5a23bc04d7"
      },
      "source": [
        "import pandas as pd\n",
        "from scipy.io.arff import loadarff\n",
        "\n",
        "!curl https://raw.githubusercontent.com/cs472ta/CS472/master/datasets/linsep2nonorigin.arff --output debug_data.arff\n",
        "\n",
        "dataset = loadarff('debug_data.arff')\n",
        "df_debug = pd.DataFrame(dataset[0])\n",
        "df_debug = df_debug.apply(pd.to_numeric)\n",
        "\n",
        "\n",
        "X = df_debug.iloc[:,:-1].to_numpy()\n",
        "y = df_debug.iloc[:,-1].to_numpy()\n",
        "y = np.reshape(y, (len(y),1))"
      ],
      "execution_count": null,
      "outputs": [
        {
          "output_type": "stream",
          "name": "stdout",
          "text": [
            "  % Total    % Received % Xferd  Average Speed   Time    Time     Time  Current\n",
            "                                 Dload  Upload   Total   Spent    Left  Speed\n",
            "\r  0     0    0     0    0     0      0      0 --:--:-- --:--:-- --:--:--     0\r100   197  100   197    0     0   1313      0 --:--:-- --:--:-- --:--:--  1322\n"
          ]
        }
      ]
    },
    {
      "cell_type": "code",
      "metadata": {
        "colab": {
          "base_uri": "https://localhost:8080/"
        },
        "id": "H-9jmSa42yyE",
        "outputId": "bf3a5108-9a93-4a74-bf17-6eb84947fbf0"
      },
      "source": [
        "# MLP Debug 1 output\n",
        "mlp_debug = MLP_Final(X.shape[1], [4], y.shape[1], 0.1, 0.5, initial_weights=True, given_weights=0.0)\n",
        "\n",
        "\n",
        "# train on dataset\n",
        "inputs = X\n",
        "targets = y\n",
        "\n",
        "mlp_debug.train(inputs, targets, 10)\n",
        "mlp_debug.get_weights()"
      ],
      "execution_count": null,
      "outputs": [
        {
          "output_type": "execute_result",
          "data": {
            "text/plain": [
              "[array([[-8.81779797e-05, -8.81779797e-05, -8.81779797e-05,\n",
              "         -8.81779797e-05],\n",
              "        [ 7.82757731e-04,  7.82757731e-04,  7.82757731e-04,\n",
              "          7.82757731e-04],\n",
              "        [-3.94353645e-03, -3.94353645e-03, -3.94353645e-03,\n",
              "         -3.94353645e-03]]), array([[-0.01060888],\n",
              "        [-0.01060888],\n",
              "        [-0.01060888],\n",
              "        [-0.01060888],\n",
              "        [-0.02145495]])]"
            ]
          },
          "metadata": {},
          "execution_count": 9
        }
      ]
    },
    {
      "cell_type": "code",
      "metadata": {
        "colab": {
          "base_uri": "https://localhost:8080/"
        },
        "id": "j0kGoGl33JpP",
        "outputId": "99a395e0-8ec6-4220-b0e9-4a9ed0a62c84"
      },
      "source": [
        "# MLP Debug 2 outputs\n",
        "!curl https://raw.githubusercontent.com/cs472ta/CS472/master/datasets/linsep2nonorigin.arff --output debug_data.arff\n",
        "\n",
        "dataset = loadarff('debug_data.arff')\n",
        "df_debug2 = pd.DataFrame(dataset[0])\n",
        "df_debug2 = df_debug2.apply(pd.to_numeric)\n",
        "\n",
        "one_hot = pd.get_dummies(df_debug2['class'])\n",
        "\n",
        "# drop 'class' and add one_hot encodings to df\n",
        "df_debug2= df_debug2.drop('class', axis=1)\n",
        "df_debug2 = df_debug2.join(one_hot)\n",
        "\n",
        "X2 = df_debug2.iloc[:,:-2].to_numpy()\n",
        "y2 = df_debug2.iloc[:,-2:].to_numpy()\n",
        "\n",
        "mlp_debug2 = MLP_Final(X2.shape[1], [4], y2.shape[1], 0.1, 0.5, initial_weights=True, given_weights=0.0)\n",
        "\n",
        "mlp_debug2.train(inputs, targets, 10)\n",
        "\n",
        "# print weights\n",
        "mlp_debug2.get_weights()\n",
        "\n"
      ],
      "execution_count": null,
      "outputs": [
        {
          "output_type": "stream",
          "name": "stdout",
          "text": [
            "  % Total    % Received % Xferd  Average Speed   Time    Time     Time  Current\n",
            "                                 Dload  Upload   Total   Spent    Left  Speed\n",
            "\r  0     0    0     0    0     0      0      0 --:--:-- --:--:-- --:--:--     0\r  0     0    0     0    0     0      0      0 --:--:-- --:--:-- --:--:--     0\r100   197  100   197    0     0   4191      0 --:--:-- --:--:-- --:--:--  4104\n"
          ]
        },
        {
          "output_type": "execute_result",
          "data": {
            "text/plain": [
              "[array([[-0.00018149, -0.00018149, -0.00018149, -0.00018149],\n",
              "        [ 0.00157468,  0.00157468,  0.00157468,  0.00157468],\n",
              "        [-0.00788218, -0.00788218, -0.00788218, -0.00788218]]),\n",
              " array([[-0.01050642, -0.01050642],\n",
              "        [-0.01050642, -0.01050642],\n",
              "        [-0.01050642, -0.01050642],\n",
              "        [-0.01050642, -0.01050642],\n",
              "        [-0.02148778, -0.02148778]])]"
            ]
          },
          "metadata": {},
          "execution_count": 10
        }
      ]
    },
    {
      "cell_type": "markdown",
      "metadata": {
        "id": "JUPGAYAf5W3d"
      },
      "source": [
        "# 1.1.2 Evaluation"
      ]
    },
    {
      "cell_type": "code",
      "metadata": {
        "colab": {
          "base_uri": "https://localhost:8080/"
        },
        "id": "e5M7eC985fr5",
        "outputId": "ebeed99d-099c-48e5-b21a-ef4409ece54f"
      },
      "source": [
        "import pandas as pd\n",
        "from scipy.io.arff import loadarff\n",
        "\n",
        "!curl https://raw.githubusercontent.com/cs472ta/CS472/master/datasets/data_banknote_authentication.arff --output eval_data.arff\n",
        "\n",
        "dataset = loadarff('eval_data.arff')\n",
        "df_eval = pd.DataFrame(dataset[0])\n",
        "df_eval = df_eval.apply(pd.to_numeric)\n",
        "\n",
        "X = df_eval.iloc[:,:-1].to_numpy()\n",
        "y = df_eval.iloc[:,-1].to_numpy()\n",
        "y = np.reshape(y, (len(y),1))"
      ],
      "execution_count": null,
      "outputs": [
        {
          "output_type": "stream",
          "name": "stdout",
          "text": [
            "  % Total    % Received % Xferd  Average Speed   Time    Time     Time  Current\n",
            "                                 Dload  Upload   Total   Spent    Left  Speed\n",
            "\r  0     0    0     0    0     0      0      0 --:--:-- --:--:-- --:--:--     0\r100 46685  100 46685    0     0   321k      0 --:--:-- --:--:-- --:--:--  321k\n"
          ]
        }
      ]
    },
    {
      "cell_type": "code",
      "metadata": {
        "colab": {
          "base_uri": "https://localhost:8080/"
        },
        "id": "dtCNzQAl5o4E",
        "outputId": "50eb965e-d380-4588-8c63-fd6b238a9310"
      },
      "source": [
        "mlp_eval = MLP_Final(X.shape[1], [4], y.shape[1], 0.1, 0.5, initial_weights=True, given_weights=0.0)\n",
        "\n",
        "mlp_eval.train(X, y, 10)\n",
        "\n",
        "# print weights\n",
        "mlp_eval.get_weights()"
      ],
      "execution_count": null,
      "outputs": [
        {
          "output_type": "execute_result",
          "data": {
            "text/plain": [
              "[array([[ 1.30932366,  1.30932366,  1.30932366,  1.30932366],\n",
              "        [ 0.80601033,  0.80601033,  0.80601033,  0.80601033],\n",
              "        [ 0.92744187,  0.92744187,  0.92744187,  0.92744187],\n",
              "        [ 0.22165294,  0.22165294,  0.22165294,  0.22165294],\n",
              "        [-1.45313731, -1.45313731, -1.45313731, -1.45313731]]),\n",
              " array([[-1.88512443],\n",
              "        [-1.88512443],\n",
              "        [-1.88512443],\n",
              "        [-1.88512443],\n",
              "        [ 4.57969955]])]"
            ]
          },
          "metadata": {},
          "execution_count": 18
        }
      ]
    },
    {
      "cell_type": "markdown",
      "metadata": {
        "id": "O_hdgin66MJY"
      },
      "source": [
        "# 2 Backpropogation on the Iris Classification Problem"
      ]
    },
    {
      "cell_type": "code",
      "metadata": {
        "colab": {
          "base_uri": "https://localhost:8080/"
        },
        "id": "2DQA54hQ6UjW",
        "outputId": "a5a8b71c-6dc4-4a4e-d903-9c849eb215a0"
      },
      "source": [
        "import pandas as pd\n",
        "from scipy.io.arff import loadarff\n",
        "import numpy as np\n",
        "\n",
        "!curl https://raw.githubusercontent.com/cs472ta/CS472/master/datasets/iris.arff --output iris.arff\n",
        "\n",
        "dataset = loadarff('iris.arff')\n",
        "df_iris = pd.DataFrame(dataset[0])\n",
        "\n",
        "# cleaning iris\n",
        "str_df = df_iris.select_dtypes([np.object])\n",
        "str_df = str_df.stack().str.decode('utf-8').unstack()\n",
        "\n",
        "for col in str_df:\n",
        "    df_iris[col] = str_df[col]\n",
        "\n",
        "dummies = pd.get_dummies(df_iris['class'])\n",
        "df_iris_new = df_iris.drop(columns=['class'])\n",
        "\n",
        "df_iris = pd.concat([df_iris_new,dummies],axis='columns')"
      ],
      "execution_count": null,
      "outputs": [
        {
          "output_type": "stream",
          "name": "stdout",
          "text": [
            "  % Total    % Received % Xferd  Average Speed   Time    Time     Time  Current\n",
            "                                 Dload  Upload   Total   Spent    Left  Speed\n",
            "\r  0     0    0     0    0     0      0      0 --:--:-- --:--:-- --:--:--     0\r100  7485  100  7485    0     0   152k      0 --:--:-- --:--:-- --:--:--  152k\n"
          ]
        }
      ]
    },
    {
      "cell_type": "code",
      "metadata": {
        "id": "xv04gOL76Xdj"
      },
      "source": [
        "from sklearn.model_selection import train_test_split\n",
        "\n",
        "X_iris = df_iris.iloc[:,:-3].to_numpy()\n",
        "y_iris = df_iris.iloc[:,-3:].to_numpy()\n",
        "\n",
        "# split data up in train and test\n",
        "x_train, x_test, y_train, y_test = train_test_split(X_iris, y_iris, test_size=0.20)\n",
        "\n",
        "\n",
        "mlp_iris = MLP_Final(X_iris.shape[1], [X_iris.shape[1]*2], y_iris.shape[1], .1, 0.5)\n",
        "\n",
        "# train on training data\n",
        "inputs = x_train\n",
        "targets = y_train\n",
        "\n",
        "# train model\n",
        "mlp_iris.train(inputs, targets)\n",
        "\n",
        "# get validation MSE\n",
        "mse_iris_val = mlp_iris.get_validationset_mse()\n",
        "mse_iris_train = mlp_iris.get_train_mse()"
      ],
      "execution_count": null,
      "outputs": []
    },
    {
      "cell_type": "markdown",
      "metadata": {
        "id": "FGw2kViC74h7"
      },
      "source": [
        "MSE (mean squared error) over epochs from the training set and validation set"
      ]
    },
    {
      "cell_type": "code",
      "metadata": {
        "colab": {
          "base_uri": "https://localhost:8080/",
          "height": 294
        },
        "id": "X2VdLuILIGDk",
        "outputId": "a1b478ad-aa93-4ad3-a751-486f7c592897"
      },
      "source": [
        "import matplotlib.pyplot as plt\n",
        "\n",
        "\n",
        "\n",
        "\n",
        "plt.plot(np.arange(len(mse_iris_val)), mse_iris_val, label=\"Validation MSE\")\n",
        "plt.plot(np.arange(len(mse_iris_train)), mse_iris_train, label=\"Train MSE\")\n",
        "\n",
        "\n",
        "plt.title(\"Validation Set & Train MSE vs. Epochs Trained\")\n",
        "plt.xlabel(\"Epochs Trained\")\n",
        "plt.ylabel(\"Validation & Train MSE\")\n",
        "plt.show()"
      ],
      "execution_count": null,
      "outputs": [
        {
          "output_type": "display_data",
          "data": {
            "image/png": "[encoded data removed]",
            "text/plain": [
              "<Figure size 432x288 with 1 Axes>"
            ]
          },
          "metadata": {
            "needs_background": "light"
          }
        }
      ]
    },
    {
      "cell_type": "markdown",
      "metadata": {
        "id": "uK5ZIEWe8eR6"
      },
      "source": [
        "Classification accuracy (% classified correctly) over epochs from the training set and validation set"
      ]
    },
    {
      "cell_type": "code",
      "metadata": {
        "colab": {
          "base_uri": "https://localhost:8080/",
          "height": 294
        },
        "id": "Q5BMofgB8hMG",
        "outputId": "41bbc3a1-4443-4383-f57f-fcd5d5293f50"
      },
      "source": [
        "training_classified = mlp_iris.get_train_percent_classified()\n",
        "validation_classified = mlp_iris.get_validation_percent_classified()\n",
        "\n",
        "plt.plot(np.arange(len(training_classified)), training_classified, label=\"Training Classification Rate\")\n",
        "plt.plot(np.arange(len(validation_classified)), validation_classified, label=\"Validation Classification Rate\")\n",
        "\n",
        "plt.title(\"Training and Validation Classification Rate vs. Epochs Trained\")\n",
        "plt.xlabel(\"Epochs Trained\")\n",
        "plt.ylabel(\"Percent Classified Correctly\")\n",
        "plt.legend()\n",
        "plt.show()"
      ],
      "execution_count": null,
      "outputs": [
        {
          "output_type": "display_data",
          "data": {
            "image/png": "[encoded data removed]",
            "text/plain": [
              "<Figure size 432x288 with 1 Axes>"
            ]
          },
          "metadata": {
            "needs_background": "light"
          }
        }
      ]
    },
    {
      "cell_type": "markdown",
      "metadata": {
        "id": "jv_mCJ1xE3y7"
      },
      "source": [
        "Test Accuracy"
      ]
    },
    {
      "cell_type": "code",
      "metadata": {
        "colab": {
          "base_uri": "https://localhost:8080/"
        },
        "id": "Q12FUB-OE5sr",
        "outputId": "cf1aefd8-d2c7-4215-c9f2-1c795760b106"
      },
      "source": [
        "# X_test\n",
        "test_outputs = mlp_iris.predict(x_test)\n",
        "\n",
        "# Get test accuracy\n",
        "test_accuracy = mlp_iris.percent_classified_binary_targets(test_outputs, y_test)\n",
        "print(f'Test accuracy: {100*round(test_accuracy,4)}%')"
      ],
      "execution_count": null,
      "outputs": [
        {
          "output_type": "stream",
          "name": "stdout",
          "text": [
            "Test accuracy: 96.67%\n"
          ]
        }
      ]
    },
    {
      "cell_type": "markdown",
      "metadata": {
        "id": "1-siU_LfC6dJ"
      },
      "source": [
        "### Notes on section 2\n",
        "\n",
        "My test accuracy for the Iris dataset was 96.67%. I used a LR of 0.1, an 80/20 split, a validation that used 15% of the training data, graphed the MSE of the train and validation, and finally graphed the classification rate of the train and validation.\n",
        "\n",
        "My stopping criteria took the validation's MSE and checked to see if each subsequent epoch either improved upon the MSE or got worse. If it imporoved, I kept updating the weights and continued the model. If the MSE got worse, I started a counter that allowed for 5 epochs of declining MSE until stopping. Once the model stops iterating through epochs, I take the weights from the best model (5 epochs previous to the from the time of stopping)."
      ]
    },
    {
      "cell_type": "markdown",
      "metadata": {
        "id": "4pSWbGzXF1nD"
      },
      "source": [
        "# 3 Working with Vowel Dataset - Learning Rate"
      ]
    },
    {
      "cell_type": "code",
      "metadata": {
        "colab": {
          "base_uri": "https://localhost:8080/"
        },
        "id": "uZ7fSsdLF66I",
        "outputId": "f6837335-aca9-4a63-ff1e-a330e17e341a"
      },
      "source": [
        "import pandas as pd\n",
        "from scipy.io.arff import loadarff\n",
        "import numpy as np\n",
        "from sklearn.model_selection import train_test_split\n",
        "\n",
        "!curl https://raw.githubusercontent.com/cs472ta/CS472/master/datasets/vowel.arff --output vowel.arff\n",
        "\n",
        "dataset = loadarff('vowel.arff')\n",
        "df_vowel = pd.DataFrame(dataset[0])\n",
        "\n",
        "# clean vowel\n",
        "str_df = df_vowel.select_dtypes([np.object])\n",
        "str_df = str_df.stack().str.decode('utf-8').unstack()\n",
        "\n",
        "for col in str_df:\n",
        "    df_vowel[col] = str_df[col]\n",
        "\n",
        "\n",
        "# create dummy for sex\n",
        "dummies_vowel = pd.get_dummies(df_vowel['Sex'])\n",
        "# dummies_vowel.drop(columns=['Female'], inplace=True) # i think i need to drop one of the dummy columns... actually might just be for linear regression\n",
        "df_vowel_new = df_vowel.drop(columns=['Sex'])\n",
        "\n",
        "df_vowel = pd.concat([df_vowel_new,dummies_vowel], axis='columns')\n",
        "\n",
        "# create dummy for class\n",
        "dummies_class = pd.get_dummies(df_vowel['Class'])\n",
        "df_vowel_new = df_vowel.drop(columns=['Class'])\n",
        "\n",
        "df_vowel = pd.concat([df_vowel_new,dummies_class], axis='columns')\n",
        "\n",
        "df_vowel.drop(['Train or Test', 'Speaker Number'], axis=1, inplace=True)\n",
        "\n",
        "X = df_vowel.iloc[:,:-11].to_numpy()\n",
        "y = df_vowel.iloc[:,-11:].to_numpy()\n"
      ],
      "execution_count": null,
      "outputs": [
        {
          "output_type": "stream",
          "name": "stdout",
          "text": [
            "  % Total    % Received % Xferd  Average Speed   Time    Time     Time  Current\n",
            "                                 Dload  Upload   Total   Spent    Left  Speed\n",
            "\r  0     0    0     0    0     0      0      0 --:--:-- --:--:-- --:--:--     0\r100 91402  100 91402    0     0   417k      0 --:--:-- --:--:-- --:--:--  417k\n"
          ]
        }
      ]
    },
    {
      "cell_type": "code",
      "metadata": {
        "id": "gIR3923fNdnu"
      },
      "source": [
        "# random split\n",
        "x_train, x_test, y_train, y_test = train_test_split(X, y, test_size=0.20)\n",
        "\n",
        "# call model\n",
        "mlp_vowel_learning_rates1 = MLP_Final(x_train.shape[1], [x_train.shape[1]*2], y_train.shape[1], 1.1, 0.5)\n",
        "\n",
        "                                        \n",
        "# train model\n",
        "mlp_vowel_learning_rates1.train(x_train, y_train)\n",
        "\n",
        "# get mse\n",
        "mse_lr1 = mlp_vowel_learning_rates1.get_validationset_mse()\n",
        "mse_lr1"
      ],
      "execution_count": null,
      "outputs": []
    },
    {
      "cell_type": "code",
      "metadata": {
        "id": "S8la4sY6NdhO"
      },
      "source": [
        "# random split\n",
        "x_train, x_test, y_train, y_test = train_test_split(X, y, test_size=0.20)\n",
        "\n",
        "# call model\n",
        "mlp_vowel_learning_rates2 = MLP_Final(x_train.shape[1], [x_train.shape[1]*2], y_train.shape[1], .822, 0.5)\n",
        "\n",
        "                                        \n",
        "# train model\n",
        "mlp_vowel_learning_rates2.train(x_train, y_train)\n",
        "\n",
        "# get mse\n",
        "mse_lr2 = mlp_vowel_learning_rates2.get_validationset_mse()\n",
        "mse_lr2"
      ],
      "execution_count": null,
      "outputs": []
    },
    {
      "cell_type": "code",
      "metadata": {
        "id": "YUknTO1ENdVi"
      },
      "source": [
        "# random split\n",
        "x_train, x_test, y_train, y_test = train_test_split(X, y, test_size=0.20)\n",
        "\n",
        "# call model\n",
        "mlp_vowel_learning_rates3 = MLP_Final(x_train.shape[1], [x_train.shape[1]*2], y_train.shape[1], .622, 0.5)\n",
        "\n",
        "                                        \n",
        "# train model\n",
        "mlp_vowel_learning_rates3.train(x_train, y_train)\n",
        "\n",
        "# get mse\n",
        "mse_lr3 = mlp_vowel_learning_rates3.get_validationset_mse()\n",
        "mse_lr3"
      ],
      "execution_count": null,
      "outputs": []
    },
    {
      "cell_type": "code",
      "metadata": {
        "id": "03MvppguN4pm"
      },
      "source": [
        "# random split\n",
        "x_train4, x_test4, y_train4, y_test4 = train_test_split(X, y, test_size=0.20)\n",
        "\n",
        "# call model\n",
        "mlp_vowel_learning_rates4 = MLP_Final(x_train4.shape[1], [x_train4.shape[1]*2], y_train4.shape[1], .499, 0.5)\n",
        "\n",
        "                                        \n",
        "# train model\n",
        "mlp_vowel_learning_rates4.train(x_train4, y_train4)\n",
        "\n",
        "# get mse\n",
        "mse_lr4 = mlp_vowel_learning_rates4.get_validationset_mse()\n",
        "mse_lr4"
      ],
      "execution_count": null,
      "outputs": []
    },
    {
      "cell_type": "code",
      "metadata": {
        "id": "UkGGG6ClMjqR"
      },
      "source": [
        "# random split\n",
        "x_train5, x_test5, y_train5, y_test5 = train_test_split(X, y, test_size=0.20)\n",
        "\n",
        "# call model\n",
        "mlp_vowel_learning_rates5 = MLP_Final(x_train5.shape[1], [x_train5.shape[1]*2], y_train5.shape[1], .211, 0.5)\n",
        "\n",
        "                                        \n",
        "# train model\n",
        "mlp_vowel_learning_rates5.train(x_train5, y_train5)\n",
        "\n",
        "# get mse\n",
        "mse_lr5 = mlp_vowel_learning_rates5.get_validationset_mse()\n",
        "mse_lr5"
      ],
      "execution_count": null,
      "outputs": []
    },
    {
      "cell_type": "code",
      "metadata": {
        "id": "79tr6cRSOBze"
      },
      "source": [
        "# random split\n",
        "x_train6, x_test6, y_train6, y_test6 = train_test_split(X, y, test_size=0.20)\n",
        "\n",
        "# call model\n",
        "mlp_vowel_learning_rates6 = MLP_Final(x_train6.shape[1], [x_train6.shape[1]*2], y_train6.shape[1], .15, 0.5)\n",
        "\n",
        "                                        \n",
        "# train model\n",
        "mlp_vowel_learning_rates6.train(x_train6, y_train6)\n",
        "\n",
        "# get mse\n",
        "mse_lr6 = mlp_vowel_learning_rates6.get_validationset_mse()\n",
        "mse_lr6"
      ],
      "execution_count": null,
      "outputs": []
    },
    {
      "cell_type": "code",
      "metadata": {
        "id": "zEbnU04W5UjP"
      },
      "source": [
        "# random split\n",
        "x_train, x_test, y_train, y_test = train_test_split(X, y, test_size=0.20)\n",
        "\n",
        "# call model\n",
        "mlp_vowel_learning_rates7 = MLP_Final(x_train.shape[1], [x_train.shape[1]*2], y_train.shape[1], .05, 0.5)\n",
        "\n",
        "                                        \n",
        "# train model\n",
        "mlp_vowel_learning_rates7.train(x_train, y_train)\n",
        "\n",
        "# get mse\n",
        "mse_lr7 = mlp_vowel_learning_rates7.get_validationset_mse()\n",
        "mse_lr7"
      ],
      "execution_count": null,
      "outputs": []
    },
    {
      "cell_type": "code",
      "metadata": {
        "colab": {
          "base_uri": "https://localhost:8080/",
          "height": 294
        },
        "id": "BuLLg19P2Gr7",
        "outputId": "59e13991-a582-43a7-f541-e94863ff8340"
      },
      "source": [
        "# all together\n",
        "\n",
        "plt.plot(np.arange(len(mse_lr1)), mse_lr1, label=\"lr 1.1\")\n",
        "plt.plot(np.arange(len(mse_lr2)), mse_lr2, label=\"lr .822\")\n",
        "plt.plot(np.arange(len(mse_lr3)), mse_lr3, label=\"lr .622\")\n",
        "plt.plot(np.arange(len(mse_lr4)), mse_lr4, label=\"lr .499\")\n",
        "plt.plot(np.arange(len(mse_lr5)), mse_lr5, label=\"lr .211\")\n",
        "plt.plot(np.arange(len(mse_lr6)), mse_lr6, label=\"lr .15\")\n",
        "plt.plot(np.arange(len(mse_lr7)), mse_lr7, label=\"lr .05\")\n",
        "\n",
        "plt.title(\"Validation Set MSE vs. Epochs Trained\")\n",
        "plt.xlabel(\"Epochs Trained\")\n",
        "plt.ylabel(\"Validation Set MSE\")\n",
        "plt.legend()\n",
        "plt.show()"
      ],
      "execution_count": null,
      "outputs": [
        {
          "output_type": "display_data",
          "data": {
            "image/png": "[encoded data removed]",
            "text/plain": [
              "<Figure size 432x288 with 1 Axes>"
            ]
          },
          "metadata": {
            "needs_background": "light"
          }
        }
      ]
    },
    {
      "cell_type": "markdown",
      "metadata": {
        "id": "CrO0UZod7d43"
      },
      "source": [
        "Best test set accuracy of Vowel dataset - testing 3 different learning rates\n"
      ]
    },
    {
      "cell_type": "code",
      "metadata": {
        "colab": {
          "base_uri": "https://localhost:8080/"
        },
        "id": "0YvR_ohQ8TNy",
        "outputId": "24a4eac4-2b72-47ea-c688-92df8b61b2ae"
      },
      "source": [
        "# Test on lr of .15\n",
        "\n",
        "test_outputs = mlp_vowel_learning_rates6.predict(x_test6)\n",
        "\n",
        "test_accuracy = mlp_vowel_learning_rates6.percent_classified_binary_targets(test_outputs, y_test6)\n",
        "print(f'Test accuracy on learning rate of 0.15: {100*round(test_accuracy,4)}%')"
      ],
      "execution_count": null,
      "outputs": [
        {
          "output_type": "stream",
          "name": "stdout",
          "text": [
            "Test accuracy: 87.37%\n"
          ]
        }
      ]
    },
    {
      "cell_type": "code",
      "metadata": {
        "colab": {
          "base_uri": "https://localhost:8080/"
        },
        "id": "zflKin7B-lL0",
        "outputId": "6dc1ed12-97f3-4b98-cac1-9f58503ac934"
      },
      "source": [
        "# test on lr of .211\n",
        "\n",
        "test_outputs = mlp_vowel_learning_rates5.predict(x_test5)\n",
        "\n",
        "test_accuracy = mlp_vowel_learning_rates5.percent_classified_binary_targets(test_outputs, y_test5)\n",
        "print(f'Test accuracy on learning rate of 0.211: {100*round(test_accuracy,3)}%')"
      ],
      "execution_count": null,
      "outputs": [
        {
          "output_type": "stream",
          "name": "stdout",
          "text": [
            "Test accuracy on learning rate of 0.211: 76.8%\n"
          ]
        }
      ]
    },
    {
      "cell_type": "code",
      "metadata": {
        "colab": {
          "base_uri": "https://localhost:8080/"
        },
        "id": "L78PIQ0u-_ln",
        "outputId": "fefeb11c-1e3b-48a1-9d42-dab61dcc00f6"
      },
      "source": [
        "# test on lr of .499\n",
        "\n",
        "test_outputs = mlp_vowel_learning_rates4.predict(x_test5)\n",
        "\n",
        "test_accuracy = mlp_vowel_learning_rates4.percent_classified_binary_targets(test_outputs, y_test5)\n",
        "print(f'Test accuracy on learning rate of 0.499: {100*round(test_accuracy,3)}%')"
      ],
      "execution_count": null,
      "outputs": [
        {
          "output_type": "stream",
          "name": "stdout",
          "text": [
            "Test accuracy on learning rate of 0.499: 81.8%\n"
          ]
        }
      ]
    },
    {
      "cell_type": "markdown",
      "metadata": {
        "id": "081G03O3LA0G"
      },
      "source": [
        "# 3.1 Intuition"
      ]
    },
    {
      "cell_type": "markdown",
      "metadata": {
        "id": "4Rzbx_tpLEG-"
      },
      "source": [
        "### Various effects of learning rate\n",
        "I tested 7 different learning rates. I started at 1.1 and went down to 0.05. I \n",
        "stopped after 0.05 because it performed worse in MSE than my previous learning rate of 0.15. Learning rates that are too high (i.e. 1.1 or 0.852) don't allow the MLP model to converge because the steps are too large. Conversely, learning rates that are too low (i.e. 0.05) take much longer to converge, with no accuracy improvement. With my stopping criteria (i.e. if validation set does not improve over 5 consecutive epochs, stop iterating through model and take best weights) the small weight of 0.05 actually performed the worst in MSE among all my learning rates.\n",
        " \n",
        "\n"
      ]
    },
    {
      "cell_type": "markdown",
      "metadata": {
        "id": "cHCCIxXrCVlC"
      },
      "source": [
        "### Discussing vowel dataset and iris dataset\n",
        "\n",
        "\n",
        "All else equal, the vowel dataset is a more difficult problem than the Iris dataset because there are more labels to predict in the vowel dataset than the iris (11 in the Vowel vs. 3 in the Iris). However, there are more data in the Vowel dataset than the Iris dataset, so my hypothesis was to expect both models to return a similar accuarracy, with the Iris slightly outperforming the Vowel.\n",
        "\n",
        "The best way for me to compare the models was to see the accuracy relative to the baseline. Given the baseline accuracies, the models performed relatively well with both datasets, but the Vowel model beat the Iris when looking at increased accuracy relative to the baseline. The baseline accuracy of the Iris dataset is 33%, since there are 3 labels, and the baseline accuracy for the Vowel dataset is around 9%, since there are 11 labels. My test accuracy in the Iris dataset was 96.67%, or approximately a 63% imporovement over the baseline. My best test accuracy on the Vowel dataset was 87.37% (with a learnig rate of 0.15), or a 78% improvement from baseline. So although the Iris model was more accurate, the Vowel model performed better relative to its baseline accuarcy. \n",
        "\n",
        "For the vowel dataset, I chose to use all the input features except train/test and speaker. I did chose to include gender (although at first it seemed potentially irrelevant) because I reasoned that the gender of the speaker would likely have some impact on the vowel phoneme output, since on average the tones of males and females differ."
      ]
    },
    {
      "cell_type": "markdown",
      "metadata": {
        "id": "y59MoEqbLFVN"
      },
      "source": [
        "# 3.2 Working with the Vowel Dataset - Hidden Layer Nodes"
      ]
    },
    {
      "cell_type": "code",
      "metadata": {
        "id": "6wxy4N0ULL3r"
      },
      "source": [
        "# Using learning rate of 0.15 and 1 hidden node\n",
        "\n",
        "# random split of vowel data\n",
        "x_train_hidden1, x_test_hidden1, y_train_hidden1, y_test_hidden1 = train_test_split(X, y, test_size=0.20)\n",
        "\n",
        "# call model \n",
        "mlp_vowel_hidden1 = MLP_Final(x_train_hidden1.shape[1], [1], y_train_hidden1.shape[1], 0.15, 0.5)\n",
        "    \n",
        "# train model\n",
        "mlp_vowel_hidden1.train(x_train_hidden1, y_train_hidden1)\n",
        "\n",
        "# get mse\n",
        "mse_hidden1_val = mlp_vowel_hidden1.get_validationset_mse()\n",
        "mse_hidden1_train = mlp_vowel_hidden1.get_train_mse()"
      ],
      "execution_count": null,
      "outputs": []
    },
    {
      "cell_type": "code",
      "metadata": {
        "id": "97dj4K6CfjcA"
      },
      "source": [
        "# Using learning rate of 0.15 and 2 hidden node\n",
        "\n",
        "# random split of vowel data\n",
        "x_train_hidden2, x_test_hidden2, y_train_hidden2, y_test_hidden2 = train_test_split(X, y, test_size=0.20)\n",
        "\n",
        "# call model \n",
        "mlp_vowel_hidden2 = MLP_Final(x_train_hidden2.shape[1], [2], y_train_hidden2.shape[1], 0.15, 0.5)\n",
        "    \n",
        "# train model\n",
        "mlp_vowel_hidden2.train(x_train_hidden2, y_train_hidden2)\n",
        "\n",
        "# get mse\n",
        "mse_hidden2_val = mlp_vowel_hidden2.get_validationset_mse()\n",
        "mse_hidden2_train = mlp_vowel_hidden2.get_train_mse()"
      ],
      "execution_count": null,
      "outputs": []
    },
    {
      "cell_type": "code",
      "metadata": {
        "id": "lunmGO9nfu-0"
      },
      "source": [
        "# Using learning rate of 0.15 and 4 hidden node\n",
        "\n",
        "# random split of vowel data\n",
        "x_train_hidden3, x_test_hidden3, y_train_hidden3, y_test_hidden3 = train_test_split(X, y, test_size=0.20)\n",
        "\n",
        "# call model \n",
        "mlp_vowel_hidden3 = MLP_Final(x_train_hidden3.shape[1], [4], y_train_hidden3.shape[1], 0.15, 0.5)\n",
        "    \n",
        "# train model\n",
        "mlp_vowel_hidden3.train(x_train_hidden3, y_train_hidden3)\n",
        "\n",
        "# get mse\n",
        "mse_hidden3_val = mlp_vowel_hidden3.get_validationset_mse()\n",
        "mse_hidden3_train = mlp_vowel_hidden3.get_train_mse()"
      ],
      "execution_count": null,
      "outputs": []
    },
    {
      "cell_type": "code",
      "metadata": {
        "id": "whBMg131f3RK"
      },
      "source": [
        "# Using learning rate of 0.15 and 8 hidden nodes\n",
        "\n",
        "# random split of vowel data\n",
        "x_train_hidden4, x_test_hidden4, y_train_hidden4, y_test_hidden4 = train_test_split(X, y, test_size=0.20)\n",
        "\n",
        "# call model \n",
        "mlp_vowel_hidden4 = MLP_Final(x_train_hidden4.shape[1], [8], y_train_hidden4.shape[1], 0.15, 0.5)\n",
        "    \n",
        "# train model\n",
        "mlp_vowel_hidden4.train(x_train_hidden4, y_train_hidden4)\n",
        "\n",
        "# get mse\n",
        "mse_hidden4_val = mlp_vowel_hidden4.get_validationset_mse()\n",
        "mse_hidden4_train = mlp_vowel_hidden4.get_train_mse()"
      ],
      "execution_count": null,
      "outputs": []
    },
    {
      "cell_type": "code",
      "metadata": {
        "id": "Td1kIvIigC3I"
      },
      "source": [
        "# Using learning rate of 0.15 and 16 hidden nodes\n",
        "\n",
        "# random split of vowel data\n",
        "x_train_hidden5, x_test_hidden5, y_train_hidden5, y_test_hidden5 = train_test_split(X, y, test_size=0.20)\n",
        "\n",
        "# call model \n",
        "mlp_vowel_hidden5 = MLP_Final(x_train_hidden5.shape[1], [16], y_train_hidden5.shape[1], 0.15, 0.5)\n",
        "    \n",
        "# train model\n",
        "mlp_vowel_hidden5.train(x_train_hidden5, y_train_hidden5)\n",
        "\n",
        "# get mse\n",
        "mse_hidden5_val = mlp_vowel_hidden5.get_validationset_mse()\n",
        "mse_hidden5_train = mlp_vowel_hidden5.get_train_mse()"
      ],
      "execution_count": null,
      "outputs": []
    },
    {
      "cell_type": "code",
      "metadata": {
        "id": "rfoNw9KAgL1x"
      },
      "source": [
        "# Using learning rate of 0.15 and 32 hidden nodes\n",
        "\n",
        "# random split of vowel data\n",
        "x_train_hidden6, x_test_hidden6, y_train_hidden6, y_test_hidden6= train_test_split(X, y, test_size=0.20)\n",
        "\n",
        "# call model \n",
        "mlp_vowel_hidden6 = MLP_Final(x_train_hidden6.shape[1], [32], y_train_hidden6.shape[1], 0.15, 0.5)\n",
        "    \n",
        "# train model\n",
        "mlp_vowel_hidden6.train(x_train_hidden6, y_train_hidden6)\n",
        "\n",
        "# get mse\n",
        "mse_hidden6_val = mlp_vowel_hidden6.get_validationset_mse()\n",
        "mse_hidden6_train = mlp_vowel_hidden6.get_train_mse()\n"
      ],
      "execution_count": null,
      "outputs": []
    },
    {
      "cell_type": "code",
      "metadata": {
        "id": "0eSV73pwgWz6"
      },
      "source": [
        "# Using learning rate of 0.15 and 64 hidden nodes\n",
        "\n",
        "# random split of vowel data\n",
        "x_train_hidden7, x_test_hidden7, y_train_hidden7, y_test_hidden7= train_test_split(X, y, test_size=0.20)\n",
        "\n",
        "# call model \n",
        "mlp_vowel_hidden7 = MLP_Final(x_train_hidden7.shape[1], [64], y_train_hidden7.shape[1], 0.15, 0.5)\n",
        "    \n",
        "# train model\n",
        "mlp_vowel_hidden7.train(x_train_hidden7, y_train_hidden7)\n",
        "\n",
        "# get mse\n",
        "mse_hidden7_val = mlp_vowel_hidden7.get_validationset_mse()\n",
        "mse_hidden7_train = mlp_vowel_hidden7.get_train_mse()"
      ],
      "execution_count": null,
      "outputs": []
    },
    {
      "cell_type": "code",
      "metadata": {
        "colab": {
          "base_uri": "https://localhost:8080/",
          "height": 294
        },
        "id": "XfspmQPDg7Yp",
        "outputId": "ea9fa44b-b4fb-4c15-c9f7-046e86cdc728"
      },
      "source": [
        "# creating graph to show results of the hidden nodes test\n",
        "import matplotlib.pyplot as plt\n",
        "\n",
        "# plt.scatter([1, 2, 4, 8, 16, 32, 64], \n",
        "#          [mse_hidden1[-1], mse_hidden2[-1], mse_hidden3[-1], mse_hidden4[-1], mse_hidden5[-1], mse_hidden6[-1], mse_hidden7[-1]])\n",
        "\n",
        "plt.plot([1, 2, 4, 8, 16, 32, 64], \n",
        "         [mse_hidden1_val[-1], mse_hidden2_val[-1], mse_hidden3_val[-1], mse_hidden4_val[-1], mse_hidden5_val[-1], mse_hidden6_val[-1], \n",
        "          mse_hidden7_val[-1]], label=\"Validation\")\n",
        "\n",
        "plt.plot([1, 2, 4, 8, 16, 32, 64], \n",
        "         [mse_hidden1_train[-1], mse_hidden2_train[-1], mse_hidden3_train[-1], mse_hidden4_train[-1], mse_hidden5_train[-1], mse_hidden6_train[-1], \n",
        "          mse_hidden7_train[-1]], label=\"Train\")\n",
        "\n",
        "plt.title(\"MSE for Training & Validation vs. # Hidden Nodes\")\n",
        "plt.xlabel(\"Hidden Nodes\")\n",
        "plt.ylabel(\"MSE: Training & Validation\")\n",
        "plt.show()"
      ],
      "execution_count": null,
      "outputs": [
        {
          "output_type": "display_data",
          "data": {
            "image/png": "[encoded data removed]",
            "text/plain": [
              "<Figure size 432x288 with 1 Axes>"
            ]
          },
          "metadata": {
            "needs_background": "light"
          }
        }
      ]
    },
    {
      "cell_type": "code",
      "metadata": {
        "colab": {
          "base_uri": "https://localhost:8080/"
        },
        "id": "4ol5VGfONMG7",
        "outputId": "b8f70f75-c5c7-4d48-9ed4-b4394cb5f018"
      },
      "source": [
        "# Printing the final test set accuracy for each node\n",
        "test_outputs = mlp_vowel_hidden1.predict(x_test_hidden1)\n",
        "test_accuracy_h1 = mlp_vowel_hidden1.percent_classified_binary_targets(test_outputs, y_test_hidden1)\n",
        "print(f'Test accuracy of 1 hidden node: {100*round(test_accuracy_h1,3)}%')\n",
        "\n",
        "test_outputs = mlp_vowel_hidden2.predict(x_test_hidden2)\n",
        "test_accuracy_h1 = mlp_vowel_hidden2.percent_classified_binary_targets(test_outputs, y_test_hidden2)\n",
        "print(f'Test accuracy of 2 hidden nodes: {100*round(test_accuracy_h1,3)}%')\n",
        "\n",
        "test_outputs = mlp_vowel_hidden3.predict(x_test_hidden3)\n",
        "test_accuracy_h1 = mlp_vowel_hidden3.percent_classified_binary_targets(test_outputs, y_test_hidden3)\n",
        "print(f'Test accuracy of 4 hidden nodes: {100*round(test_accuracy_h1,3)}%')\n",
        "\n",
        "test_outputs = mlp_vowel_hidden4.predict(x_test_hidden4)\n",
        "test_accuracy_h1 = mlp_vowel_hidden4.percent_classified_binary_targets(test_outputs, y_test_hidden4)\n",
        "print(f'Test accuracy of 8 hidden nodes: {100*round(test_accuracy_h1,2)}%')\n",
        "\n",
        "test_outputs = mlp_vowel_hidden5.predict(x_test_hidden5)\n",
        "test_accuracy_h1 = mlp_vowel_hidden5.percent_classified_binary_targets(test_outputs, y_test_hidden5)\n",
        "print(f'Test accuracy of 16 hidden nodes: {100*round(test_accuracy_h1,2)}%')\n",
        "\n",
        "test_outputs = mlp_vowel_hidden6.predict(x_test_hidden6)\n",
        "test_accuracy_h1 = mlp_vowel_hidden6.percent_classified_binary_targets(test_outputs, y_test_hidden6)\n",
        "print(f'Test accuracy of 32 hidden nodes: {100*round(test_accuracy_h1,3)}%')\n",
        "\n",
        "test_outputs = mlp_vowel_hidden7.predict(x_test_hidden6)\n",
        "test_accuracy_h1 = mlp_vowel_hidden7.percent_classified_binary_targets(test_outputs, y_test_hidden6)\n",
        "print(f'Test accuracy of 64 hidden nodes: {100*round(test_accuracy_h1,3)}%')\n"
      ],
      "execution_count": null,
      "outputs": [
        {
          "output_type": "stream",
          "name": "stdout",
          "text": [
            "Test accuracy of 1 hidden node: 22.2%\n",
            "Test accuracy of 2 hidden nodes: 35.9%\n",
            "Test accuracy of 4 hidden nodes: 44.9%\n",
            "Test accuracy of 8 hidden nodes: 70.0%\n",
            "Test accuracy of 16 hidden nodes: 69.0%\n",
            "Test accuracy of 32 hidden nodes: 88.4%\n",
            "Test accuracy of 64 hidden nodes: 91.4%\n"
          ]
        }
      ]
    },
    {
      "cell_type": "markdown",
      "metadata": {
        "id": "k7fNOFxA_7WL"
      },
      "source": [
        "After doubling the hidden nodes in each test and stopping after the accuracy stopped improving, I found that 34 hidden nodes performed the best with MSE. This confirmed my general intuition that a reasonable size of hidden layers is about double the number of features. Too few hidden nodes leads to underfitting, while too many nodes makes learning slower and can lead to overfit.\n",
        "\n",
        "My test accuracy showed that 64 nodes actually performed the best out all all of my 7 tests."
      ]
    },
    {
      "cell_type": "markdown",
      "metadata": {
        "id": "pPiVBpu-LMgY"
      },
      "source": [
        "# 3.3 Working with the Vowel Dataset - Momentum"
      ]
    },
    {
      "cell_type": "code",
      "metadata": {
        "colab": {
          "base_uri": "https://localhost:8080/"
        },
        "id": "YI0jLkBCiJvu",
        "outputId": "e81abf4c-9ee5-4b1d-e6aa-5dd062941b37"
      },
      "source": [
        "# Using learning rate of 0.15, 32 hidden nodes, and a momentum of 0.9\n",
        "\n",
        "# random split of vowel data\n",
        "x_train_m1, x_test_m1, y_train_m1, y_test_m1= train_test_split(X, y, test_size=0.20)\n",
        "\n",
        "# call model \n",
        "mlp_vowel_m1 = MLP_Final(x_train_m1.shape[1], [32], y_train_m1.shape[1], 0.15, 0.9)\n",
        "\n",
        "mlp_vowel_m1.train(x_train_m1, y_train_m1)\n",
        "\n",
        "# get mse\n",
        "epochs_m1 = len(mlp_vowel_m1.get_validationset_mse())\n",
        "print(epochs_m1)\n",
        "print()\n",
        "\n",
        "# test\n",
        "test_outputs = mlp_vowel_m1.predict(x_test_m1)\n",
        "test_accuracy_m1 = mlp_vowel_m1.percent_classified_binary_targets(test_outputs, y_test_m1)\n",
        "print(f'Test accuracy of momentum of 0.9: {100*round(test_accuracy_m1,3)}%')"
      ],
      "execution_count": null,
      "outputs": [
        {
          "output_type": "stream",
          "name": "stdout",
          "text": [
            "40\n",
            "\n",
            "Test accuracy of momentum of 0.9: 77.27000000000001%\n"
          ]
        }
      ]
    },
    {
      "cell_type": "code",
      "metadata": {
        "colab": {
          "base_uri": "https://localhost:8080/"
        },
        "id": "3MeILWl9kEgt",
        "outputId": "0bb0c6b3-ef65-4924-a55b-e3f7f85ed339"
      },
      "source": [
        "# Using learning rate of 0.15, 32 hidden nodes, and a momentum of 0.75\n",
        "\n",
        "# random split of vowel data\n",
        "x_train_m2, x_test_m2, y_train_m2, y_test_m2= train_test_split(X, y, test_size=0.20)\n",
        "\n",
        "# call model \n",
        "mlp_vowel_m2 = MLP_Final(x_train_m2.shape[1], [32], y_train_m2.shape[1], 0.15, 0.75)\n",
        "\n",
        "mlp_vowel_m2.train(x_train_m2, y_train_m2)\n",
        "\n",
        "# get mse\n",
        "epochs_m2 = len(mlp_vowel_m2.get_validationset_mse())\n",
        "print(epochs_m2)\n",
        "print()\n",
        "\n",
        "# test\n",
        "test_outputs = mlp_vowel_m2.predict(x_test_m1)\n",
        "test_accuracy_m2 = mlp_vowel_m2.percent_classified_binary_targets(test_outputs, y_test_m1)\n",
        "print(f'Test accuracy of momentum of 0.75: {100*round(test_accuracy_m2,3)}%')"
      ],
      "execution_count": null,
      "outputs": [
        {
          "output_type": "stream",
          "name": "stdout",
          "text": [
            "37\n",
            "\n",
            "Test accuracy of momentum of 0.9: 83.8%\n"
          ]
        }
      ]
    },
    {
      "cell_type": "code",
      "metadata": {
        "colab": {
          "base_uri": "https://localhost:8080/"
        },
        "id": "e9zXRM5skVIH",
        "outputId": "96a46809-2fe6-40d3-bda3-1204debf53f9"
      },
      "source": [
        "# Using learning rate of 0.15, 32 hidden nodes, and a momentum of 0.65\n",
        "\n",
        "# random split of vowel data\n",
        "x_train_m3, x_test_m3, y_train_m3, y_test_m3= train_test_split(X, y, test_size=0.20)\n",
        "\n",
        "# call model \n",
        "mlp_vowel_m3 = MLP_Final(x_train_m3.shape[1], [32], y_train_m3.shape[1], 0.15, 0.65)\n",
        "\n",
        "mlp_vowel_m3.train(x_train_m3, y_train_m3)\n",
        "\n",
        "# get mse\n",
        "epochs_m3 = len(mlp_vowel_m3.get_validationset_mse())\n",
        "print(epochs_m3)\n",
        "print()\n",
        "\n",
        "# test\n",
        "test_outputs = mlp_vowel_m3.predict(x_test_m1)\n",
        "test_accuracy_m3 = mlp_vowel_m3.percent_classified_binary_targets(test_outputs, y_test_m1)\n",
        "print(f'Test accuracy of momentum of 0.65: {100*round(test_accuracy_m3,3)}%')"
      ],
      "execution_count": null,
      "outputs": [
        {
          "output_type": "stream",
          "name": "stdout",
          "text": [
            "78\n",
            "\n",
            "Test accuracy of momentum of 0.65: 91.9%\n"
          ]
        }
      ]
    },
    {
      "cell_type": "code",
      "metadata": {
        "colab": {
          "base_uri": "https://localhost:8080/"
        },
        "id": "32xQyQd3lAou",
        "outputId": "316d32bf-7815-46cf-f488-0ae55374edff"
      },
      "source": [
        "# Using learning rate of 0.15, 32 hidden nodes, and a momentum of 0.5\n",
        "\n",
        "# random split of vowel data\n",
        "x_train_m4, x_test_m4, y_train_m4, y_test_m4= train_test_split(X, y, test_size=0.20)\n",
        "\n",
        "# call model \n",
        "mlp_vowel_m4 = MLP_Final(x_train_m4.shape[1], [32], y_train_m4.shape[1], 0.15, 0.5)\n",
        "\n",
        "mlp_vowel_m4.train(x_train_m4, y_train_m4)\n",
        "\n",
        "# get mse\n",
        "epochs_m4 = len(mlp_vowel_m4.get_validationset_mse())\n",
        "print(epochs_m4)\n",
        "print()\n",
        "\n",
        "# test\n",
        "test_outputs = mlp_vowel_m4.predict(x_test_m1)\n",
        "test_accuracy_m4 = mlp_vowel_m4.percent_classified_binary_targets(test_outputs, y_test_m1)\n",
        "print(f'Test accuracy of momentum of 0.5: {100*round(test_accuracy_m4,3)}%')"
      ],
      "execution_count": null,
      "outputs": [
        {
          "output_type": "stream",
          "name": "stdout",
          "text": [
            "78\n",
            "\n",
            "Test accuracy of momentum of 0.5: 86.4%\n"
          ]
        }
      ]
    },
    {
      "cell_type": "code",
      "metadata": {
        "colab": {
          "base_uri": "https://localhost:8080/",
          "height": 294
        },
        "id": "jXkX1B50lVNO",
        "outputId": "40e45168-4d8d-4464-8ca5-f7b79af440d4"
      },
      "source": [
        "# creating graph to show results of the hidden nodes test\n",
        "import matplotlib.pyplot as plt\n",
        "\n",
        "# plt.scatter([1, 2, 4, 8, 16, 32, 64], \n",
        "#          [mse_hidden1[-1], mse_hidden2[-1], mse_hidden3[-1], mse_hidden4[-1], mse_hidden5[-1], mse_hidden6[-1], mse_hidden7[-1]])\n",
        "\n",
        "plt.plot([.9, .75, .65, .5], \n",
        "         [epochs_m1, epochs_m2, epochs_m3, epochs_m4])\n",
        "\n",
        "plt.title(\"Momentum and # of Epochs until Convergence\")\n",
        "plt.xlabel(\"Momentum\")\n",
        "plt.ylabel(\"# of Epochs\")\n",
        "plt.show()"
      ],
      "execution_count": null,
      "outputs": [
        {
          "output_type": "display_data",
          "data": {
            "image/png": "[encoded data removed]",
            "text/plain": [
              "<Figure size 432x288 with 1 Axes>"
            ]
          },
          "metadata": {
            "needs_background": "light"
          }
        }
      ]
    },
    {
      "cell_type": "markdown",
      "metadata": {
        "id": "WyKzgTNul8kv"
      },
      "source": [
        "As the graph above shows, models with higher momentum values converged quicker. However, I did find in my 4 differnt tests that a high momentum, like 0.9, had a lower accuracy on the testing data. The most accurate model used a momentum of .65 and took as many epochs to converge as the model with a momentum of .5. \n",
        "\n",
        "The direction of the graph validates my conceptual understanding of momentum: that since momentum acts as a speed-up modification to the learning rate, higher momentum values will result in models that converge quicker."
      ]
    },
    {
      "cell_type": "markdown",
      "metadata": {
        "id": "5W_wb4l-LhFt"
      },
      "source": [
        "# 4.1 Scikit Learn MLP Classifier on Iris and Vowel Datasets"
      ]
    },
    {
      "cell_type": "markdown",
      "metadata": {
        "id": "MIC2JKyvnxct"
      },
      "source": [
        "Loading in data"
      ]
    },
    {
      "cell_type": "code",
      "metadata": {
        "id": "KBJI0soOmZKV"
      },
      "source": [
        "# Loading vowel dataset\n",
        "import pandas as pd\n",
        "from scipy.io.arff import loadarff\n",
        "import numpy as np\n",
        "from sklearn.model_selection import train_test_split\n",
        "\n",
        "!curl https://raw.githubusercontent.com/cs472ta/CS472/master/datasets/vowel.arff --output vowel.arff\n",
        "\n",
        "dataset = loadarff('vowel.arff')\n",
        "df_vowel = pd.DataFrame(dataset[0])\n",
        "\n",
        "# clean vowel\n",
        "str_df = df_vowel.select_dtypes([np.object])\n",
        "str_df = str_df.stack().str.decode('utf-8').unstack()\n",
        "\n",
        "for col in str_df:\n",
        "    df_vowel[col] = str_df[col]\n",
        "\n",
        "\n",
        "# create dummy for sex\n",
        "dummies_vowel = pd.get_dummies(df_vowel['Sex'])\n",
        "df_vowel_new = df_vowel.drop(columns=['Sex'])\n",
        "\n",
        "df_vowel = pd.concat([df_vowel_new,dummies_vowel], axis='columns')\n",
        "\n",
        "# create dummy for class\n",
        "dummies_class = pd.get_dummies(df_vowel['Class'])\n",
        "df_vowel_new = df_vowel.drop(columns=['Class'])\n",
        "\n",
        "df_vowel = pd.concat([df_vowel_new,dummies_class], axis='columns')\n",
        "\n",
        "df_vowel.drop(['Train or Test', 'Speaker Number'], axis=1, inplace=True)\n",
        "\n",
        "X = df_vowel.iloc[:,:-11].to_numpy()\n",
        "y = df_vowel.iloc[:,-11:].to_numpy()"
      ],
      "execution_count": null,
      "outputs": []
    },
    {
      "cell_type": "markdown",
      "metadata": {
        "id": "DxE3gGJ4nzWC"
      },
      "source": [
        "Comparing sk_learn to my model using a learning rate of 0.15, 32 hidden nodes, and momentum of 0.65"
      ]
    },
    {
      "cell_type": "code",
      "metadata": {
        "colab": {
          "base_uri": "https://localhost:8080/"
        },
        "id": "A7RZcFG_Loi6",
        "outputId": "bf8f1696-027a-4e05-8d46-4dc373cfb5cd"
      },
      "source": [
        "# Comparing accuracy to my model given best learning rate (.15), hidden nodes (32), and momentum (.65)\n",
        "from sklearn.neural_network import MLPClassifier\n",
        "from sklearn.model_selection import train_test_split\n",
        "\n",
        "X_train, X_test, y_train, y_test = train_test_split(X, y, test_size=0.2, random_state=42)\n",
        "\n",
        "mlp_sk = MLPClassifier(learning_rate='constant', learning_rate_init=0.15, hidden_layer_sizes=(32,), momentum=0.65, activation='logistic', max_iter=5000,\n",
        "                       n_iter_no_change=5, solver='sgd').fit(X_train, y_train)\n",
        "\n",
        "accuracy = mlp_sk.score(X_test, y_test)\n",
        "epochs = mlp_sk.n_iter_\n",
        "\n",
        "print(f'Test accuracy: {100*round(accuracy,3)}%')\n",
        "print(f'Number of epochs: {epochs}')\n"
      ],
      "execution_count": null,
      "outputs": [
        {
          "output_type": "stream",
          "name": "stdout",
          "text": [
            "Test accuracy: 82.8%\n",
            "Number of epochs: 1542\n"
          ]
        }
      ]
    },
    {
      "cell_type": "code",
      "metadata": {
        "colab": {
          "base_uri": "https://localhost:8080/"
        },
        "id": "Fv3mO3c1n2C6",
        "outputId": "c6d5c5f3-795b-4ebb-a7f6-808df87cd5b6"
      },
      "source": [
        "# my model for same parameters\n",
        "X_train, X_test, y_train, y_test = train_test_split(X, y, test_size=0.2, random_state=42)\n",
        "\n",
        "mlp_vowel = MLP_Final(X_train.shape[1], [32], y_train.shape[1], 0.15, 0.65)\n",
        "\n",
        "mlp_vowel.train(X_train, y_train)\n",
        "\n",
        "# get mse\n",
        "epochs = len(mlp_vowel_m1.get_validationset_mse())\n",
        "\n",
        "\n",
        "# test\n",
        "test_outputs = mlp_vowel.predict(X_test)\n",
        "test_accuracy = mlp_vowel.percent_classified_binary_targets(test_outputs, y_test)\n",
        "print(f'Test accuracy: {100*round(test_accuracy,3)}%')\n",
        "print(f'Number of epochs: {epochs}')"
      ],
      "execution_count": null,
      "outputs": [
        {
          "output_type": "stream",
          "name": "stdout",
          "text": [
            "Test accuracy: 78.8%\n",
            "Number of epochs: 40\n"
          ]
        }
      ]
    },
    {
      "cell_type": "markdown",
      "metadata": {
        "id": "KokznqUjpPes"
      },
      "source": [
        "Trying different hyperparameters of sk_learn and commenting on effect"
      ]
    },
    {
      "cell_type": "code",
      "metadata": {
        "colab": {
          "base_uri": "https://localhost:8080/"
        },
        "id": "OLOqAHNLpSeV",
        "outputId": "0b2151ec-fbdb-454b-c9ee-702e8248f2e4"
      },
      "source": [
        "# Selecting different hyperparameters from scikit learn\n",
        "X_train, X_test, y_train, y_test = train_test_split(X, y, test_size=0.2, random_state=42)\n",
        "\n",
        "mlp_sk_hp = MLPClassifier(learning_rate='adaptive', learning_rate_init=0.1, hidden_layer_sizes=(34),\n",
        "                       momentum=0.65, n_iter_no_change=10, solver='sgd', nesterovs_momentum=True, max_iter=5000,\n",
        "                       tol=1e-4, activation='logistic').fit(X_train, y_train)\n",
        "\n",
        "accuracy = mlp_sk_hp.score(X_test, y_test)\n",
        "epochs = mlp_sk_hp.n_iter_\n",
        "\n",
        "print(f'Test accuracy: {100*round(accuracy,3)}%')\n",
        "print(f'Number of epochs: {epochs}')"
      ],
      "execution_count": null,
      "outputs": [
        {
          "output_type": "stream",
          "name": "stdout",
          "text": [
            "Test accuracy: 82.3%\n",
            "Number of epochs: 4272\n"
          ]
        }
      ]
    },
    {
      "cell_type": "code",
      "metadata": {
        "colab": {
          "base_uri": "https://localhost:8080/"
        },
        "id": "1i9gOH1-tP7I",
        "outputId": "9aa526ab-b513-44d4-a33a-f987656108b0"
      },
      "source": [
        "# Selecting different hyperparameters from scikit learn - testing differnt activations: relu\n",
        "X_train, X_test, y_train, y_test = train_test_split(X, y, test_size=0.2, random_state=42)\n",
        "\n",
        "mlp_sk_hp = MLPClassifier(learning_rate='adaptive', learning_rate_init=0.1, hidden_layer_sizes=(34),\n",
        "                       momentum=0.65, solver='sgd', nesterovs_momentum=True, max_iter=5000,\n",
        "                       tol=1e-4, activation='relu').fit(X_train, y_train)\n",
        "\n",
        "accuracy = mlp_sk_hp.score(X_test, y_test)\n",
        "epochs = mlp_sk_hp.n_iter_\n",
        "\n",
        "print(f'Test accuracy: {100*round(accuracy,3)}%')\n",
        "print(f'Number of epochs: {epochs}')"
      ],
      "execution_count": null,
      "outputs": [
        {
          "output_type": "stream",
          "name": "stdout",
          "text": [
            "Test accuracy: 74.7%\n",
            "Number of epochs: 1090\n"
          ]
        }
      ]
    },
    {
      "cell_type": "code",
      "metadata": {
        "colab": {
          "base_uri": "https://localhost:8080/"
        },
        "id": "pG_7hArhtrm7",
        "outputId": "4f4cc4a4-df8f-4a29-d467-4b0ae2288f13"
      },
      "source": [
        "# Selecting different hyperparameters from scikit learn - testing differnt activations: tanh\n",
        "X_train, X_test, y_train, y_test = train_test_split(X, y, test_size=0.2, random_state=42)\n",
        "\n",
        "mlp_sk_hp = MLPClassifier(learning_rate='adaptive', learning_rate_init=0.1, hidden_layer_sizes=(34),\n",
        "                       momentum=0.65, solver='sgd', nesterovs_momentum=True, max_iter=5000,\n",
        "                       tol=1e-4, activation='tanh').fit(X_train, y_train)\n",
        "\n",
        "accuracy = mlp_sk_hp.score(X_test, y_test)\n",
        "epochs = mlp_sk_hp.n_iter_\n",
        "\n",
        "print(f'Test accuracy: {100*round(accuracy,3)}%')\n",
        "print(f'Number of epochs: {epochs}')"
      ],
      "execution_count": null,
      "outputs": [
        {
          "output_type": "stream",
          "name": "stdout",
          "text": [
            "Test accuracy: 79.3%\n",
            "Number of epochs: 1306\n"
          ]
        }
      ]
    },
    {
      "cell_type": "markdown",
      "metadata": {
        "id": "y0wPffbD-VWJ"
      },
      "source": [
        "Testing Nesterovs momentum"
      ]
    },
    {
      "cell_type": "code",
      "metadata": {
        "colab": {
          "base_uri": "https://localhost:8080/"
        },
        "id": "riP-zy-S-Xpe",
        "outputId": "d1fdd9c1-fb60-443a-fbad-14b81dfd1d93"
      },
      "source": [
        "# Selecting different hyperparameters from scikit learn\n",
        "X_train, X_test, y_train, y_test = train_test_split(X, y, test_size=0.2, random_state=42)\n",
        "\n",
        "mlp_sk_hp = MLPClassifier(learning_rate='adaptive', learning_rate_init=0.1, hidden_layer_sizes=(34),\n",
        "                       momentum=0.65, n_iter_no_change=10, solver='sgd', nesterovs_momentum=True, max_iter=5000,\n",
        "                       tol=1e-4, activation='logistic').fit(X_train, y_train)\n",
        "\n",
        "accuracy = mlp_sk_hp.score(X_test, y_test)\n",
        "epochs = mlp_sk_hp.n_iter_\n",
        "\n",
        "print(f'Test accuracy: {100*round(accuracy,3)}%')\n",
        "print(f'Number of epochs: {epochs}')"
      ],
      "execution_count": null,
      "outputs": [
        {
          "output_type": "stream",
          "name": "stdout",
          "text": [
            "Test accuracy: 83.3%\n",
            "Number of epochs: 4221\n"
          ]
        }
      ]
    },
    {
      "cell_type": "code",
      "metadata": {
        "colab": {
          "base_uri": "https://localhost:8080/"
        },
        "id": "WkTuksRe-bsk",
        "outputId": "6364f930-aea7-458b-e6d5-e5a45a7b81cb"
      },
      "source": [
        "# Selecting different hyperparameters from scikit learn\n",
        "X_train, X_test, y_train, y_test = train_test_split(X, y, test_size=0.2, random_state=42)\n",
        "\n",
        "mlp_sk_hp = MLPClassifier(learning_rate='adaptive', learning_rate_init=0.1, hidden_layer_sizes=(34),\n",
        "                       momentum=0.65, n_iter_no_change=10, solver='sgd', nesterovs_momentum=False, max_iter=5000,\n",
        "                       tol=1e-4, activation='logistic').fit(X_train, y_train)\n",
        "\n",
        "accuracy = mlp_sk_hp.score(X_test, y_test)\n",
        "epochs = mlp_sk_hp.n_iter_\n",
        "\n",
        "print(f'Test accuracy: {100*round(accuracy,3)}%')\n",
        "print(f'Number of epochs: {epochs}')"
      ],
      "execution_count": null,
      "outputs": [
        {
          "output_type": "stream",
          "name": "stdout",
          "text": [
            "Test accuracy: 84.3%\n",
            "Number of epochs: 4474\n"
          ]
        }
      ]
    },
    {
      "cell_type": "markdown",
      "metadata": {
        "id": "U0quo1JbuBvb"
      },
      "source": [
        "Using the sklearn model with all the same hyperparameters as my model, I got a model with approximately 4% less accuracy (78.8% in my model compared with 82.8% in the sklearn model) in much fewer epochs. The sklearn model ran 1542 epochs and my model ran only 40. This difference is most likely due to slight variations in stopping criteria. \n",
        "\n",
        "I then used the sklearn model to try out other various hyper parameters. I used the same model with different activation fucntions. I tried logistic, tanh, and relu. The result is that the logistic model performed the best. I also tried out diff depths of hidden layers. When I added more than 1 hidden layer, the accuracy of the model decreased significanlty. I also tried nesterovs_momentum on relative models and found the model without Nesterov's momentum was 1% more accurate.\n",
        "\n",
        "I also found that models with learning rates < .01 performed worse than models with learning rates between .01 and .5."
      ]
    },
    {
      "cell_type": "markdown",
      "metadata": {
        "id": "FhZHg47cLq07"
      },
      "source": [
        "# 4.2 Using the Iris Dataset automatically adjust hyper-parameters using your choice of grid/random search"
      ]
    },
    {
      "cell_type": "code",
      "metadata": {
        "id": "1euajxtruvz4"
      },
      "source": [
        "learning_rates = [1.1,.9,.85,.8,.75,.65,.5,.35,.225,.1,.05,.01]\n",
        "hidden_nodes = [1, 2, 4, 8, 10, 16, 20, 30, 40, 60, 80, 100, 120, 150, 175, 200, 250]\n",
        "momentum = [.9,.8,.75,.7,.65,.6,.55,.5,.45,.4,.3,.2,.1,.05]\n",
        "best_accuracy = []\n",
        "num_epochs = []\n",
        "combination_list = []\n",
        "\n",
        "for lr in learning_rates:\n",
        "  for h in hidden_nodes:\n",
        "    for m in momentum:\n",
        "\n",
        "      X_train, X_test, y_train, y_test = train_test_split(X, y, test_size=0.2, random_state=42)\n",
        "      mlp_grid = MLPClassifier(learning_rate='constant', learning_rate_init=lr, hidden_layer_sizes=(h,), momentum=m,\n",
        "                               activation='logistic').fit(X_train, y_train)\n",
        "      accuracy = mlp_grid.score(X_test, y_test)\n",
        "      epochs = mlp_grid.n_iter_  \n",
        "      \n",
        "      best_accuracy.append(accuracy)\n",
        "      num_epochs.append(epochs)\n",
        "      combinations = [lr, h, m]\n",
        "      combination_list.append(combinations)\n",
        "\n",
        "\n"
      ],
      "execution_count": null,
      "outputs": []
    },
    {
      "cell_type": "code",
      "metadata": {
        "colab": {
          "base_uri": "https://localhost:8080/"
        },
        "id": "lTWnOnsD7aI7",
        "outputId": "f57d976e-455a-499f-e70f-799fda213fa0"
      },
      "source": [
        "best_accuracy_grid = max(best_accuracy)\n",
        "best_accuracy_index = best_accuracy.index(best_accuracy_grid)\n",
        "final_combination = combination_list[best_accuracy_index]\n",
        "\n",
        "print(f'The best test set accuracy from grid search was {round(best_accuracy_grid,3)*100}%')\n",
        "print(f'This used the combination of a learning rate of {final_combination[0]}, {final_combination[1]} layers, and a momentum value of {final_combination[2]}')"
      ],
      "execution_count": null,
      "outputs": [
        {
          "output_type": "stream",
          "name": "stdout",
          "text": [
            "The best test set accuracy from grid search was 93.4%\n",
            "This used the combination of a learning rate of 0.05, 150 layers, and a momentum value of 0.5\n"
          ]
        }
      ]
    },
    {
      "cell_type": "markdown",
      "metadata": {
        "id": "XXYLa1Cx8KNZ"
      },
      "source": [
        "After trying all the combinations of learning rates, hidden nodes, and momentum values, the model that performed the best used a learning rate of .05, 150 hidden layers, and a momentum of 0.5. These values were different thatn the best parameters I got in section 3. This proves to me that a method like grid serach is very useful to ensure that various combinations (in this case > 2000) are tried to get the best model."
      ]
    }
  ]
}