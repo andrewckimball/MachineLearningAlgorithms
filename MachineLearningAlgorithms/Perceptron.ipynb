{
  "nbformat": 4,
  "nbformat_minor": 0,
  "metadata": {
    "colab": {
      "name": "Lab_1_Perceptron_Final.ipynb",
      "provenance": [],
      "collapsed_sections": []
    },
    "kernelspec": {
      "display_name": "Python 3",
      "language": "python",
      "name": "python3"
    },
    "language_info": {
      "codemirror_mode": {
        "name": "ipython",
        "version": 3
      },
      "file_extension": ".py",
      "mimetype": "text/x-python",
      "name": "python",
      "nbconvert_exporter": "python",
      "pygments_lexer": "ipython3",
      "version": "3.9.0"
    }
  },
  "cells": [
    {
      "cell_type": "markdown",
      "metadata": {
        "id": "DVL7_bgmIAPR"
      },
      "source": [
        "# Perceptron Lab\n",
        "\n",
        "\n",
        "\n"
      ]
    },
    {
      "cell_type": "code",
      "metadata": {
        "id": "6ZbYjZZZ_yLV"
      },
      "source": [
        "from sklearn.base import BaseEstimator, ClassifierMixin\n",
        "from sklearn.linear_model import Perceptron\n",
        "import numpy as np\n",
        "import matplotlib.pyplot as plt"
      ],
      "execution_count": null,
      "outputs": []
    },
    {
      "cell_type": "markdown",
      "metadata": {
        "id": "sCcEPx5VIORj"
      },
      "source": [
        "## 1. (40%) Correctly implement and submit your own code for the perceptron learning algorithm. \n",
        "\n",
        "### Code requirements\n",
        "- Shuffle the data each epoch.\n",
        "- A way to create a random train/test split. Write your own. In the future you can use the scikit-learn version if you want.\n",
        "- Use Stochastic/On-line training updates: Iterate and update weights after each training instance (i.e. do not attempt batch updates)\n",
        "- Implement a stopping criteria: when your model has trained for a number of epochs with no significant improvement in accuracy, stop training. Note that the weights/accuracy do not usually change monotonically.\n",
        "- Use your perceptron to solve the Debug data. We provide you with several parameters, and you should be able to replicate our results every time. When you are confident it is correct, run your perceptron on the Evaluation data with the same parameters, and print your final weights and accuracy."
      ]
    },
    {
      "cell_type": "code",
      "metadata": {
        "id": "_a2KSZ_7AN0G"
      },
      "source": [
        "'''Final Class'''\n",
        "import numpy as np\n",
        "\n",
        "\n",
        "class Perceptron:\n",
        "    def __init__(self, learning_rate=0.1, shuffle=False, deterministic=False, epoch_iter=None):\n",
        "        self.lr = learning_rate\n",
        "        self.shuffle = shuffle\n",
        "        self.deterministic = deterministic\n",
        "        self.epoch_iter = epoch_iter\n",
        "        self.activation_func = self._unit_step_func\n",
        "\n",
        "\n",
        "\n",
        "    def fit(self, X, y, initial_weights=None):\n",
        "        n_samples, n_features = X.shape\n",
        "        \n",
        "        self.weights = self.initialize_weights(n_features) if not initial_weights else initial_weights\n",
        "\n",
        "        #Run this unless the model is deterministic with a specified number of epochs\n",
        "        if self.deterministic == False:\n",
        "            \n",
        "            #initialize variables for while loop - this is for the stopping criteria\n",
        "            continue_loop = True\n",
        "            after_iteration_accuracy = 0\n",
        "            y_temporary_list = []\n",
        "            self.n_iters = 0\n",
        "            y_testing = np.ones(len(y), dtype=float) #added this to measure accuracy in 0th epoch\n",
        "\n",
        "            while continue_loop:\n",
        "                y_temporary_list = []\n",
        "                self.model_accuracy = self.score(y, y_testing)\n",
        "\n",
        "                print(f\"model accuracy:  {self.model_accuracy}\")\n",
        "                print(f\"classification error: {1 - self.model_accuracy}\")\n",
        "                print(f\"difference: {self.model_accuracy - after_iteration_accuracy}\")\n",
        "                print(f\"iteration: {self.n_iters}\")\n",
        "                print()\n",
        "\n",
        "                #Don't shuffle unless shuffle == True\n",
        "                if (self.shuffle == True):\n",
        "                    shuffled_data = self._shuffle_data(X, y)\n",
        "                    shuffled_data_df = pd.DataFrame(shuffled_data)\n",
        "                    X = shuffled_data_df.iloc[:,:-1].to_numpy()\n",
        "                    y = shuffled_data_df.iloc[:,-1].to_numpy()\n",
        "                else:\n",
        "                    X = X\n",
        "                    y = y\n",
        "\n",
        "                #Loop through dataset - 1 entire epoch\n",
        "                for idx, x_i in enumerate(X):\n",
        "                  \n",
        "                    linear_output = np.dot(x_i, self.weights)\n",
        "                    y_predicted = self.activation_func(linear_output)\n",
        "\n",
        "                    y_temporary_list.append(y_predicted)\n",
        "                    y_testing = np.array(y_temporary_list)\n",
        "\n",
        "                    # Perceptron update rule\n",
        "                    update = self.lr * (y[idx] - y_predicted)\n",
        "                    self.weights += update * x_i\n",
        "                \n",
        "                #stopping criteria: if loss - previous loss > 0.001, then stop the iterations through dataset\n",
        "                if self.model_accuracy - after_iteration_accuracy < 0.001:\n",
        "                # if (1 - self.model_accuracy) - (1 - after_iteration_accuracy) > 0.001:\n",
        "                    continue_loop = False\n",
        "\n",
        "                #if not, then update variables and call methods to get values\n",
        "                else:\n",
        "                    after_iteration_accuracy = self.model_accuracy\n",
        "                    self.get_weights()\n",
        "                    self.get_ephochs()\n",
        "                    self.get_model_accuracy()\n",
        "                    self.n_iters += 1\n",
        "        \n",
        "        #Run this for debug and eval   \n",
        "        else:\n",
        "            print(self.epoch_iter)\n",
        "            for _ in range(self.epoch_iter):\n",
        "                for idx, x_i in enumerate(X):\n",
        "                    linear_output = np.dot(x_i, self.weights)\n",
        "                    y_predicted = self.activation_func(linear_output)\n",
        "                    \n",
        "                    # Perceptron update rule\n",
        "                    # update = self.lr * (y[idx] - y_predicted)\n",
        "                    update = .10 * (y[idx] - y_predicted)\n",
        "                    self.weights += update * x_i\n",
        "                  \n",
        "                #call method to print weights\n",
        "                print(self.weights)\n",
        "                   \n",
        "            \n",
        "    def predict(self, X):\n",
        "        linear_output = np.dot(X, self.weights)\n",
        "        y_predicted = self.activation_func(linear_output)\n",
        "        return y_predicted\n",
        "\n",
        "    def initialize_weights(self, n_features):\n",
        "        return np.zeros(n_features)\n",
        "\n",
        "    def score(self, y_true, y_pred):\n",
        "        accuracy = np.sum(y_true == y_pred) / len(y_true)\n",
        "        return accuracy\n",
        "\n",
        "    def _shuffle_data(self, X, y): \n",
        "        y_new = np.array(y, ndmin=2)\n",
        "        np_shuffled = np.concatenate((X, y_new.T), axis=1)\n",
        "        np.random.shuffle(np_shuffled)\n",
        "        return np_shuffled\n",
        "\n",
        "    def get_weights(self):\n",
        "        return self.weights\n",
        "\n",
        "    def get_ephochs(self):\n",
        "        return self.n_iters\n",
        "\n",
        "    def get_model_accuracy(self):\n",
        "        return self.model_accuracy\n",
        "\n",
        "    def _unit_step_func(self, x):\n",
        "        return np.where(x > 0, 1, 0)\n"
      ],
      "execution_count": 31,
      "outputs": []
    },
    {
      "cell_type": "markdown",
      "metadata": {
        "id": "SNLDOTW9rZCe"
      },
      "source": [
        "My perceptron class has all the methods that are shown in the example class, plus a few that I created (_unit_step_func(), and various getter methods). In the fit method, I check to see if the model is deterministic. If not, I go through the while loop until the stopping criteria is reached. In the loop, I also check to see whetehr or not shuffling the data was specified. If the model is not deterministic, then I run through a set number of epochs. "
      ]
    },
    {
      "cell_type": "markdown",
      "metadata": {
        "id": "KibCIXIThpbE"
      },
      "source": [
        "## 1.1 Debug and Evaluation\n",
        "\n",
        "Debug and Evaluate your model using the parameters below\n",
        "\n",
        "Learning Rate = 0.1 \\ \n",
        "Deterministic = 10 [This means run it 10 epochs and should be the same everytime you run it] \\ \n",
        "Shuffle = False \\ \n",
        "Initial Weights = All zeros\n",
        "\n",
        "---\n",
        "\n",
        "### 1.1.1 Debug\n",
        "\n",
        "Debug your model by running it on the [debug dataset](https://raw.githubusercontent.com/cs472ta/CS472/master/datasets/linsep2nonorigin.arff)\n",
        "\n",
        "Expected Results:\n",
        "\n",
        "Accuracy = [0.88]\\\n",
        "Final Weights = [-0.23  0.18 -0.1 ]"
      ]
    },
    {
      "cell_type": "code",
      "metadata": {
        "id": "KgAyy82gixIF",
        "colab": {
          "base_uri": "https://localhost:8080/"
        },
        "outputId": "1c268c16-8515-4dab-9005-3055e4c0f4c7"
      },
      "source": [
        "# Load debug data\n",
        "import numpy as np\n",
        "import pandas as pd\n",
        "from scipy.io.arff import loadarff\n",
        "\n",
        "!curl https://raw.githubusercontent.com/cs472ta/CS472/master/datasets/linsep2nonorigin.arff --output debug_data.arff\n",
        "\n",
        "dataset = loadarff('debug_data.arff')\n",
        "df_debug = pd.DataFrame(dataset[0])\n",
        "df_debug = df_debug.apply(pd.to_numeric)\n",
        "\n",
        "bias = np.ones(len(df_debug), dtype=float)\n",
        "df_debug.insert(df_debug.shape[1] - 1, 'bias', bias)\n",
        "\n",
        "\n",
        "X = df_debug.iloc[:,:-1].to_numpy()\n",
        "y = df_debug.iloc[:,-1].to_numpy()\n",
        "\n",
        "# Train on debug data\n",
        "p = Perceptron(learning_rate=0.1, deterministic=True, epoch_iter=10)\n",
        "p.fit(X, y)\n",
        "predictions = p.predict(X)\n",
        "\n",
        "# Print accuracy and weights\n",
        "\n",
        "print(\"Perceptron classification accuracy\", p.score(y, predictions))"
      ],
      "execution_count": 21,
      "outputs": [
        {
          "output_type": "stream",
          "name": "stdout",
          "text": [
            "  % Total    % Received % Xferd  Average Speed   Time    Time     Time  Current\n",
            "                                 Dload  Upload   Total   Spent    Left  Speed\n",
            "\r  0     0    0     0    0     0      0      0 --:--:-- --:--:-- --:--:--     0\r100   197  100   197    0     0   5051      0 --:--:-- --:--:-- --:--:--  5184\n",
            "10\n",
            "[-4.0000000e-02 -6.9388939e-18 -1.0000000e-01]\n",
            "[-0.07  0.02 -0.1 ]\n",
            "[-0.1   0.04 -0.1 ]\n",
            "[-0.13  0.06 -0.1 ]\n",
            "[-0.16  0.08 -0.1 ]\n",
            "[-0.19  0.1  -0.1 ]\n",
            "[-0.2   0.12 -0.1 ]\n",
            "[-0.21  0.14 -0.1 ]\n",
            "[-0.22  0.16 -0.1 ]\n",
            "[-0.23  0.18 -0.1 ]\n",
            "Perceptron classification accuracy 0.875\n"
          ]
        }
      ]
    },
    {
      "cell_type": "markdown",
      "metadata": {
        "id": "kY3VNB1ui03N"
      },
      "source": [
        "### 1.1.2 Evaluation\n",
        "\n",
        "We will evaluate your model based on it's performance on the [evaluation dataset](https://raw.githubusercontent.com/cs472ta/CS472/master/datasets/data_banknote_authentication.arff)"
      ]
    },
    {
      "cell_type": "code",
      "metadata": {
        "id": "2yAxA78QjDh2",
        "colab": {
          "base_uri": "https://localhost:8080/"
        },
        "outputId": "3e625073-cd49-4c01-8f25-5592bc775acf"
      },
      "source": [
        "# Load evaluation data\n",
        "!curl https://raw.githubusercontent.com/cs472ta/CS472/master/datasets/data_banknote_authentication.arff --output evaluation_dataset.arff\n",
        "\n",
        "dataset = loadarff('evaluation_dataset.arff')\n",
        "df_eval = pd.DataFrame(dataset[0])\n",
        "df_eval = df_eval.apply(pd.to_numeric)\n",
        "\n",
        "bias = np.ones(len(df_eval), dtype=float)\n",
        "df_eval.insert(df_eval.shape[1] - 1, 'bias', bias)\n",
        "\n",
        "X = df_eval.iloc[:,:-1].to_numpy()\n",
        "y = df_eval.iloc[:,-1].to_numpy()\n",
        "\n",
        "# Train on evaluation data\n",
        "p = Perceptron(learning_rate=0.1, deterministic=True, epoch_iter=10)\n",
        "p.fit(X, y)\n",
        "predictions = p.predict(X)\n",
        "\n",
        "# Print accuracy and weights\n",
        "print(\"Perceptron classification accuracy\", p.score(y, predictions))"
      ],
      "execution_count": 24,
      "outputs": [
        {
          "output_type": "stream",
          "name": "stdout",
          "text": [
            "  % Total    % Received % Xferd  Average Speed   Time    Time     Time  Current\n",
            "                                 Dload  Upload   Total   Spent    Left  Speed\n",
            "\r  0     0    0     0    0     0      0      0 --:--:-- --:--:-- --:--:--     0\r100 46685  100 46685    0     0  1085k      0 --:--:-- --:--:-- --:--:-- 1085k\n",
            "10\n",
            "[-0.11299355 -0.155636   -0.0781904  -0.5976357   1.6       ]\n",
            "[-1.53513755 -1.11162    -0.9339804  -0.9300529   2.9       ]\n",
            "[-2.07845955 -1.25625    -1.5586104  -0.7943976   2.9       ]\n",
            "[-1.98766455 -1.47993    -1.6113104  -1.2714273   3.5       ]\n",
            "[-2.64648442 -1.59331    -2.1070794  -1.2564265   3.8       ]\n",
            "[-3.07391142 -1.7218     -2.1175274  -1.5410362   4.4       ]\n",
            "[-3.55888542 -2.27593    -2.6527054  -0.6487912   3.8       ]\n",
            "[-3.58077542 -2.420581   -2.5254954  -1.4587539   4.5       ]\n",
            "[-3.84527942 -2.340901   -2.8255334  -1.2991006   4.7       ]\n",
            "[-3.80657242 -2.840821   -3.0719334  -1.4003906   4.9       ]\n",
            "Perceptron classification accuracy 0.9876093294460642\n"
          ]
        }
      ]
    },
    {
      "cell_type": "markdown",
      "metadata": {
        "id": "BWDZuoS6sMhc"
      },
      "source": [
        "My model outputs the correct weights and accuracy for the debug data. For both the debug and evaluation datasets, I load the data into a pandas dataframe, add the bias, split the df into X and y arrays, then call the Perceptron class to fit and then predict the output."
      ]
    },
    {
      "cell_type": "markdown",
      "metadata": {
        "id": "9vWiTdlbR2Xh"
      },
      "source": [
        "## 2. (30%) Classifying on linearly separable and non-linearly separable data\n",
        "\n",
        "### 2.1 Create 2 datasets\n",
        "\n",
        "- Both with 8 instances using 2 real valued inputs (ranging between -1 and 1) with 4 instances from each class. \n",
        "- One data set should be linearly separable and the other not.\n",
        "\n"
      ]
    },
    {
      "cell_type": "code",
      "metadata": {
        "id": "4SSoasDQSKXb"
      },
      "source": [
        "# Create 2 datasets\n",
        "import matplotlib.pyplot as plt\n",
        "import numpy as np\n",
        "\n",
        "\n",
        "#datset 1\n",
        "dataset_1 = pd.DataFrame({'col_1': [-.5,-.2,-.2,-.5,.5,.1,.3,.2], 'col_2': [.2,.5,.3,.4,-.3,0,-.4,-.2], 'target': [1,1,1,1,0,0,0,0]})\n",
        "bias = np.ones(len(dataset_1), dtype=float)\n",
        "dataset_1.insert(dataset_1.shape[1] - 1, 'bias', bias)\n",
        "\n",
        "X_1 = dataset_1.iloc[:,:-1].to_numpy()\n",
        "y_1 = dataset_1.iloc[:,-1].to_numpy()\n",
        "\n",
        "\n",
        "#dataset 2\n",
        "dataset_2 = pd.DataFrame({'col_1': [.2,-.2,-.2,-.5,.5,-.2,.3,.2], 'col_2': [-.3,.5,.3,.4,-.3,0,-.4,-.2], 'target': [1,1,1,1,0,0,0,0]})\n",
        "bias = np.ones(len(dataset_2), dtype=float)\n",
        "dataset_2.insert(dataset_2.shape[1] - 1, 'bias', bias)\n",
        "\n",
        "X_2 = dataset_2.iloc[:,:-1].to_numpy()\n",
        "y_2 = dataset_2.iloc[:,-1].to_numpy()\n"
      ],
      "execution_count": 25,
      "outputs": []
    },
    {
      "cell_type": "markdown",
      "metadata": {
        "id": "SIRG42TgSR4x"
      },
      "source": [
        "### 2.2 Train on both sets with your perceptron code (with LR=.1)"
      ]
    },
    {
      "cell_type": "code",
      "metadata": {
        "id": "KBGUn43ASiXW",
        "colab": {
          "base_uri": "https://localhost:8080/"
        },
        "outputId": "7588c51d-928d-44f1-8a29-5e8bcbb788af"
      },
      "source": [
        "# Train on each dataset\n",
        "\n",
        "# Training on dataset 1\n",
        "p = Perceptron(learning_rate=0.1, shuffle=True)\n",
        "\n",
        "p.fit(X_1, y_1)\n",
        "predictions = p.predict(X_1)\n",
        "weights_1 = p.get_weights()\n",
        "\n",
        "print(weights_1)\n",
        "print(\"Perceptron classification accuracy of first model\", p.score(y_1, predictions)) \n",
        "print()\n",
        "\n",
        "\n",
        "# Training on dataset 2\n",
        "p = Perceptron(learning_rate=0.1, shuffle=True)\n",
        "p.fit(X_2, y_2)\n",
        "predictions = p.predict(X_2)\n",
        "weights_2 = p.get_weights()\n",
        "\n",
        "print(weights_2)\n",
        "print(\"Perceptron classification accuracy or second model\", p.score(y_2, predictions)) \n",
        "print()\n"
      ],
      "execution_count": 32,
      "outputs": [
        {
          "output_type": "stream",
          "name": "stdout",
          "text": [
            "model accuracy:  0.5\n",
            "classification error: 0.5\n",
            "difference: 0.5\n",
            "iteration: 0\n",
            "\n",
            "model accuracy:  0.75\n",
            "classification error: 0.25\n",
            "difference: 0.25\n",
            "iteration: 1\n",
            "\n",
            "model accuracy:  1.0\n",
            "classification error: 0.0\n",
            "difference: 0.25\n",
            "iteration: 2\n",
            "\n",
            "model accuracy:  1.0\n",
            "classification error: 0.0\n",
            "difference: 0.0\n",
            "iteration: 3\n",
            "\n",
            "[-0.08  0.08  0.  ]\n",
            "Perceptron classification accuracy of first model 1.0\n",
            "\n",
            "model accuracy:  0.5\n",
            "classification error: 0.5\n",
            "difference: 0.5\n",
            "iteration: 0\n",
            "\n",
            "model accuracy:  0.625\n",
            "classification error: 0.375\n",
            "difference: 0.125\n",
            "iteration: 1\n",
            "\n",
            "model accuracy:  0.625\n",
            "classification error: 0.375\n",
            "difference: 0.0\n",
            "iteration: 2\n",
            "\n",
            "[-0.04  0.02 -0.1 ]\n",
            "Perceptron classification accuracy 0.5\n",
            "\n"
          ]
        }
      ]
    },
    {
      "cell_type": "markdown",
      "metadata": {
        "id": "v19fpixqTe-7"
      },
      "source": [
        "### 2.3 Graph the datasets and their corresponding decision line\n",
        " \n",
        " - Graph each dataset\n",
        " - Use your trained perceptrons above to determine each dataset's decision line\n",
        " - For all graphs always label the axes!\n",
        " \n",
        "![Linearly Separable Data](https://raw.githubusercontent.com/rmorain/CS472-1/master/images/perceptron/linearly_separable.png)\n",
        "\n",
        "![Not Linearly Separable](https://raw.githubusercontent.com/rmorain/CS472-1/master/images/perceptron/not_linearly_separable.png)"
      ]
    },
    {
      "cell_type": "code",
      "metadata": {
        "id": "ZCPFUAGTS2sX",
        "colab": {
          "base_uri": "https://localhost:8080/",
          "height": 294
        },
        "outputId": "4a80565d-8812-44fc-f439-87155c3dc8dd"
      },
      "source": [
        "# Graph datasets and decision lines of Dataset 1\n",
        "\n",
        "groups = dataset_1.groupby('target')\n",
        "\n",
        "for name, group in groups:\n",
        "  plt.scatter(group['col_1'], group['col_2'], marker=\"o\", label=name)\n",
        "plt.xlabel(\"x\")\n",
        "plt.ylabel(\"y\")\n",
        "plt.title(\"linearly separable dataset\")\n",
        "'''pseudo code'''\n",
        "plt.plot([-.95, .95], [-.95 * (-weights_1[0]/weights_1[1]) + (-weights_1[2]/weights_1[1]), \n",
        "                       .95 * (-weights_1[0]/weights_1[1]) + (-weights_1[2]/weights_1[1])], c='g', label=\"Learned Separator\")\n",
        "plt.legend()\n",
        "plt.show()\n"
      ],
      "execution_count": 35,
      "outputs": [
        {
          "output_type": "display_data",
          "data": {
            "image/png": "[encoded data removed]",
            "text/plain": [
              "<Figure size 432x288 with 1 Axes>"
            ]
          },
          "metadata": {
            "needs_background": "light"
          }
        }
      ]
    },
    {
      "cell_type": "code",
      "metadata": {
        "colab": {
          "base_uri": "https://localhost:8080/",
          "height": 294
        },
        "id": "aM5a4T5fciKB",
        "outputId": "dc59fee3-5e08-409e-fbfe-03637d8099cc"
      },
      "source": [
        "# Graph datasets and decision lines of Dataset 2\n",
        "\n",
        "groups = dataset_2.groupby('target')\n",
        "\n",
        "for name, group in groups:\n",
        "  plt.scatter(group['col_1'], group['col_2'], marker=\"o\", label=name)\n",
        "plt.xlabel(\"x\")\n",
        "plt.ylabel(\"y\")\n",
        "plt.title(\"not linearly separable dataset\")\n",
        "'''pseudo code'''\n",
        "plt.plot([-.95, .95], [-.95 * (-weights_2[0]/weights_2[1]) + (-weights_2[2]/weights_2[1]), \n",
        "                       .95 * (-weights_2[0]/weights_2[1]) + (-weights_2[2]/weights_2[1])], c='g', label=\"Learned Separator\")\n",
        "plt.legend()\n",
        "plt.show()"
      ],
      "execution_count": 36,
      "outputs": [
        {
          "output_type": "display_data",
          "data": {
            "image/png": "[encoded data removed]",
            "text/plain": [
              "<Figure size 432x288 with 1 Axes>"
            ]
          },
          "metadata": {
            "needs_background": "light"
          }
        }
      ]
    },
    {
      "cell_type": "markdown",
      "metadata": {
        "id": "XSUg4XxgtmO8"
      },
      "source": [
        "### 2.4 Discuss why the perceptron won’t converge on non-linearly separable \n"
      ]
    },
    {
      "cell_type": "markdown",
      "metadata": {
        "id": "VvaW5h1OtmO9"
      },
      "source": [
        "The perceptron is a linear model so it will never learn a line that perfectly separates non-linear data. If the dataset is not linearly separable, then as the perceptron model runs through each feature in a given epoch, it will eventually reach a misclassified point and update the weights. Thus, the model will never reach 100% accuracy. If all the points in the dataset can be separated by a hyperplane, then the perceptron is guaranteed to converge on some solution (although the solution is not guaranteed to be optimal). Since a perceptron algorithm will continue to loop forever if the points are not linearly separable (which is most likely to be the case), we put stopping criteria to get the best model (with the highest accuracy) we can with the given dataset.\n",
        "\n",
        "In the first dataset the perceptron converged after 2 epochs, reaching 100% accuracy. The perceptron was not able to linearly separate second dataset and its accuracy decreased after the first epoch. (My stopping criteria caused this to end the iterations through the model, thus the line is inaccurate)"
      ]
    },
    {
      "cell_type": "markdown",
      "metadata": {
        "id": "0ySvhd1lUGSe"
      },
      "source": [
        "## 3. (20%) Use your perceptron code to learn this version of the [voting data set](https://raw.githubusercontent.com/cs472ta/CS472/master/datasets/voting-dataset.arff).\n",
        "\n",
        "This particular task is an edited version of the standard voting set, where we have replaced all the “don’t know” values with the most common value for the particular attribute.  \n",
        "\n",
        "### 3.1 Create a table that reports the final training and test set accuracy and the number of epochs for each trial.\n",
        "\n",
        "- Try it five times with different random 70/30 splits. \n",
        "- Use your own code to randomize and make splits. \n",
        "- Report the 5 trials and the average across the 5 trials in a table.  \n",
        "\n",
        "| Trial | Training Accuracy | Test accuracy | Number of epochs |\n",
        "| --- | --- | --- | --- |\n",
        "| 1 | .95 | .55 | 4 |\n",
        "| 2 | .85 | .45 | 6 |\n",
        "| Average | .9 | .5 | 5 | \n",
        "\n",
        "*- As a rough sanity check, typical Perceptron test accuracies for the voting data set are 90%-98%.*\n"
      ]
    },
    {
      "cell_type": "code",
      "metadata": {
        "id": "Romyl4G8Trki",
        "colab": {
          "base_uri": "https://localhost:8080/",
          "height": 1000
        },
        "outputId": "96cee3e1-196f-4283-95b4-a4230f477db3"
      },
      "source": [
        "# Create the table any way you like\n",
        "import numpy as np\n",
        "import pandas as pd\n",
        "from scipy.io.arff import loadarff\n",
        "\n",
        "!curl https://raw.githubusercontent.com/cs472ta/CS472/master/datasets/voting-dataset.arff --output voting_dataset.arff\n",
        "\n",
        "# Loading data\n",
        "dataset = loadarff('voting_dataset.arff')\n",
        "df_voting = pd.DataFrame(dataset[0])\n",
        "\n",
        "# Cleaning data and converting to proper data type\n",
        "str_df = df_voting.select_dtypes([np.object])\n",
        "str_df = str_df.stack().str.decode('utf-8').unstack()\n",
        "\n",
        "for col in str_df:\n",
        "    df_voting[col] = str_df[col]\n",
        "\n",
        "df_voting = df_voting.replace('n', 0)\n",
        "df_voting = df_voting.replace('y', 1)\n",
        "df_voting = df_voting.replace('democrat', 1)\n",
        "df_voting = df_voting.replace('republican', 0)\n",
        "\n",
        "# doing this for 5 trials\n",
        "num_loops = 5\n",
        "trial = 1\n",
        "df_table_results = pd.DataFrame(columns=['Trial', 'Training Accuracy', 'Test Accuracy', 'Number of Epochs'])\n",
        "misclassification_rate = []\n",
        "\n",
        "for i in range(1, num_loops + 1):\n",
        "      # Loading training dataset and splitting into 70/30\n",
        "      length_train = round(len(df_voting) * .7)\n",
        "      train_df = df_voting[:length_train]\n",
        "      bias = np.ones(len(train_df), dtype=float)\n",
        "      train_df.insert(train_df.shape[1] - 1, 'bias', bias)\n",
        "\n",
        "      # putting train_df into x and y for the fit\n",
        "      X_train = train_df.iloc[:,:-1].to_numpy()\n",
        "      y_train = train_df.iloc[:,-1].to_numpy()\n",
        "\n",
        "\n",
        "      # Loading test dataset and splitting into 70/30\n",
        "      length_test = round(len(df_voting) * .3)\n",
        "      test_df = df_voting.tail(length_test)\n",
        "      bias_test = np.ones(len(test_df), dtype=float)\n",
        "      test_df.insert(test_df.shape[1] - 1, 'bias', bias_test) \n",
        "\n",
        "      # print the triall\n",
        "      print(f\"********** Trial: {i} ************\")\n",
        "      print()\n",
        "\n",
        "      # throw into model and get results\n",
        "      p = Perceptron(learning_rate=0.1, shuffle=True)\n",
        "      p.fit(X_train, y_train)\n",
        "      predictions = p.predict(X_train)\n",
        "      a = p.get_weights()\n",
        "      print(f\"Weights after training: {a}\")\n",
        "      print()\n",
        "\n",
        "      # test the test_df\n",
        "      X_test = test_df.iloc[:,:-1].to_numpy()\n",
        "      y_test = test_df.iloc[:,-1].to_numpy()\n",
        "      predictions = p.predict(X_test)\n",
        "      print(\"Perceptron classification accuracy on test\", i, \" \", p.score(y_test, predictions))\n",
        "      print()\n",
        " \n",
        "      # Loading results into dataframe \n",
        "      training_accuracy = p.get_model_accuracy()\n",
        "      test_accuracy = p.score(y_test, p.predict(X_test))\n",
        "      epochs = p.get_ephochs()\n",
        "\n",
        "      df_table_results.loc[len(df_table_results.index)] = [trial, training_accuracy, test_accuracy, epochs]\n",
        "      \n",
        "      # updatgint counts\n",
        "      trial += 1\n",
        "      i += 1\n",
        "\n",
        "df_table_results = df_table_results.astype({\"Trial\": int})\n",
        "df_table_results = df_table_results.set_index('Trial')\n",
        "df_table_results.loc['Average'] = df_table_results.mean()\n",
        "df_table_results"
      ],
      "execution_count": 37,
      "outputs": [
        {
          "output_type": "stream",
          "name": "stdout",
          "text": [
            "  % Total    % Received % Xferd  Average Speed   Time    Time     Time  Current\n",
            "                                 Dload  Upload   Total   Spent    Left  Speed\n",
            "100 43825  100 43825    0     0   202k      0 --:--:-- --:--:-- --:--:--  202k\n",
            "********** Trial: 1 ************\n",
            "\n",
            "model accuracy:  0.6037151702786377\n",
            "classification error: 0.39628482972136225\n",
            "difference: 0.6037151702786377\n",
            "iteration: 0\n",
            "\n",
            "model accuracy:  0.8947368421052632\n",
            "classification error: 0.10526315789473684\n",
            "difference: 0.2910216718266254\n",
            "iteration: 1\n",
            "\n",
            "model accuracy:  0.9287925696594427\n",
            "classification error: 0.07120743034055732\n",
            "difference: 0.034055727554179516\n",
            "iteration: 2\n",
            "\n",
            "model accuracy:  0.9411764705882353\n",
            "classification error: 0.05882352941176472\n",
            "difference: 0.012383900928792602\n",
            "iteration: 3\n",
            "\n",
            "model accuracy:  0.9195046439628483\n",
            "classification error: 0.08049535603715174\n",
            "difference: -0.021671826625387025\n",
            "iteration: 4\n",
            "\n",
            "Weights after training: [ 2.00000000e-01  2.00000000e-01  5.00000000e-01 -1.50000000e+00\n",
            " -4.00000000e-01  2.00000000e-01 -5.00000000e-01 -2.00000000e-01\n",
            "  5.00000000e-01 -3.00000000e-01  7.00000000e-01 -2.77555756e-17\n",
            "  2.00000000e-01 -1.00000000e-01  2.00000000e-01 -3.00000000e-01\n",
            "  6.00000000e-01]\n",
            "\n",
            "Perceptron classification accuracy on test 1   0.9565217391304348\n",
            "\n",
            "********** Trial: 2 ************\n",
            "\n",
            "model accuracy:  0.6037151702786377\n",
            "classification error: 0.39628482972136225\n",
            "difference: 0.6037151702786377\n",
            "iteration: 0\n",
            "\n",
            "model accuracy:  0.8761609907120743\n",
            "classification error: 0.12383900928792568\n",
            "difference: 0.27244582043343657\n",
            "iteration: 1\n",
            "\n",
            "model accuracy:  0.9226006191950464\n",
            "classification error: 0.07739938080495357\n",
            "difference: 0.04643962848297212\n",
            "iteration: 2\n",
            "\n",
            "model accuracy:  0.9380804953560371\n",
            "classification error: 0.0619195046439629\n",
            "difference: 0.015479876160990669\n",
            "iteration: 3\n",
            "\n",
            "model accuracy:  0.9442724458204335\n",
            "classification error: 0.05572755417956654\n",
            "difference: 0.006191950464396356\n",
            "iteration: 4\n",
            "\n",
            "model accuracy:  0.9628482972136223\n",
            "classification error: 0.037151702786377694\n",
            "difference: 0.018575851393188847\n",
            "iteration: 5\n",
            "\n",
            "model accuracy:  0.9535603715170279\n",
            "classification error: 0.04643962848297212\n",
            "difference: -0.009287925696594423\n",
            "iteration: 6\n",
            "\n",
            "Weights after training: [ 1.00000000e-01  1.00000000e-01  6.00000000e-01 -1.40000000e+00\n",
            " -5.00000000e-01  4.00000000e-01 -6.00000000e-01 -5.00000000e-01\n",
            "  6.00000000e-01 -5.00000000e-01  7.00000000e-01 -2.77555756e-17\n",
            " -2.00000000e-01 -1.00000000e-01  4.00000000e-01 -3.00000000e-01\n",
            "  7.00000000e-01]\n",
            "\n",
            "Perceptron classification accuracy on test 2   0.8840579710144928\n",
            "\n",
            "********** Trial: 3 ************\n",
            "\n",
            "model accuracy:  0.6037151702786377\n",
            "classification error: 0.39628482972136225\n",
            "difference: 0.6037151702786377\n",
            "iteration: 0\n",
            "\n",
            "model accuracy:  0.8854489164086687\n",
            "classification error: 0.11455108359133126\n",
            "difference: 0.281733746130031\n",
            "iteration: 1\n",
            "\n",
            "model accuracy:  0.9256965944272446\n",
            "classification error: 0.07430340557275539\n",
            "difference: 0.04024767801857587\n",
            "iteration: 2\n",
            "\n",
            "model accuracy:  0.9380804953560371\n",
            "classification error: 0.0619195046439629\n",
            "difference: 0.01238390092879249\n",
            "iteration: 3\n",
            "\n",
            "model accuracy:  0.9411764705882353\n",
            "classification error: 0.05882352941176472\n",
            "difference: 0.003095975232198178\n",
            "iteration: 4\n",
            "\n",
            "Weights after training: [ 2.00000000e-01  2.00000000e-01  6.00000000e-01 -1.30000000e+00\n",
            " -3.00000000e-01  3.00000000e-01 -4.00000000e-01 -4.00000000e-01\n",
            "  6.00000000e-01 -4.00000000e-01  8.00000000e-01  2.00000000e-01\n",
            " -1.00000000e-01 -2.77555756e-17  2.00000000e-01 -1.00000000e-01\n",
            "  7.00000000e-01]\n",
            "\n",
            "Perceptron classification accuracy on test 3   0.9202898550724637\n",
            "\n",
            "********** Trial: 4 ************\n",
            "\n",
            "model accuracy:  0.6037151702786377\n",
            "classification error: 0.39628482972136225\n",
            "difference: 0.6037151702786377\n",
            "iteration: 0\n",
            "\n",
            "model accuracy:  0.8792569659442725\n",
            "classification error: 0.1207430340557275\n",
            "difference: 0.27554179566563475\n",
            "iteration: 1\n",
            "\n",
            "model accuracy:  0.9256965944272446\n",
            "classification error: 0.07430340557275539\n",
            "difference: 0.04643962848297212\n",
            "iteration: 2\n",
            "\n",
            "model accuracy:  0.9535603715170279\n",
            "classification error: 0.04643962848297212\n",
            "difference: 0.02786377708978327\n",
            "iteration: 3\n",
            "\n",
            "model accuracy:  0.9411764705882353\n",
            "classification error: 0.05882352941176472\n",
            "difference: -0.012383900928792602\n",
            "iteration: 4\n",
            "\n",
            "Weights after training: [ 1.00000000e-01 -1.00000000e-01  5.00000000e-01 -1.30000000e+00\n",
            " -3.00000000e-01  3.00000000e-01 -6.00000000e-01 -4.00000000e-01\n",
            "  6.00000000e-01 -3.00000000e-01  7.00000000e-01 -1.00000000e-01\n",
            "  0.00000000e+00 -2.77555756e-17  3.00000000e-01 -2.00000000e-01\n",
            "  5.00000000e-01]\n",
            "\n",
            "Perceptron classification accuracy on test 4   0.9057971014492754\n",
            "\n",
            "********** Trial: 5 ************\n",
            "\n",
            "model accuracy:  0.6037151702786377\n",
            "classification error: 0.39628482972136225\n",
            "difference: 0.6037151702786377\n",
            "iteration: 0\n",
            "\n",
            "model accuracy:  0.891640866873065\n",
            "classification error: 0.10835913312693501\n",
            "difference: 0.28792569659442724\n",
            "iteration: 1\n",
            "\n",
            "model accuracy:  0.9195046439628483\n",
            "classification error: 0.08049535603715174\n",
            "difference: 0.02786377708978327\n",
            "iteration: 2\n",
            "\n",
            "model accuracy:  0.9597523219814241\n",
            "classification error: 0.04024767801857587\n",
            "difference: 0.04024767801857587\n",
            "iteration: 3\n",
            "\n",
            "model accuracy:  0.9504643962848297\n",
            "classification error: 0.049535603715170295\n",
            "difference: -0.009287925696594423\n",
            "iteration: 4\n",
            "\n",
            "Weights after training: [ 2.00000000e-01 -2.77555756e-17  5.00000000e-01 -1.30000000e+00\n",
            " -2.00000000e-01  3.00000000e-01 -4.00000000e-01 -5.00000000e-01\n",
            "  6.00000000e-01 -3.00000000e-01  7.00000000e-01 -2.00000000e-01\n",
            " -1.00000000e-01 -1.00000000e-01  5.00000000e-01 -3.00000000e-01\n",
            "  5.00000000e-01]\n",
            "\n",
            "Perceptron classification accuracy on test 5   0.9057971014492754\n",
            "\n"
          ]
        },
        {
          "output_type": "execute_result",
          "data": {
            "text/html": [
              "<div>\n",
              "<style scoped>\n",
              "    .dataframe tbody tr th:only-of-type {\n",
              "        vertical-align: middle;\n",
              "    }\n",
              "\n",
              "    .dataframe tbody tr th {\n",
              "        vertical-align: top;\n",
              "    }\n",
              "\n",
              "    .dataframe thead th {\n",
              "        text-align: right;\n",
              "    }\n",
              "</style>\n",
              "<table border=\"1\" class=\"dataframe\">\n",
              "  <thead>\n",
              "    <tr style=\"text-align: right;\">\n",
              "      <th></th>\n",
              "      <th>Training Accuracy</th>\n",
              "      <th>Test Accuracy</th>\n",
              "      <th>Number of Epochs</th>\n",
              "    </tr>\n",
              "    <tr>\n",
              "      <th>Trial</th>\n",
              "      <th></th>\n",
              "      <th></th>\n",
              "      <th></th>\n",
              "    </tr>\n",
              "  </thead>\n",
              "  <tbody>\n",
              "    <tr>\n",
              "      <th>1</th>\n",
              "      <td>0.919505</td>\n",
              "      <td>0.956522</td>\n",
              "      <td>4.0</td>\n",
              "    </tr>\n",
              "    <tr>\n",
              "      <th>2</th>\n",
              "      <td>0.953560</td>\n",
              "      <td>0.884058</td>\n",
              "      <td>6.0</td>\n",
              "    </tr>\n",
              "    <tr>\n",
              "      <th>3</th>\n",
              "      <td>0.941176</td>\n",
              "      <td>0.920290</td>\n",
              "      <td>4.0</td>\n",
              "    </tr>\n",
              "    <tr>\n",
              "      <th>4</th>\n",
              "      <td>0.941176</td>\n",
              "      <td>0.905797</td>\n",
              "      <td>4.0</td>\n",
              "    </tr>\n",
              "    <tr>\n",
              "      <th>5</th>\n",
              "      <td>0.950464</td>\n",
              "      <td>0.905797</td>\n",
              "      <td>4.0</td>\n",
              "    </tr>\n",
              "    <tr>\n",
              "      <th>Average</th>\n",
              "      <td>0.941176</td>\n",
              "      <td>0.914493</td>\n",
              "      <td>4.4</td>\n",
              "    </tr>\n",
              "  </tbody>\n",
              "</table>\n",
              "</div>"
            ],
            "text/plain": [
              "         Training Accuracy  Test Accuracy  Number of Epochs\n",
              "Trial                                                      \n",
              "1                 0.919505       0.956522               4.0\n",
              "2                 0.953560       0.884058               6.0\n",
              "3                 0.941176       0.920290               4.0\n",
              "4                 0.941176       0.905797               4.0\n",
              "5                 0.950464       0.905797               4.0\n",
              "Average           0.941176       0.914493               4.4"
            ]
          },
          "metadata": {},
          "execution_count": 37
        }
      ]
    },
    {
      "cell_type": "markdown",
      "metadata": {
        "id": "cm4rbWkzVeoR"
      },
      "source": [
        "### 3.2 By looking at the weights, explain what the model has learned and how the individual input features affect the result. Which specific features are most critical for the voting task, and which are least critical? \n"
      ]
    },
    {
      "cell_type": "markdown",
      "metadata": {
        "id": "g3F0Qp-BVi1R"
      },
      "source": [
        "The model has learned how the 16 features in the dataset affect output of the datset. In this case, the output is the party of a given congressperson. Weights affect the amount of influence a change in the input will have upon the output. In this dataset, inputs with higher absolute weights contribute more towards a congressperson’s political affiliation, and those inputs with smaller absolute weights matter less, or have a smaller influence on the output. \n",
        "\n",
        "The three most critical features are “physician-fee-freeze”, “adoption-of-the-budget-resolution” and “mx-missile.” These three features consistently had the largest absolute values over the 5 trials.  The two least critical features (the features with the smallest absolute value over the 5 trials)  were “crime” and “water-project-cost-sharing.” \n",
        "\n",
        "(Note: After a quick google search of these bills and a brief overview of the political climate in the 80's, these results seem fairly intuitive)"
      ]
    },
    {
      "cell_type": "markdown",
      "metadata": {
        "id": "NyUmJ4yWVsQ7"
      },
      "source": [
        "### 3.3 Make a graph of the average misclassification rate vs epochs (0th – final epoch).\n",
        "\n",
        "- Average the misclassification rate for the training set across your 5 trials (not across 5 epochs).\n",
        "\n",
        "\n",
        "![Average Misclassification Rate](https://raw.githubusercontent.com/rmorain/CS472-1/master/images/perceptron/avg_misclassification_rate_vs_epochs.png)"
      ]
    },
    {
      "cell_type": "code",
      "metadata": {
        "id": "2_ZRPWWVVeFM",
        "colab": {
          "base_uri": "https://localhost:8080/",
          "height": 294
        },
        "outputId": "75864380-5a01-47cf-ef88-c90cab9a1288"
      },
      "source": [
        "# Graph here\n",
        "    \n",
        "def plot_misclassification(avg_misclassification_rate):\n",
        "    \"\"\"\n",
        "        Plots the average misclassification rate\n",
        "    Args:\n",
        "        avg_misclassification_rate (array-like): A 1D array or list\n",
        "    \"\"\"\n",
        "    plt.plot(np.arange(len(avg_misclassification_rate)), avg_misclassification_rate)\n",
        "    plt.title(\"Average Misclassification Rate vs. Epoch\")\n",
        "    plt.xlabel(\"Epoch\")\n",
        "    plt.ylabel(\"Misclassification Rate\")\n",
        "    plt.show()\n",
        "\n",
        "#Loading csv that I am attaching to this lab\n",
        "avg_misclassification_rate = pd.read_csv(\"/content/sample_data/Results_Voting_Data_Error.csv\")\n",
        "avg_misclassification_rate.loc['Average'] = avg_misclassification_rate.mean()\n",
        "\n",
        "avg_misclassification_rate = avg_misclassification_rate.loc[5].values.tolist()\n",
        "avg_misclassification_rate.pop(0)\n",
        "\n",
        "plot_misclassification(avg_misclassification_rate)\n",
        "\n",
        "  \n",
        "    \n"
      ],
      "execution_count": 68,
      "outputs": [
        {
          "output_type": "display_data",
          "data": {
            "image/png": "[encoded data removed]",
            "text/plain": [
              "<Figure size 432x288 with 1 Axes>"
            ]
          },
          "metadata": {
            "needs_background": "light"
          }
        }
      ]
    },
    {
      "cell_type": "markdown",
      "metadata": {
        "id": "V6YO8bf2qLNj"
      },
      "source": [
        "The misclassification rate starts to oscillate after around 3 epochs. It hovers around 5% before my stopping criteria stops the algorithm from continuing to iterate through the epochs"
      ]
    },
    {
      "cell_type": "markdown",
      "metadata": {
        "id": "oBBmeNQ7jvcQ"
      },
      "source": [
        "## 4.1 (5%) Use the perceptron algorithm from the [scikit-learn toolkit](https://scikit-learn.org/stable/modules/generated/sklearn.linear_model.Perceptron.html) to learn the voting task above.\n",
        "- Report and compare your results with your own perceptron code."
      ]
    },
    {
      "cell_type": "code",
      "metadata": {
        "id": "OFQv70W2VyqJ",
        "colab": {
          "base_uri": "https://localhost:8080/"
        },
        "outputId": "cf8519f0-9463-4ab9-f393-a07b659b7eba"
      },
      "source": [
        "# Load sklearn perceptron\n",
        "from sklearn.model_selection import train_test_split\n",
        "import random as r\n",
        "import sklearn\n",
        "from sklearn.linear_model import Perceptron\n",
        "\n",
        "!curl https://raw.githubusercontent.com/cs472ta/CS472/master/datasets/voting-dataset.arff --output voting_dataset.arff\n",
        "\n",
        "# Loading data\n",
        "dataset = loadarff('voting_dataset.arff')\n",
        "df_voting = pd.DataFrame(dataset[0])\n",
        "\n",
        "# Cleaning data and converting to proper data type\n",
        "str_df = df_voting.select_dtypes([np.object])\n",
        "str_df = str_df.stack().str.decode('utf-8').unstack()\n",
        "\n",
        "for col in str_df:\n",
        "    df_voting[col] = str_df[col]\n",
        "\n",
        "df_voting = df_voting.replace('n', 0)\n",
        "df_voting = df_voting.replace('y', 1)\n",
        "df_voting = df_voting.replace('democrat', 1)\n",
        "df_voting = df_voting.replace('republican', 0)\n",
        "\n",
        "\n",
        "# Train on voting dataset\n",
        "\n",
        "# Running data through algorithm - with training and testing\n",
        "X_data = df_voting.iloc[:,:-1].to_numpy()\n",
        "y_data = df_voting.iloc[:,-1].to_numpy()\n",
        "\n",
        "# Replicating the trails in my algorithm in previous section\n",
        "num_tests = 5\n",
        "\n",
        "for i in range(1, num_tests + 1):\n",
        "      \n",
        "    rand_int = r.randint(1, 100)\n",
        "\n",
        "    X_train, X_test, y_train, y_test = train_test_split(X_data, y_data, test_size=0.30, random_state = rand_int)\n",
        "\n",
        "    #Same stopping criteria - iterations will stop when (loss > previous_loss - tol) ... and tol is .001\n",
        "    p_model_voting = Perceptron(tol=1e-3, random_state=0)\n",
        "    p_model_voting.fit(X_train, y_train)\n",
        "    accuracy = p_model_voting.score(X_test, y_test)\n",
        "\n",
        "    print(f\"Trial {i} results in accuracy of {accuracy}\")\n",
        "    print()"
      ],
      "execution_count": 71,
      "outputs": [
        {
          "output_type": "stream",
          "name": "stdout",
          "text": [
            "  % Total    % Received % Xferd  Average Speed   Time    Time     Time  Current\n",
            "                                 Dload  Upload   Total   Spent    Left  Speed\n",
            "\r  0     0    0     0    0     0      0      0 --:--:-- --:--:-- --:--:--     0\r100 43825  100 43825    0     0   995k      0 --:--:-- --:--:-- --:--:--  995k\n",
            "Trial 1 results in accuracy of 0.9568345323741008\n",
            "\n",
            "Trial 2 results in accuracy of 0.9496402877697842\n",
            "\n",
            "Trial 3 results in accuracy of 0.935251798561151\n",
            "\n",
            "Trial 4 results in accuracy of 0.9496402877697842\n",
            "\n",
            "Trial 5 results in accuracy of 0.935251798561151\n",
            "\n"
          ]
        }
      ]
    },
    {
      "cell_type": "markdown",
      "metadata": {
        "id": "poEhXfdxtmO-"
      },
      "source": [
        "Using the perceptron algorithm from the scikit-learn toolkit to learn the voting set data yielded very similar testing accuracy over the 5 trials compared to my model. I set the stopping criteria of the scikit-learn model to “tol=le-3”, which means to stop the model when “loss > previous_loss - tol.” This was the same stopping criteria that I had in my code in the fit() method. (if self.model_accuracy - after_iteration_accuracy < 0.001:)\n",
        "\n",
        "After 5 trials, my algorithm was 1.4% more accurate, on average (my model had 92.9% accuracy, compared with 91.5% for the scikit-learn model). The other default parameters from the scikit-learning-toolkit are likely causing the small variation from my code.\n"
      ]
    },
    {
      "cell_type": "markdown",
      "metadata": {
        "id": "9XgfRZ75tmO-"
      },
      "source": [
        "## 4.2 (5%) Use the perceptron algorithm from the [scikit-learn toolkit](https://scikit-learn.org/stable/modules/generated/sklearn.linear_model.Perceptron.html) to learn one other data set of your choice.\n",
        "- Try out some of the hyper-parameters that scikit-learn makes available."
      ]
    },
    {
      "cell_type": "code",
      "metadata": {
        "id": "76aZCJ3CtmO_",
        "colab": {
          "base_uri": "https://localhost:8080/"
        },
        "outputId": "b90a04ce-cd0c-4b7f-81f1-30a180f6150b"
      },
      "source": [
        "# Load sklearn perceptron\n",
        "!curl https://axon.cs.byu.edu/data/uci_class/MagicTelescope.arff --output telescope.arff\n",
        "\n",
        "\n",
        "telescope_data = loadarff(\"telescope.arff\")\n",
        "telescope_df = pd.DataFrame(telescope_data[0])\n",
        "\n",
        "#Cleaning data\n",
        "str_df_new = telescope_df.select_dtypes([np.object])\n",
        "str_df_new = str_df_new.stack().str.decode('utf-8').unstack()\n",
        "\n",
        "for col in str_df_new:\n",
        "    telescope_df[col] = str_df_new[col]\n",
        "\n",
        "#gamma = 0 ; hadron = 1\n",
        "telescope_df = telescope_df.replace('g', 0)\n",
        "telescope_df = telescope_df.replace('h', 1)\n",
        "\n",
        "#normalizing data\n",
        "X_data = telescope_df.iloc[:,:-1]\n",
        "normalized_X_data =(X_data-X_data.min())/(X_data.max()-X_data.min())\n",
        "\n",
        "\n",
        "\n",
        "# Train on your dataset\n",
        "from sklearn.model_selection import train_test_split\n",
        "import random as r\n",
        "\n",
        "# Running data through algorithm - with training and testing\n",
        "X_telescope = normalized_X_data.to_numpy()\n",
        "y_telescope = telescope_df.iloc[:,-1].to_numpy()\n",
        "\n",
        "# Implementing same trial format - iterating through 5 times\n",
        "num_tests = 5\n",
        "\n",
        "for i in range(1, num_tests + 1):\n",
        "      \n",
        "    rand_int = r.randint(1, 100)\n",
        "\n",
        "    X_train, X_test, y_train, y_test = train_test_split(X_telescope, y_telescope, test_size=0.30, random_state = rand_int)\n",
        "\n",
        "    p_model_telescope = Perceptron(penalty='l2', early_stopping=True, random_state=0)\n",
        "    p_model_telescope.fit(X_train, y_train)\n",
        "    accuracy = p_model_telescope.score(X_test, y_test)\n",
        "\n",
        "    print(f\"Trial {i} results in accuracy of {accuracy}\")\n",
        "    print()"
      ],
      "execution_count": 78,
      "outputs": [
        {
          "output_type": "stream",
          "name": "stdout",
          "text": [
            "  % Total    % Received % Xferd  Average Speed   Time    Time     Time  Current\n",
            "                                 Dload  Upload   Total   Spent    Left  Speed\n",
            "100 1448k  100 1448k    0     0   774k      0  0:00:01  0:00:01 --:--:--  774k\n",
            "Trial 1 results in accuracy of 0.7145110410094637\n",
            "\n",
            "Trial 2 results in accuracy of 0.7590255871012969\n",
            "\n",
            "Trial 3 results in accuracy of 0.7676130389064143\n",
            "\n",
            "Trial 4 results in accuracy of 0.7917981072555205\n",
            "\n",
            "Trial 5 results in accuracy of 0.7953031896249562\n",
            "\n"
          ]
        }
      ]
    },
    {
      "cell_type": "markdown",
      "metadata": {
        "id": "BqSFAXwlk3Ms"
      },
      "source": [
        "I chose to use the “Magic gamma telescope” dataset. This dataset has 10 continuous features with one output class (gamma or hadron). I converted the output class to binary outputs and I normalized all the continuous features using min/max normalization. I ran 5 trials through the dataset, randomizing and splitting the data using the train_test_split method from sklearn. \n",
        "\n",
        "In the perceptron algorithm I used the penalty, early_stopping, and the other default hyper-parameters. I set the penalty to “l2” regularization. The L2 regularization performed much better on average in my 5 trial runs than the L1 penalty (around %5 less error). I believe that L2 performed better because the L2 estimates the mean rather than the median, which helps to avoid overfitting. The early_stopping parameter automatically sets aside a fraction of training data as validation and terminates training when the validation score is not improved by at least tol. This combination of parameters gave me the best score for this perceptron model. Over the 5 trial runs, I got an average accuracy of 76.6%.\n"
      ]
    },
    {
      "cell_type": "markdown",
      "metadata": {
        "id": "hWI4MzExpXYF"
      },
      "source": [
        ""
      ]
    },
    {
      "cell_type": "markdown",
      "metadata": {
        "id": "cTlK-kijk8Mg"
      },
      "source": [
        "## 5. (Optional 5% extra credit) Use the perceptron rule to learn the [iris task](https://raw.githubusercontent.com/cs472ta/CS472/master/datasets/iris.arff) or some other task with more than two possible output values. \n",
        "\n",
        "Note that the [iris data](https://raw.githubusercontent.com/cs472ta/CS472/master/datasets/iris.arff) set has 3 output classes, and a perceptron node only has two possible outputs.  You could implement either of the two most common ways to deal with this. For testing you just execute the novel instance on each model and combine the overall results to see which output class wins."
      ]
    }
  ]
}