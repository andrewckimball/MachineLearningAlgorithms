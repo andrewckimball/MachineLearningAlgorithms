{
  "nbformat": 4,
  "nbformat_minor": 0,
  "metadata": {
    "colab": {
      "name": "Lab 4 KNN Final.ipynb",
      "provenance": [],
      "collapsed_sections": [
        "Hno-_iSQwC5l",
        "zo9BuBO5xCT4",
        "Of-9Qrv3yyQP",
        "CQIu9hDyy5ta",
        "0vHk3fYr1S3Y",
        "4PnCj8C23Xo0",
        "kh5OZfNd3bUn"
      ]
    },
    "kernelspec": {
      "name": "python3",
      "display_name": "Python 3"
    },
    "language_info": {
      "name": "python"
    }
  },
  "cells": [
    {
      "cell_type": "markdown",
      "metadata": {
        "id": "0ERkuEhJvlp4"
      },
      "source": [
        "# K-Nearest Neighbor Lab"
      ]
    },
    {
      "cell_type": "code",
      "metadata": {
        "id": "sAn2XgGZvLnN"
      },
      "source": [
        "from sklearn.base import BaseEstimator, ClassifierMixin\n",
        "from sklearn.neighbors import KNeighborsClassifier, KNeighborsRegressor\n",
        "import numpy as np\n",
        "import matplotlib.pyplot as plt\n",
        "import pandas as pd\n",
        "from scipy.io.arff import loadarff\n",
        "import math\n",
        "import operator\n",
        "from numpy import linalg as LNG \n",
        "from collections import Counter"
      ],
      "execution_count": 25,
      "outputs": []
    },
    {
      "cell_type": "markdown",
      "metadata": {
        "id": "DwUpC22_v02v"
      },
      "source": [
        "# 1. Correctly implement the k-nearest neighbor (KNN) algorithm and the KNN regression algorithm"
      ]
    },
    {
      "cell_type": "markdown",
      "metadata": {
        "id": "AL2-R4kwv_wP"
      },
      "source": [
        "## Final KNN Class"
      ]
    },
    {
      "cell_type": "code",
      "metadata": {
        "id": "Vy1qLi9Yv3hy"
      },
      "source": [
        "class KNNClassifier():\n",
        "    def __init__(self, columntype=[], weight_type='inverse_distance', knn=3, regression=None, total_dataset=None): ## add parameters here\n",
        "\n",
        "        self.columntype = columntype \n",
        "        self.weight_type = weight_type\n",
        "        self.knn = knn\n",
        "        self.regression = regression\n",
        "        self.entire_df = total_dataset\n",
        "        \n",
        "\n",
        "    def fit(self, X, y):\n",
        "        self.X_train = X\n",
        "        self.y_train = y\n",
        "\n",
        "\n",
        "    def predict(self, X_test):\n",
        "        if not self.regression:\n",
        "            predicted_labels = []\n",
        "            for point in X_test:\n",
        "                # if there are homogeneous data types\n",
        "                if self.columntype == []:\n",
        "                    distances = LNG.norm(point - self.X_train, axis=1)\n",
        "                \n",
        "                else:\n",
        "                    # get indices for separating columns\n",
        "                    indices_obj = [i for i, x in enumerate(self.columntype) if x == \"object\"]\n",
        "                    indices_float = [i for i, x in enumerate(self.columntype) if x == \"float64\"]\n",
        "\n",
        "                    # get standard deviation of numeric columns\n",
        "                    std_col = self.standard_deviation(self.entire_df, indices_float)\n",
        "                    std_col = np.array(std_col) # make numpy array\n",
        "                    std_col_x4 = 4 * std_col # multiply by 4\n",
        "\n",
        "                    list_cat_distances = self.categorical_distances(self.entire_df)\n",
        "                    distances = self.heterogeneous_data(point, self.X_train, indices_obj, indices_float, list_cat_distances, std_col_x4)\n",
        "\n",
        "                # check to see if user specifies inverse distancing\n",
        "                if self.weight_type != 'inverse_distance':\n",
        "                    predicted_label = self.voting(self.y_train, distances) \n",
        "                    predicted_labels.append(predicted_label)\n",
        "                else:\n",
        "                    # weighted_distances = [self.weighted_distances(d) for d in distances] # list comprehension for weighted distances\n",
        "                    weighted_distances = self.weighted_distances(distances)\n",
        "                    predicted_label = self.voting(self.y_train, weighted_distances) \n",
        "                    predicted_labels.append(predicted_label)\n",
        "\n",
        "            return predicted_labels\n",
        "        \n",
        "        else: \n",
        "            predicted_labels = []\n",
        "            for point in X_test:\n",
        "                # distances = [self.euclidian_distance(point, x) for x in self.X_train] # list comprehension for distances\n",
        "                distances = LNG.norm(point - self.X_train, axis=1)\n",
        "                predicted_label = self.regression_voting(self.y_train, distances) \n",
        "                predicted_labels.append(predicted_label)\n",
        "\n",
        "            return predicted_labels\n",
        "    \n",
        "\n",
        "    def categorical_distances(self, df_credit): #kinda lazy with the nomenclature - maybe exclude this from this class amd make an external function...\n",
        "        #### Implementing Cat Distances IN ENTIRE LOOP THROUGH ALL CAT COLUMNS ####.   N2 Normalized*****\n",
        "        full_list = []\n",
        "        for col in indices_obj:\n",
        "            count_column = df_credit.iloc[:,col].value_counts()\n",
        "            subsets_1 = []\n",
        "            subsets_0 = []\n",
        "            uniq_values = []\n",
        "            for i, val in count_column.iteritems():\n",
        "              subset = np.where((df_credit.iloc[:,col] == i) & (df_credit['class'] == 1)) \n",
        "              subsets_1.append(subset)\n",
        "              subset0 = np.where((df_credit.iloc[:,col] == i) & (df_credit['class'] == 0))\n",
        "              subsets_0.append(subset0)\n",
        "              uniq_values.append(i)\n",
        "\n",
        "            value_pairs = []\n",
        "            list_dist0 = []\n",
        "            list_dist1 = []\n",
        "            for i in range(len(uniq_values)):\n",
        "                for j in range(i + 1, len(uniq_values)):\n",
        "                    value_pairs.append(uniq_values[i] + uniq_values[j])\n",
        "                    dist0 = math.sqrt(((len(subsets_0[i][0])/len(df_credit)) - (len(subsets_0[j][0])/len(df_credit)))**2) ## using N2 approach\n",
        "                    dist1 = math.sqrt(((len(subsets_1[i][0])/len(df_credit)) - (len(subsets_1[j][0])/len(df_credit)))**2)\n",
        "                    list_dist0.append(dist0)\n",
        "                    list_dist1.append(dist1)\n",
        "\n",
        "            sum_lists = np.add(list_dist0, list_dist1)\n",
        "            dict_distances = dict(zip(value_pairs, sum_lists))\n",
        "\n",
        "            full_list.append(dict_distances)\n",
        "\n",
        "        return full_list\n",
        "\n",
        "    \n",
        "    def heterogeneous_data(self, point, X_train, indices_obj, indices_float, full_list, std_col):\n",
        "        total_distance = []\n",
        "        for idx, val in enumerate(X_train):\n",
        "            ### categorical distances\n",
        "            train_instance = X_train[idx,:]\n",
        "\n",
        "            point_cat = np.delete(point, [indices_float])\n",
        "            point_cat_train = np.delete(train_instance, [indices_float]) # removing all real columns from X_train\n",
        "\n",
        "            distance_cat = []\n",
        "            for i in range(len(indices_obj)-1):\n",
        "              categorical_combo = point_cat[i] + point_cat_train[i]\n",
        "\n",
        "              if categorical_combo in full_list[i]:\n",
        "                distance = full_list[i].get(categorical_combo)\n",
        "              elif categorical_combo[::-1] in full_list[i]: #check reverse order\n",
        "                distance = full_list[i].get(categorical_combo[::-1])\n",
        "              else:\n",
        "                distance = 0\n",
        "              distance_cat.append(distance)\n",
        "\n",
        "            sum_cat_distance = sum(distance_cat)\n",
        "\n",
        "\n",
        "            ### real data\n",
        "            point_real = np.delete(point, [indices_obj])\n",
        "            point_real_train = np.delete(train_instance, [indices_obj])\n",
        "\n",
        "            # implementing equation 13 from paper (normalized_diff(x, y))\n",
        "            distance = abs(np.subtract(point_real, point_real_train))\n",
        "            distance = np.array(distance, dtype=float)\n",
        "            \n",
        "            # check if difference contains nan value\n",
        "            if np.isnan(distance.astype(np.float64)).any():\n",
        "              distance[np.isnan(distance)] = 1\n",
        "            \n",
        "            normalized_diff = sum(np.divide(distance, std_col)) #standard deviation of columns * 4\n",
        "            \n",
        "            # add cat and real distances to array\n",
        "            sum_d = np.add(normalized_diff, sum_cat_distance)\n",
        "            total_distance.append(sum_d)\n",
        "          \n",
        "        return total_distance\n",
        "\n",
        "\n",
        "    def standard_deviation(self, dataset, indices_float):\n",
        "        std_columns = []\n",
        "        for col in indices_float:\n",
        "            std_col = dataset.iloc[:,col].std()\n",
        "            std_columns.append(std_col)\n",
        "        return std_col\n",
        "\n",
        "\n",
        "    def score(self, y_true, y_pred):\n",
        "        accuracy = np.sum(y_true == y_pred) / len(y_true)\n",
        "        return accuracy\n",
        "\n",
        "\n",
        "    def mse(self, y_true, y_pred):\n",
        "        # y_pred = np.array(y_pred) # convert to numpy array in order to perform MSE calc\n",
        "        return np.average((y_true - y_pred)**2)\n",
        "\n",
        "\n",
        "    def weighted_distances(self, distances):\n",
        "        distances = np.array(distances)\n",
        "        if np.all(distances) == False: # check to see if there are any zero values in the array\n",
        "            distances = np.where(distances == 0, .01, distances)\n",
        "            w_distances = np.divide(1,np.square(distances))\n",
        "        else:\n",
        "            w_distances = np.divide(1,np.square(distances))\n",
        "        return w_distances\n",
        "\n",
        "    def regression_voting(self, y_train, distances):\n",
        "        if self.weight_type != 'inverse_distance':\n",
        "            k_indexes = np.argsort(distances)[: self.knn]   # indexes of top k instances\n",
        "            top_k_values = np.asarray([distances[x] for x in k_indexes])   # get associated values\n",
        "            avg_distance = np.average(top_k_values)\n",
        "            return avg_distance\n",
        "        \n",
        "        else:\n",
        "            k_indexes = np.argsort(distances)[: self.knn]   # indexes of top k instances\n",
        "            top_k_values = np.asarray([distances[x] for x in k_indexes])   # get associated values\n",
        "            k_neighbor_real_labels = np.asarray([y_train[k] for k in k_indexes])    # get true labels associated with relevant indexes\n",
        "            y_pred_dist = (np.divide(k_neighbor_real_labels, top_k_values**2).sum())/ (np.divide(1, top_k_values**2).sum())\n",
        "            return y_pred_dist\n",
        "\n",
        "    def voting(self, y_train, distances):\n",
        "        if self.weight_type != 'inverse_distance':\n",
        "            k_indexes = np.argsort(distances)[: self.knn]\n",
        "            k_neighbor_labels = [y_train[k] for k in k_indexes]\n",
        "            winning_label = sorted(Counter(k_neighbor_labels).most_common())[0][0]\n",
        "            return winning_label\n",
        "\n",
        "        else:\n",
        "            k_indexes_sort = np.argsort(distances)[::-1]\n",
        "            k_indexes = k_indexes_sort[: self.knn]\n",
        "            top_k_values = [distances[x] for x in k_indexes]\n",
        "            k_neighbor_labels = [y_train[k] for k in k_indexes]\n",
        "            final_dict = {}\n",
        "            for label, value in zip(k_neighbor_labels, top_k_values):\n",
        "                final_dict[label] = final_dict.get(label, 0) + value\n",
        "            winning_label = max(final_dict.items(), key=operator.itemgetter(1))[0]\n",
        "            return winning_label\n",
        "\n",
        "    "
      ],
      "execution_count": 52,
      "outputs": []
    },
    {
      "cell_type": "markdown",
      "metadata": {
        "id": "MMbudr3p0vFa"
      },
      "source": [
        "My KNN Clasifier class has as fit() method to define the X and y training data, and  and a predict() method. The predict method loops through each point in the test set and calculates the distance between the point and every point in the training set. Then it calls the voting() and regression_voting() methods to rank the top k values. The heterogeneous_data() method deals with datasets with both real and categorial features. It uses the categorical_distance() method  to get the distances between categorical features, using heterogeneous value difference metric algorithm (N2) to calculate the distances. (more detail is provided in section 5)"
      ]
    },
    {
      "cell_type": "markdown",
      "metadata": {
        "id": "Hno-_iSQwC5l"
      },
      "source": [
        "## 1.1 Debug and Evaluation"
      ]
    },
    {
      "cell_type": "markdown",
      "metadata": {
        "id": "jECig2jCwMPa"
      },
      "source": [
        "#### 1.1.1 Debug"
      ]
    },
    {
      "cell_type": "code",
      "metadata": {
        "id": "n4u4TABmwGK5"
      },
      "source": [
        "## Debug Train\n",
        "!curl https://raw.githubusercontent.com/cs472ta/CS472/master/datasets/glass_train.arff --output debug_train.arff\n",
        "dataset = loadarff('debug_train.arff')\n",
        "df_debug = pd.DataFrame(dataset[0])\n",
        "str_df = df_debug.select_dtypes([np.object])\n",
        "str_df = str_df.stack().str.decode('utf-8').unstack()\n",
        "for col in str_df:\n",
        "    df_debug[col] = str_df[col]\n",
        "\n",
        "y = df_debug.iloc[:,-1].to_numpy()\n",
        "X = df_debug.iloc[:,:-1].to_numpy()\n",
        "\n",
        "\n",
        "## Debug Test\n",
        "!curl https://raw.githubusercontent.com/cs472ta/CS472/master/datasets/glass_test.arff --output debug_test.arrf\n",
        "dataset = loadarff('debug_test.arrf')\n",
        "df_debug_test = pd.DataFrame(dataset[0])\n",
        "str_df = df_debug_test.select_dtypes([np.object])\n",
        "str_df = str_df.stack().str.decode('utf-8').unstack()\n",
        "for col in str_df:\n",
        "    df_debug_test[col] = str_df[col]\n",
        "\n",
        "y_test = df_debug_test.iloc[:,-1].to_numpy()\n",
        "X_test = df_debug_test.iloc[:,:-1].to_numpy()"
      ],
      "execution_count": null,
      "outputs": []
    },
    {
      "cell_type": "code",
      "metadata": {
        "colab": {
          "base_uri": "https://localhost:8080/"
        },
        "id": "PlLwxVBJwUuc",
        "outputId": "b1159257-2f48-44d8-e0f1-bca7d248401f"
      },
      "source": [
        "# Without distance weighting\n",
        "\n",
        "knn_classifier = KNNClassifier(weight_type='uniform')\n",
        "knn_classifier.fit(X, y)\n",
        "predicted = knn_classifier.predict(X_test)\n",
        "score_model = knn_classifier.score(y_test, predicted)\n",
        "print(f'Accuracy: \\t {round(score_model, 5)*100}%')"
      ],
      "execution_count": null,
      "outputs": [
        {
          "output_type": "stream",
          "name": "stdout",
          "text": [
            "Accuracy: \t 68.293%\n"
          ]
        }
      ]
    },
    {
      "cell_type": "code",
      "metadata": {
        "colab": {
          "base_uri": "https://localhost:8080/"
        },
        "id": "uZm9gS09wQcf",
        "outputId": "63d4a5b3-a227-47ed-b054-aedce95e657e"
      },
      "source": [
        "# Distance weighting\n",
        "\n",
        "knn_classifier = KNNClassifier()\n",
        "knn_classifier.fit(X, y)\n",
        "predicted = knn_classifier.predict(X_test)\n",
        "score_model = knn_classifier.score(y_test, predicted)\n",
        "print(f'Accuracy: \\t {round(score_model, 5)*100}%')"
      ],
      "execution_count": null,
      "outputs": [
        {
          "output_type": "stream",
          "name": "stdout",
          "text": [
            "Accuracy: \t 74.39%\n"
          ]
        }
      ]
    },
    {
      "cell_type": "markdown",
      "metadata": {
        "id": "n8E_PJNwwxE6"
      },
      "source": [
        "### 1.1.2 Eval"
      ]
    },
    {
      "cell_type": "code",
      "metadata": {
        "id": "hRIejAR_wzKD"
      },
      "source": [
        "## Eval Train\n",
        "!curl https://raw.githubusercontent.com/cs472ta/CS472/master/datasets/diabetes_train.arff --output eval_train.arff\n",
        "dataset = loadarff('eval_train.arff')\n",
        "df_eval = pd.DataFrame(dataset[0])\n",
        "str_df = df_eval.select_dtypes([np.object])\n",
        "str_df = str_df.stack().str.decode('utf-8').unstack()\n",
        "for col in str_df:\n",
        "    df_eval[col] = str_df[col]\n",
        "\n",
        "y = df_eval.iloc[:,-1].to_numpy()\n",
        "X = df_eval.iloc[:,:-1].to_numpy()\n",
        "\n",
        "\n",
        "## Debug Test\n",
        "!curl https://raw.githubusercontent.com/cs472ta/CS472/master/datasets/diabetes_test.arff --output eval_test.arrf\n",
        "dataset = loadarff('eval_test.arrf')\n",
        "df_eval_test = pd.DataFrame(dataset[0])\n",
        "str_df = df_eval_test.select_dtypes([np.object])\n",
        "str_df = str_df.stack().str.decode('utf-8').unstack()\n",
        "for col in str_df:\n",
        "    df_eval_test[col] = str_df[col]\n",
        "\n",
        "y_test = df_eval_test.iloc[:,-1].to_numpy()\n",
        "X_test = df_eval_test.iloc[:,:-1].to_numpy()"
      ],
      "execution_count": null,
      "outputs": []
    },
    {
      "cell_type": "code",
      "metadata": {
        "colab": {
          "base_uri": "https://localhost:8080/"
        },
        "id": "z-uWrpiMw3L0",
        "outputId": "a8f7ac8c-55c6-4a2e-8a42-832f3e5ed9fe"
      },
      "source": [
        "# Without distance weighting - Eval\n",
        "\n",
        "knn_classifier = KNNClassifier(weight_type='uniform')\n",
        "knn_classifier.fit(X, y)\n",
        "predicted = knn_classifier.predict(X_test)\n",
        "score_model = knn_classifier.score(y_test, predicted)\n",
        "print(f'Accuracy: \\t {round(score_model, 5)*100}%')"
      ],
      "execution_count": null,
      "outputs": [
        {
          "output_type": "stream",
          "name": "stdout",
          "text": [
            "Accuracy: \t 76.432%\n"
          ]
        }
      ]
    },
    {
      "cell_type": "code",
      "metadata": {
        "colab": {
          "base_uri": "https://localhost:8080/"
        },
        "id": "8TFQA8Qow5aa",
        "outputId": "3a1fd6a4-0d80-4be2-d3f9-7488e88254d2"
      },
      "source": [
        "# Distance weighting - Eval\n",
        "\n",
        "knn_classifier = KNNClassifier()\n",
        "knn_classifier.fit(X, y)\n",
        "predicted = knn_classifier.predict(X_test)\n",
        "score_model = knn_classifier.score(y_test, predicted)\n",
        "print(f'Accuracy: \\t {round(score_model, 5)*100}%')"
      ],
      "execution_count": null,
      "outputs": [
        {
          "output_type": "stream",
          "name": "stdout",
          "text": [
            "Accuracy: \t 89.062%\n"
          ]
        }
      ]
    },
    {
      "cell_type": "markdown",
      "metadata": {
        "id": "zo9BuBO5xCT4"
      },
      "source": [
        "# 2. Use the k-nearest neighbor algorithm (without distance weighting) for the magic telescope problem"
      ]
    },
    {
      "cell_type": "markdown",
      "metadata": {
        "id": "vSq3-cpKxJpW"
      },
      "source": [
        "### Loading Magic Telescope Datasets"
      ]
    },
    {
      "cell_type": "code",
      "metadata": {
        "id": "H6O0X4gVxF8U"
      },
      "source": [
        "## Magic Train\n",
        "!curl https://raw.githubusercontent.com/cs472ta/CS472/master/datasets/magic_telescope_train.arff --output magic_train.arff\n",
        "dataset = loadarff('magic_train.arff')\n",
        "df_magic = pd.DataFrame(dataset[0])\n",
        "str_df = df_magic.select_dtypes([np.object])\n",
        "str_df = str_df.stack().str.decode('utf-8').unstack()\n",
        "for col in str_df:\n",
        "    df_magic[col] = str_df[col]\n",
        "\n",
        "y = df_magic.iloc[:,-1].to_numpy()\n",
        "X = df_magic.iloc[:,:-1].to_numpy()\n",
        "\n",
        "\n",
        "## Magic Test\n",
        "!curl https://raw.githubusercontent.com/cs472ta/CS472/master/datasets/magic_telescope_test.arff --output magic_test.arrf\n",
        "dataset = loadarff('magic_test.arrf')\n",
        "df_magic_test = pd.DataFrame(dataset[0])\n",
        "str_df = df_magic_test.select_dtypes([np.object])\n",
        "str_df = str_df.stack().str.decode('utf-8').unstack()\n",
        "for col in str_df:\n",
        "    df_magic_test[col] = str_df[col]\n",
        "\n",
        "y_test = df_magic_test.iloc[:,-1].to_numpy()\n",
        "X_test = df_magic_test.iloc[:,:-1].to_numpy()"
      ],
      "execution_count": null,
      "outputs": []
    },
    {
      "cell_type": "markdown",
      "metadata": {
        "id": "JNB1hZ00xNvO"
      },
      "source": [
        "### 2.1\n",
        "\n",
        "*   Try it with k=3 and without normalization\n",
        "\n"
      ]
    },
    {
      "cell_type": "code",
      "metadata": {
        "colab": {
          "base_uri": "https://localhost:8080/"
        },
        "id": "kv1doXhWxTbF",
        "outputId": "49fb1f7c-a363-4519-d0c4-c46795dc9e34"
      },
      "source": [
        "# Magic Telescope: k = 3 & w/o normalization\n",
        "\n",
        "clf_magic = KNNClassifier(weight_type='uniform') # w/o distance weighting\n",
        "clf_magic.fit(X, y)\n",
        "predicted = clf_magic.predict(X_test)\n",
        "score_model = clf_magic.score(y_test, predicted)\n",
        "print(f'Accuracy: \\t {round(score_model, 5)*100}%')"
      ],
      "execution_count": null,
      "outputs": [
        {
          "output_type": "stream",
          "name": "stdout",
          "text": [
            "Accuracy: \t 77.708%\n"
          ]
        }
      ]
    },
    {
      "cell_type": "markdown",
      "metadata": {
        "id": "cX1W_0o4xuCo"
      },
      "source": [
        "### 2.2 \n",
        "\n",
        "*   Try it with k=3 and with normalization (input features normalized between 0 and 1). Use the normalization formula (x-xmin)/(xmax-xmin)\n",
        "\n"
      ]
    },
    {
      "cell_type": "code",
      "metadata": {
        "colab": {
          "base_uri": "https://localhost:8080/"
        },
        "id": "3Dbj8qBNx07H",
        "outputId": "77330aab-2d7e-48db-dd49-5dc9359dd9f3"
      },
      "source": [
        "# Magic Telescope - Uniform, k = 3\n",
        "\n",
        "# Normalizing columns of input features\n",
        "X_norm = (X - X.min(axis=0))/ (X.max(axis=0) - X.min(axis=0))\n",
        "X_test_norm = (X_test - X.min(axis=0))/ (X.max(axis=0) - X.min(axis=0)) # USING MIN AND MAX FROM TRAIN - AS EXPLAINED IN THE SLACK CHANNEL\n",
        "\n",
        "clf_magic_norm = KNNClassifier(weight_type='uniform')\n",
        "clf_magic_norm.fit(X_norm, y)\n",
        "predicted = clf_magic_norm.predict(X_test_norm)\n",
        "score_model = clf_magic_norm.score(y_test, predicted)\n",
        "print(f'Accuracy: \\t {round(score_model, 5)*100}%')"
      ],
      "execution_count": null,
      "outputs": [
        {
          "output_type": "stream",
          "name": "stdout",
          "text": [
            "Accuracy: \t 80.003%\n"
          ]
        }
      ]
    },
    {
      "cell_type": "markdown",
      "metadata": {
        "id": "2tXABMyB2VW1"
      },
      "source": [
        "Normalizing the data using min-max normalization increased my accuracy by over 2%. Normalizing the features helps avoid certain features with large or small scales from having too much or too little influence on the distances. One of the weaknesses of nearest neighbor is irrelevant features dominating the distances, so normalization is important so this problem isn't exacerbated. However, normalizing the features will not solve all the issues, since each attribute will be weighted equally, regardless of its relevance."
      ]
    },
    {
      "cell_type": "markdown",
      "metadata": {
        "id": "3HXWMqsCyCTa"
      },
      "source": [
        "### 2.3\n",
        "\n",
        "*   Using your normalized data, create one graph with classification accuracy on the test set over k values (odd values 1 - 15)\n",
        "\n"
      ]
    },
    {
      "cell_type": "code",
      "metadata": {
        "colab": {
          "base_uri": "https://localhost:8080/",
          "height": 294
        },
        "id": "1NkLR1DayJan",
        "outputId": "582d1d5f-6548-4b9f-e6f3-78c5f6899140"
      },
      "source": [
        "k_values = []\n",
        "classification_accuracies = []\n",
        "for k in range(16):\n",
        "  if k%2 != 0:\n",
        "    knn_k = KNNClassifier(weight_type='uniform', knn=k)\n",
        "    knn_k.fit(X_norm, y)\n",
        "    predicted = knn_k.predict(X_test_norm)\n",
        "    score_model = knn_k.score(y_test, predicted)\n",
        "        \n",
        "    classification_accuracies.append(score_model)\n",
        "    k_values.append(k)\n",
        "\n",
        "# Plot accuracies and k values\n",
        "plt.plot(k_values, classification_accuracies)\n",
        "plt.xticks(np.arange(min(k_values), max(k_values)+1, 2))\n",
        "plt.title(\"Classification Accuracy over K Values\")\n",
        "plt.xlabel(\"k values\")\n",
        "plt.ylabel(\"Classification Accuracy\")\n",
        "plt.show()\n"
      ],
      "execution_count": null,
      "outputs": [
        {
          "output_type": "display_data",
          "data": {
            "image/png": "[encoded data removed]",
            "text/plain": [
              "<Figure size 432x288 with 1 Axes>"
            ]
          },
          "metadata": {
            "needs_background": "light"
          }
        }
      ]
    },
    {
      "cell_type": "markdown",
      "metadata": {
        "id": "JMhwlXvD4Qo-"
      },
      "source": [
        "With uniform weights, my accuracy decreased with each increase in k. More on this in section 4 "
      ]
    },
    {
      "cell_type": "markdown",
      "metadata": {
        "id": "Of-9Qrv3yyQP"
      },
      "source": [
        "# 3. Use the regression variation of your algorithm (without distance weighting) for the housing price prediction problem."
      ]
    },
    {
      "cell_type": "markdown",
      "metadata": {
        "id": "CQIu9hDyy5ta"
      },
      "source": [
        "### Loading Housing Datasets"
      ]
    },
    {
      "cell_type": "code",
      "metadata": {
        "id": "icVHQxpxy2yE"
      },
      "source": [
        "## Housing Train\n",
        "!curl https://raw.githubusercontent.com/cs472ta/CS472/master/datasets/housing_train.arff --output housing_train.arff\n",
        "dataset = loadarff('housing_train.arff')\n",
        "df_housing = pd.DataFrame(dataset[0])\n",
        "str_df = df_housing.select_dtypes([np.object])\n",
        "str_df = str_df.stack().str.decode('utf-8').unstack()\n",
        "for col in str_df:\n",
        "    df_housing[col] = str_df[col]\n",
        "\n",
        "df_housing_train = df_housing.copy()\n",
        "\n",
        "# Normalizing\n",
        "df_housing_train = df_housing_train.astype({'CHAS': 'float64'})\n",
        "\n",
        "for col in df_housing:\n",
        "  if col not in ['CHAS','MEDV']:\n",
        "    df_housing_train[col] =(df_housing_train[col]-df_housing[col].min())/(df_housing[col].max()-df_housing[col].min())\n",
        "\n",
        "y = df_housing_train.iloc[:,-1].to_numpy()\n",
        "X = df_housing_train.iloc[:,:-1].to_numpy()\n",
        "\n",
        "\n",
        "## Housing Test\n",
        "!curl https://raw.githubusercontent.com/cs472ta/CS472/master/datasets/housing_test.arff --output housing_test.arrf\n",
        "dataset = loadarff('housing_test.arrf')\n",
        "df_housing_test = pd.DataFrame(dataset[0])\n",
        "str_df = df_housing_test.select_dtypes([np.object])\n",
        "str_df = str_df.stack().str.decode('utf-8').unstack()\n",
        "for col in str_df:\n",
        "    df_housing_test[col] = str_df[col]\n",
        "\n",
        "# Normalizing\n",
        "df_housing_test = df_housing_test.astype({'CHAS': 'float64'})\n",
        "for col in df_housing_test:\n",
        "  if col not in ['CHAS','MEDV']:\n",
        "    df_housing_test[col] =(df_housing_test[col]-df_housing[col].min())/(df_housing[col].max()-df_housing[col].min()) ## USING MIN AND MAX FROM TRAIN\n",
        "\n",
        "y_test = df_housing_test.iloc[:,-1].to_numpy()\n",
        "X_test = df_housing_test.iloc[:,:-1].to_numpy()"
      ],
      "execution_count": null,
      "outputs": []
    },
    {
      "cell_type": "markdown",
      "metadata": {
        "id": "Sx17-JNmzNmM"
      },
      "source": [
        "### Running model with k values from 1-15"
      ]
    },
    {
      "cell_type": "code",
      "metadata": {
        "colab": {
          "base_uri": "https://localhost:8080/",
          "height": 294
        },
        "id": "dGYijhfqzR25",
        "outputId": "cd30c41c-6200-4c7d-e335-8a5f4eb2ec64"
      },
      "source": [
        "## Housing Data: No Distance Weighting & k-values 1 - 15\n",
        "\n",
        "k_values = []\n",
        "mse_accuracies = []\n",
        "\n",
        "# Training models\n",
        "for k in range(16):\n",
        "  if k%2 != 0:\n",
        "    knn_regression_k = KNNClassifier(weight_type='uniform', knn=k, regression=True) # no distance weighting\n",
        "    knn_regression_k.fit(X, y)\n",
        "    predicted = knn_regression_k.predict(X_test)\n",
        "    score_model = knn_regression_k.mse(y_test, predicted)\n",
        "        \n",
        "    mse_accuracies.append(score_model)\n",
        "    k_values.append(k)\n",
        "\n",
        "\n",
        "# Plotting MSE over k values\n",
        "plt.plot(k_values, mse_accuracies)\n",
        "plt.xticks(np.arange(min(k_values), max(k_values)+1, 2))\n",
        "plt.title(\"MSE over K Values\")\n",
        "plt.xlabel(\"k values\")\n",
        "plt.ylabel(\"Mean Squared Error\")\n",
        "plt.show()"
      ],
      "execution_count": null,
      "outputs": [
        {
          "output_type": "display_data",
          "data": {
            "image/png": "[encoded data removed]",
            "text/plain": [
              "<Figure size 432x288 with 1 Axes>"
            ]
          },
          "metadata": {
            "needs_background": "light"
          }
        }
      ]
    },
    {
      "cell_type": "markdown",
      "metadata": {
        "id": "4cx0eCH_4i9b"
      },
      "source": [
        "The MSE decreased with each additional k throughout my model. Since I was using uniform rather than distance weighting, my MSE is fairly large. I assume this is because it is much more difficult to get accurate predictions by taking the average label of the k nearest neighbors. Using distance weighting should give a more accurate prediction by weighting points by the inverse of their distance. This way, closer points have more weight and farther points have less weight, rather than arbitrarilly giving all k neighbors equal weighting. "
      ]
    },
    {
      "cell_type": "markdown",
      "metadata": {
        "id": "qH19feVM0APt"
      },
      "source": [
        "# 4. Repeat your experiments for magic telescope and housing using distance-weighted (inverse of distance squared) voting and discuss your results."
      ]
    },
    {
      "cell_type": "markdown",
      "metadata": {
        "id": "FJgAimrV0Gda"
      },
      "source": [
        "## 4.1 Magic Telescope Dataset"
      ]
    },
    {
      "cell_type": "code",
      "metadata": {
        "id": "4VMgR4IL0Bdh"
      },
      "source": [
        "## Loading Data\n",
        "\n",
        "# Magic Train\n",
        "!curl https://raw.githubusercontent.com/cs472ta/CS472/master/datasets/magic_telescope_train.arff --output magic_train.arff\n",
        "dataset = loadarff('magic_train.arff')\n",
        "df_magic = pd.DataFrame(dataset[0])\n",
        "str_df = df_magic.select_dtypes([np.object])\n",
        "str_df = str_df.stack().str.decode('utf-8').unstack()\n",
        "for col in str_df:\n",
        "    df_magic[col] = str_df[col]\n",
        "\n",
        "y = df_magic.iloc[:,-1].to_numpy()\n",
        "X = df_magic.iloc[:,:-1].to_numpy()\n",
        "\n",
        "\n",
        "# Magic Test\n",
        "!curl https://raw.githubusercontent.com/cs472ta/CS472/master/datasets/magic_telescope_test.arff --output magic_test.arrf\n",
        "dataset = loadarff('magic_test.arrf')\n",
        "df_magic_test = pd.DataFrame(dataset[0])\n",
        "str_df = df_magic_test.select_dtypes([np.object])\n",
        "str_df = str_df.stack().str.decode('utf-8').unstack()\n",
        "for col in str_df:\n",
        "    df_magic_test[col] = str_df[col]\n",
        "\n",
        "y_test = df_magic_test.iloc[:,-1].to_numpy()\n",
        "X_test = df_magic_test.iloc[:,:-1].to_numpy()\n",
        "\n",
        "\n",
        "X_norm = (X - X.min(axis=0))/ (X.max(axis=0) - X.min(axis=0))\n",
        "X_test_norm = (X_test - X.min(axis=0))/ (X.max(axis=0) - X.min(axis=0)) # USING MIN AND MAX FROM TRAIN\n",
        "\n"
      ],
      "execution_count": null,
      "outputs": []
    },
    {
      "cell_type": "code",
      "metadata": {
        "colab": {
          "base_uri": "https://localhost:8080/",
          "height": 294
        },
        "id": "Xtu8bwds0V6m",
        "outputId": "79218957-4bd5-4504-a489-26f9b94ae374"
      },
      "source": [
        "## Magic Telescope Data: Distance Weighting & k values 1 - 15 \n",
        "k_values = []\n",
        "classification_accuracies = []\n",
        "for k in range(16):\n",
        "  if k%2 != 0:\n",
        "    knn_k = KNNClassifier(weight_type='inverse_distance', knn=k)\n",
        "    knn_k.fit(X_norm, y)\n",
        "    predicted = knn_k.predict(X_test_norm)\n",
        "    score_model = knn_k.score(y_test, predicted)\n",
        "        \n",
        "    classification_accuracies.append(score_model)\n",
        "    k_values.append(k)\n",
        "\n",
        "\n",
        "# Plot accuracies and k values\n",
        "plt.plot(k_values, classification_accuracies)\n",
        "plt.xticks(np.arange(min(k_values), max(k_values)+1, 2))\n",
        "plt.title(\"Classification Accuracy over K Values\")\n",
        "plt.xlabel(\"k values\")\n",
        "plt.ylabel(\"Classification Accuracy\")\n",
        "plt.show()"
      ],
      "execution_count": null,
      "outputs": [
        {
          "output_type": "display_data",
          "data": {
            "image/png": "[encoded data removed]",
            "text/plain": [
              "<Figure size 432x288 with 1 Axes>"
            ]
          },
          "metadata": {
            "needs_background": "light"
          }
        }
      ]
    },
    {
      "cell_type": "markdown",
      "metadata": {
        "id": "oGE4EBEj4tt4"
      },
      "source": [
        "In contrast to part 2, where the accuracy of nearest neighbor model (using uniform distance weighting) decreased with each increase in k, implementing distance weighting showed the accuracy increases as k increases. After allowing more than 11 neighbors to have an influence on the \"voting\" the accuracy starts declining. This is what I would expect to see since this would cause unrelated neighbors that are likely unrelated to influence the output. "
      ]
    },
    {
      "cell_type": "markdown",
      "metadata": {
        "id": "ecpjKrCA0g4f"
      },
      "source": [
        "## 4.2 Housing Dataset"
      ]
    },
    {
      "cell_type": "code",
      "metadata": {
        "id": "FMCUtRhX0jaI"
      },
      "source": [
        "## Housing Train\n",
        "!curl https://raw.githubusercontent.com/cs472ta/CS472/master/datasets/housing_train.arff --output housing_train.arff\n",
        "dataset = loadarff('housing_train.arff')\n",
        "df_housing = pd.DataFrame(dataset[0])\n",
        "str_df = df_housing.select_dtypes([np.object])\n",
        "str_df = str_df.stack().str.decode('utf-8').unstack()\n",
        "for col in str_df:\n",
        "    df_housing[col] = str_df[col]\n",
        "\n",
        "df_housing_train = df_housing.copy()\n",
        "\n",
        "# Normalizing\n",
        "df_housing_train = df_housing_train.astype({'CHAS': 'float64'})\n",
        "\n",
        "for col in df_housing:\n",
        "  if col not in ['CHAS','MEDV']:\n",
        "    df_housing_train[col] =(df_housing_train[col]-df_housing[col].min())/(df_housing[col].max()-df_housing[col].min())\n",
        "\n",
        "y = df_housing_train.iloc[:,-1].to_numpy()\n",
        "X = df_housing_train.iloc[:,:-1].to_numpy()\n",
        "\n",
        "\n",
        "## Housing Test\n",
        "!curl https://raw.githubusercontent.com/cs472ta/CS472/master/datasets/housing_test.arff --output housing_test.arrf\n",
        "dataset = loadarff('housing_test.arrf')\n",
        "df_housing_test = pd.DataFrame(dataset[0])\n",
        "str_df = df_housing_test.select_dtypes([np.object])\n",
        "str_df = str_df.stack().str.decode('utf-8').unstack()\n",
        "for col in str_df:\n",
        "    df_housing_test[col] = str_df[col]\n",
        "\n",
        "# Normalizing\n",
        "df_housing_test = df_housing_test.astype({'CHAS': 'float64'})\n",
        "for col in df_housing_test:\n",
        "  if col not in ['CHAS','MEDV']:\n",
        "    df_housing_test[col] =(df_housing_test[col]-df_housing[col].min())/(df_housing[col].max()-df_housing[col].min()) ## USING MIN AND MAX FROM TRAIN\n",
        "\n",
        "y_test = df_housing_test.iloc[:,-1].to_numpy()\n",
        "X_test = df_housing_test.iloc[:,:-1].to_numpy()"
      ],
      "execution_count": null,
      "outputs": []
    },
    {
      "cell_type": "code",
      "metadata": {
        "colab": {
          "base_uri": "https://localhost:8080/",
          "height": 294
        },
        "id": "hDhF-YzR0rzO",
        "outputId": "7634301a-e421-458d-8563-3d8f950278dc"
      },
      "source": [
        "## Housing Data: Distance Weighting & k values 1 - 15 \n",
        "k_values = []\n",
        "mse_accuracies = []\n",
        "\n",
        "# Training models\n",
        "for k in range(16):\n",
        "  if k%2 != 0:\n",
        "    knn_regression_k = KNNClassifier(weight_type='inverse_distance', knn=k, regression=True)\n",
        "    knn_regression_k.fit(X, y)\n",
        "    predicted = knn_regression_k.predict(X_test)\n",
        "    score_model = knn_regression_k.mse(y_test, predicted)\n",
        "        \n",
        "    mse_accuracies.append(score_model)\n",
        "    k_values.append(k)\n",
        "\n",
        "\n",
        "# Method to plot values\n",
        "plt.plot(k_values, mse_accuracies)\n",
        "plt.xticks(np.arange(min(k_values), max(k_values)+1, 2))\n",
        "plt.title(\"MSE over K Values\")\n",
        "plt.xlabel(\"k values\")\n",
        "plt.ylabel(\"Mean Squared Error\")\n",
        "plt.show()"
      ],
      "execution_count": null,
      "outputs": [
        {
          "output_type": "display_data",
          "data": {
            "image/png": "[encoded data removed]",
            "text/plain": [
              "<Figure size 432x288 with 1 Axes>"
            ]
          },
          "metadata": {
            "needs_background": "light"
          }
        }
      ]
    },
    {
      "cell_type": "markdown",
      "metadata": {
        "id": "glinSHPq1OxG"
      },
      "source": [
        "Using distance weighting increased the accuracy of my model tremendously. In section 3 the MSE was was between 560 and 550. With distance weighting, the nearest neigbhor model's MSE goes down to below 12 when k = 7. Distance weighting is much more effective than simply taking the average of the top k votes (as was done in section 3) because it makes the strength of a neighbor's influence proportional to its distance. \n",
        "\n",
        "As I mentioned in section 4.2, I am not surprised to find that after a certain k value, the model's accruacy starts to decrease. This is because it starts allowing more and more neigbors to vote, increased the liklihood that unrelated neighbors influence the target. "
      ]
    },
    {
      "cell_type": "markdown",
      "metadata": {
        "id": "0vHk3fYr1S3Y"
      },
      "source": [
        "# 5. Use the k-nearest neighbor algorithm to solve the credit-approval (credit-a) problem."
      ]
    },
    {
      "cell_type": "markdown",
      "metadata": {
        "id": "MXtVLrjX1bMy"
      },
      "source": [
        "### Loading Credit Approval Dataset"
      ]
    },
    {
      "cell_type": "code",
      "metadata": {
        "id": "TZ-bmpjf1Xdi"
      },
      "source": [
        "# Credit Approval\n",
        "from sklearn.model_selection import train_test_split\n",
        "\n",
        "!curl https://raw.githubusercontent.com/cs472ta/CS472/master/datasets/credit_approval.arff --output credit.arff\n",
        "dataset = loadarff('credit.arff')\n",
        "df_credit = pd.DataFrame(dataset[0])\n",
        "str_df = df_credit.select_dtypes([np.object])\n",
        "str_df = str_df.stack().str.decode('utf-8').unstack()\n",
        "for col in str_df:\n",
        "    df_credit[col] = str_df[col]\n",
        "\n",
        "df_credit.loc[df_credit['class'] == '+', 'class'] = 1\n",
        "df_credit.loc[df_credit['class'] == '-', 'class'] = 0\n",
        "\n",
        "# normalize df_credit data \n",
        "column_types = list(df_credit.dtypes)[:-1] # grabbing column types to use as parameter in KNNCLassifier() class\n",
        "indices_obj = [i for i, x in enumerate(column_types) if x == \"object\"] # indices of object features\n",
        "indices_float = [i for i, x in enumerate(column_types) if x == \"float64\"] # indices of float features\n",
        "\n",
        "col_to_normalize = [df_credit.columns[x] for x in indices_float] # list of column names to normalize (i.e. real valued features)\n",
        "df_credit[col_to_normalize] = df_credit[col_to_normalize].apply(lambda x: (x - x.min()) / (x.max() - x.min())) # normalize - using lambda function\n",
        "\n",
        "\n",
        "y = df_credit.iloc[:,-1].to_numpy()\n",
        "X = df_credit.iloc[:,:-1].to_numpy()\n",
        "\n",
        "# Create splits - using sklearn's package\n",
        "X_train, X_test, y_train, y_test = train_test_split(X, y, test_size=0.2)"
      ],
      "execution_count": null,
      "outputs": []
    },
    {
      "cell_type": "markdown",
      "metadata": {
        "id": "ODF_m-O71j8_"
      },
      "source": [
        "### Running Model"
      ]
    },
    {
      "cell_type": "code",
      "metadata": {
        "colab": {
          "base_uri": "https://localhost:8080/"
        },
        "id": "XWzc8oEbHx2t",
        "outputId": "1ee9ff0e-3823-484c-d321-494f44d036ba"
      },
      "source": [
        "### Running KNNClassifier Model\n",
        "##- Using Heterogeneous Value Difference Metric (N2 approach) - Treating '?' cat varibales as additional feature types rather than returning a distance of 1 by default\n",
        "\n",
        "clf_credit = KNNClassifier_test(columntype=column_types, weight_type='inverse_distance', knn=3, total_dataset=df_credit)\n",
        "clf_credit.fit(X_train, y_train)\n",
        "predicted = clf_credit.predict(X_test)\n",
        "score_model = clf_credit.score(y_test, predicted)\n",
        "print(f'Accuracy: \\t {round(score_model, 5)*100}%')"
      ],
      "execution_count": 53,
      "outputs": [
        {
          "output_type": "stream",
          "name": "stdout",
          "text": [
            "Accuracy: \t 79.71000000000001%\n"
          ]
        }
      ]
    },
    {
      "cell_type": "markdown",
      "metadata": {
        "id": "EEvBmvZy7zoC"
      },
      "source": [
        "I used the heterogeneous value difference metric (HVDM) from the linked paper in the directions. Since neither euclidean distance or VDM is appropriate for datasets with both nominal and continuous data, HVDM is an effective \"hybrid\" approach. I did make some adjustments to the HVDM function. Rather than returning a 1 if x or y is unknown for both categoricl and real features, I treated unknown ('?') categorical varaibles as new features entirely when using the N2 approach (normalized_vdm). For continous features, I used the normalized_diff(x,y) function (equation 13 in the linked paper)"
      ]
    },
    {
      "cell_type": "markdown",
      "metadata": {
        "id": "EutXKltW3J8A"
      },
      "source": [
        "# 6. Use the scikit's KNN Classifier on magic telescope and KNN Regressor on housing and compare your results.\n",
        "\n",
        "*   Try out different hyperparameters to see how well you can do.\n",
        "\n"
      ]
    },
    {
      "cell_type": "markdown",
      "metadata": {
        "id": "4PnCj8C23Xo0"
      },
      "source": [
        "## Magic Telescope"
      ]
    },
    {
      "cell_type": "markdown",
      "metadata": {
        "id": "tVmE4Zvx3pf9"
      },
      "source": [
        "### Loading Datasets and Nomalizing"
      ]
    },
    {
      "cell_type": "code",
      "metadata": {
        "id": "q-m8-gtA3sbo"
      },
      "source": [
        "## Magic Train\n",
        "!curl https://raw.githubusercontent.com/cs472ta/CS472/master/datasets/magic_telescope_train.arff --output magic_train.arff\n",
        "dataset = loadarff('magic_train.arff')\n",
        "df_magic = pd.DataFrame(dataset[0])\n",
        "str_df = df_magic.select_dtypes([np.object])\n",
        "str_df = str_df.stack().str.decode('utf-8').unstack()\n",
        "for col in str_df:\n",
        "    df_magic[col] = str_df[col]\n",
        "\n",
        "y = df_magic.iloc[:,-1].to_numpy()\n",
        "X = df_magic.iloc[:,:-1].to_numpy()\n",
        "\n",
        "\n",
        "## Magic Test\n",
        "!curl https://raw.githubusercontent.com/cs472ta/CS472/master/datasets/magic_telescope_test.arff --output magic_test.arrf\n",
        "dataset = loadarff('magic_test.arrf')\n",
        "df_magic_test = pd.DataFrame(dataset[0])\n",
        "str_df = df_magic_test.select_dtypes([np.object])\n",
        "str_df = str_df.stack().str.decode('utf-8').unstack()\n",
        "for col in str_df:\n",
        "    df_magic_test[col] = str_df[col]\n",
        "\n",
        "y_test = df_magic_test.iloc[:,-1].to_numpy()\n",
        "X_test = df_magic_test.iloc[:,:-1].to_numpy()\n",
        "\n",
        "# Normalizing columns of input features\n",
        "X_norm = (X - X.min(axis=0))/ (X.max(axis=0) - X.min(axis=0))\n",
        "X_test_norm = (X_test - X.min(axis=0))/ (X.max(axis=0) - X.min(axis=0))"
      ],
      "execution_count": null,
      "outputs": []
    },
    {
      "cell_type": "markdown",
      "metadata": {
        "id": "73JUC0cOCiea"
      },
      "source": [
        "### Running sklearn model"
      ]
    },
    {
      "cell_type": "markdown",
      "metadata": {
        "id": "Wr5BP5WaDDjg"
      },
      "source": [
        "Accuracy of sklearn's model testing k=3 and distance vs. uniform is a few points higher than my model"
      ]
    },
    {
      "cell_type": "code",
      "metadata": {
        "colab": {
          "base_uri": "https://localhost:8080/"
        },
        "id": "3Vn8QRR93OZg",
        "outputId": "9f60dbdb-2cdb-46c2-f240-061338043ef9"
      },
      "source": [
        "from sklearn.neighbors import KNeighborsClassifier\n",
        "from sklearn import metrics\n",
        "\n",
        "knn = KNeighborsClassifier(n_neighbors=3, weights='uniform')\n",
        "knn.fit(X_norm, y)\n",
        "y_pred = knn.predict(X_test_norm)\n",
        "score = metrics.accuracy_score(y_test, y_pred)\n",
        "print(f'Accuracy: \\t {round(score, 5)*100}%')"
      ],
      "execution_count": 55,
      "outputs": [
        {
          "output_type": "stream",
          "name": "stdout",
          "text": [
            "Accuracy: \t 83.063%\n"
          ]
        }
      ]
    },
    {
      "cell_type": "code",
      "metadata": {
        "colab": {
          "base_uri": "https://localhost:8080/"
        },
        "id": "0bgvW2kD2N4Z",
        "outputId": "dc2f09bb-8d6b-42c3-dd1a-3a4e3d02bb3d"
      },
      "source": [
        "knn = KNeighborsClassifier(n_neighbors=3, weights='distance')\n",
        "knn.fit(X_norm, y)\n",
        "y_pred = knn.predict(X_test_norm)\n",
        "score = metrics.accuracy_score(y_test, y_pred)\n",
        "print(f'Accuracy: \\t {round(score, 5)*100}%')"
      ],
      "execution_count": 56,
      "outputs": [
        {
          "output_type": "stream",
          "name": "stdout",
          "text": [
            "Accuracy: \t 83.258%\n"
          ]
        }
      ]
    },
    {
      "cell_type": "markdown",
      "metadata": {
        "id": "dJbB2ClzDNpY"
      },
      "source": [
        "Testing effect of distance metric - Manhattan distance does the best"
      ]
    },
    {
      "cell_type": "code",
      "metadata": {
        "colab": {
          "base_uri": "https://localhost:8080/"
        },
        "id": "-mC_cvl74zSX",
        "outputId": "d64a06df-932c-4a3b-fd89-451f1afa8b52"
      },
      "source": [
        "knn = KNeighborsClassifier(n_neighbors=3, weights='distance', metric='manhattan')\n",
        "knn.fit(X_norm, y)\n",
        "y_pred = knn.predict(X_test_norm)\n",
        "score = metrics.accuracy_score(y_test, y_pred)\n",
        "print(f'Accuracy: \\t {round(score, 5)*100}%')"
      ],
      "execution_count": 28,
      "outputs": [
        {
          "output_type": "stream",
          "name": "stdout",
          "text": [
            "Accuracy: \t 83.903%\n"
          ]
        }
      ]
    },
    {
      "cell_type": "code",
      "metadata": {
        "colab": {
          "base_uri": "https://localhost:8080/"
        },
        "id": "NgtZOpruEA8F",
        "outputId": "b8d5f2cc-c77e-4e0c-b61b-054bac3b8c6f"
      },
      "source": [
        "knn = KNeighborsClassifier(n_neighbors=3, weights='distance', metric='euclidean')\n",
        "knn.fit(X_norm, y)\n",
        "y_pred = knn.predict(X_test_norm)\n",
        "score = metrics.accuracy_score(y_test, y_pred)\n",
        "print(f'Accuracy: \\t {round(score, 5)*100}%')"
      ],
      "execution_count": 29,
      "outputs": [
        {
          "output_type": "stream",
          "name": "stdout",
          "text": [
            "Accuracy: \t 83.258%\n"
          ]
        }
      ]
    },
    {
      "cell_type": "code",
      "metadata": {
        "colab": {
          "base_uri": "https://localhost:8080/"
        },
        "id": "F90vP8n4EEcc",
        "outputId": "0ca3aab0-0d9c-4ee9-dc06-eebdfdb1f63a"
      },
      "source": [
        "knn = KNeighborsClassifier(n_neighbors=3, weights='distance', metric='minkowski', p=3)\n",
        "knn.fit(X_norm, y)\n",
        "y_pred = knn.predict(X_test_norm)\n",
        "score = metrics.accuracy_score(y_test, y_pred)\n",
        "print(f'Accuracy: \\t {round(score, 5)*100}%')"
      ],
      "execution_count": 33,
      "outputs": [
        {
          "output_type": "stream",
          "name": "stdout",
          "text": [
            "Accuracy: \t 83.123%\n"
          ]
        }
      ]
    },
    {
      "cell_type": "markdown",
      "metadata": {
        "id": "zXAt2TriETQ4"
      },
      "source": [
        "Testing various k values on the manhattan distance 83.901% model"
      ]
    },
    {
      "cell_type": "code",
      "metadata": {
        "colab": {
          "base_uri": "https://localhost:8080/",
          "height": 347
        },
        "id": "hj0iZm05ESRi",
        "outputId": "11a8f4e2-c90f-45c3-f798-d6bd92f06c83"
      },
      "source": [
        "accuracy_list = []\n",
        "k_values = []\n",
        "for k in range(20):\n",
        "    knn = KNeighborsClassifier(n_neighbors=(k+1), weights='distance', metric='manhattan')\n",
        "    knn.fit(X_norm, y)\n",
        "    y_pred = knn.predict(X_test_norm)\n",
        "    score = metrics.accuracy_score(y_test, y_pred)\n",
        "    accuracy_list.append(score)\n",
        "    k_values.append(k)\n",
        "\n",
        "# print(f'Accuracy: \\t {round(score, 5)*100}%')\n",
        "# Plot accuracy\n",
        "# Plot accuracies and k values\n",
        "plt.plot(k_values, accuracy_list)\n",
        "plt.xticks(np.arange(min(k_values), max(k_values)+1, 2))\n",
        "plt.title(\"Classification Accuracy over K Values\")\n",
        "plt.xlabel(\"k values\")\n",
        "plt.ylabel(\"Classification Accuracy\")\n",
        "plt.show()\n",
        "print()\n",
        "print()\n",
        "\n",
        "\n",
        "# find max k and max accuracy\n",
        "max_acc = max(accuracy_list)\n",
        "best_k = accuracy_list.index(max_acc)\n",
        "print(f'Best Accuracy: \\t {round(max_acc, 5)*100}% at k = {best_k}')\n"
      ],
      "execution_count": 47,
      "outputs": [
        {
          "output_type": "display_data",
          "data": {
            "image/png": "[encoded data removed]",
            "text/plain": [
              "<Figure size 432x288 with 1 Axes>"
            ]
          },
          "metadata": {
            "needs_background": "light"
          }
        },
        {
          "output_type": "stream",
          "name": "stdout",
          "text": [
            "\n",
            "\n",
            "Best Accuracy: \t 85.344% at k = 12\n"
          ]
        }
      ]
    },
    {
      "cell_type": "markdown",
      "metadata": {
        "id": "E7GfvnUQN_0a"
      },
      "source": [
        "Surprisingly, the manhattan distance metric performed better than euclidean and minkowski. The accuracy increased marginally between the uniform weight values vs the distance weighting. In my model in section 2, the accuracy increased by around 2%. \n",
        "\n",
        "After running my best performing model (with hyperparameters of (weights='distance', metric='manhattan'), I found that k = 12 performed the beset."
      ]
    },
    {
      "cell_type": "markdown",
      "metadata": {
        "id": "kh5OZfNd3bUn"
      },
      "source": [
        "## Housing Data"
      ]
    },
    {
      "cell_type": "markdown",
      "metadata": {
        "id": "JhLAAMzp53j8"
      },
      "source": [
        "### Loading Datasets"
      ]
    },
    {
      "cell_type": "code",
      "metadata": {
        "id": "wZaExjo63eu_",
        "colab": {
          "base_uri": "https://localhost:8080/"
        },
        "outputId": "49a5e74e-5ad1-40ea-81ca-acd968dfed60"
      },
      "source": [
        "## Housing Train\n",
        "!curl https://raw.githubusercontent.com/cs472ta/CS472/master/datasets/housing_train.arff --output housing_train.arff\n",
        "dataset = loadarff('housing_train.arff')\n",
        "df_housing = pd.DataFrame(dataset[0])\n",
        "str_df = df_housing.select_dtypes([np.object])\n",
        "str_df = str_df.stack().str.decode('utf-8').unstack()\n",
        "for col in str_df:\n",
        "    df_housing[col] = str_df[col]\n",
        "\n",
        "df_housing_train = df_housing.copy()\n",
        "\n",
        "# Normalizing\n",
        "df_housing_train = df_housing_train.astype({'CHAS': 'float64'})\n",
        "\n",
        "for col in df_housing:\n",
        "  if col not in ['CHAS','MEDV']:\n",
        "    df_housing_train[col] =(df_housing_train[col]-df_housing[col].min())/(df_housing[col].max()-df_housing[col].min())\n",
        "\n",
        "y = df_housing_train.iloc[:,-1].to_numpy()\n",
        "X = df_housing_train.iloc[:,:-1].to_numpy()\n",
        "\n",
        "\n",
        "## Housing Test\n",
        "!curl https://raw.githubusercontent.com/cs472ta/CS472/master/datasets/housing_test.arff --output housing_test.arrf\n",
        "dataset = loadarff('housing_test.arrf')\n",
        "df_housing_test = pd.DataFrame(dataset[0])\n",
        "str_df = df_housing_test.select_dtypes([np.object])\n",
        "str_df = str_df.stack().str.decode('utf-8').unstack()\n",
        "for col in str_df:\n",
        "    df_housing_test[col] = str_df[col]\n",
        "\n",
        "# Normalizing\n",
        "df_housing_test = df_housing_test.astype({'CHAS': 'float64'})\n",
        "for col in df_housing_test:\n",
        "  if col not in ['CHAS','MEDV']:\n",
        "    df_housing_test[col] =(df_housing_test[col]-df_housing[col].min())/(df_housing[col].max()-df_housing[col].min()) ## USING MIN AND MAX FROM TRAIN\n",
        "\n",
        "y_test = df_housing_test.iloc[:,-1].to_numpy()\n",
        "X_test = df_housing_test.iloc[:,:-1].to_numpy()"
      ],
      "execution_count": 48,
      "outputs": [
        {
          "output_type": "stream",
          "name": "stdout",
          "text": [
            "  % Total    % Received % Xferd  Average Speed   Time    Time     Time  Current\n",
            "                                 Dload  Upload   Total   Spent    Left  Speed\n",
            "100 34205  100 34205    0     0  88157      0 --:--:-- --:--:-- --:--:-- 87930\n",
            "  % Total    % Received % Xferd  Average Speed   Time    Time     Time  Current\n",
            "                                 Dload  Upload   Total   Spent    Left  Speed\n",
            "100  3885  100  3885    0     0   9860      0 --:--:-- --:--:-- --:--:--  9860\n"
          ]
        }
      ]
    },
    {
      "cell_type": "markdown",
      "metadata": {
        "id": "jrqzBij8566r"
      },
      "source": [
        "### Fitting and Scoring Model Using Sklearn"
      ]
    },
    {
      "cell_type": "code",
      "metadata": {
        "colab": {
          "base_uri": "https://localhost:8080/"
        },
        "id": "yBP32xvf5_x2",
        "outputId": "3419c3f1-9345-43e8-fe9e-09e397eb3af5"
      },
      "source": [
        "from sklearn.neighbors import KNeighborsRegressor\n",
        "from sklearn.metrics import mean_squared_error \n",
        "\n",
        "\n",
        "neigh_regressor = KNeighborsRegressor(n_neighbors=5)\n",
        "neigh_regressor.fit(X, y)\n",
        "prediction = neigh_regressor.predict(X_test)\n",
        "score_model = neigh_regressor.score(X_test, y_test)\n",
        "print(f'R-squared: \\t {round(score_model, 5)}')\n",
        "print(f'MSE: \\t\\t {round(mean_squared_error(y_test, prediction), 5)}')\n"
      ],
      "execution_count": 57,
      "outputs": [
        {
          "output_type": "stream",
          "name": "stdout",
          "text": [
            "R-squared: \t 0.79258\n",
            "MSE: \t\t 15.89698\n"
          ]
        }
      ]
    },
    {
      "cell_type": "code",
      "metadata": {
        "colab": {
          "base_uri": "https://localhost:8080/"
        },
        "id": "szVLpwTfH9-k",
        "outputId": "f2f36a4b-4920-4aa3-a542-e3647fd166c7"
      },
      "source": [
        "neigh_regressor = KNeighborsRegressor(n_neighbors=5, weights='distance')\n",
        "neigh_regressor.fit(X, y)\n",
        "prediction = neigh_regressor.predict(X_test)\n",
        "score_model = neigh_regressor.score(X_test, y_test)\n",
        "print(f'R-squared: \\t {round(score_model, 5)}')\n",
        "print(f'MSE: \\t\\t {round(mean_squared_error(y_test, prediction), 5)}')"
      ],
      "execution_count": 58,
      "outputs": [
        {
          "output_type": "stream",
          "name": "stdout",
          "text": [
            "R-squared: \t 0.84118\n",
            "MSE: \t\t 12.17196\n"
          ]
        }
      ]
    },
    {
      "cell_type": "markdown",
      "metadata": {
        "id": "hwt4slz8IeKv"
      },
      "source": [
        "Testing effect of distance metric - Manhattan distance does the best"
      ]
    },
    {
      "cell_type": "code",
      "metadata": {
        "colab": {
          "base_uri": "https://localhost:8080/"
        },
        "id": "gT2d1KYtIhlN",
        "outputId": "f00d022f-8383-4a1a-99a8-d5ab84398e52"
      },
      "source": [
        "neigh_regressor = KNeighborsRegressor(n_neighbors=5, weights='distance', metric='manhattan')\n",
        "neigh_regressor.fit(X, y)\n",
        "prediction = neigh_regressor.predict(X_test)\n",
        "score_model = neigh_regressor.score(X_test, y_test)\n",
        "print(f'R-squared: \\t {round(score_model, 5)}')\n",
        "print(f'MSE: \\t\\t {round(mean_squared_error(y_test, prediction), 5)}')"
      ],
      "execution_count": 59,
      "outputs": [
        {
          "output_type": "stream",
          "name": "stdout",
          "text": [
            "R-squared: \t 0.8579\n",
            "MSE: \t\t 10.89071\n"
          ]
        }
      ]
    },
    {
      "cell_type": "code",
      "metadata": {
        "colab": {
          "base_uri": "https://localhost:8080/"
        },
        "id": "9eHUle1qIlfw",
        "outputId": "40b1834c-6ce3-49ed-efab-977c7f7d6645"
      },
      "source": [
        "neigh_regressor = KNeighborsRegressor(n_neighbors=5, weights='distance', metric='euclidean')\n",
        "neigh_regressor.fit(X, y)\n",
        "prediction = neigh_regressor.predict(X_test)\n",
        "score_model = neigh_regressor.score(X_test, y_test)\n",
        "print(f'R-squared: \\t {round(score_model, 5)}')\n",
        "print(f'MSE: \\t\\t {round(mean_squared_error(y_test, prediction), 5)}')"
      ],
      "execution_count": 60,
      "outputs": [
        {
          "output_type": "stream",
          "name": "stdout",
          "text": [
            "R-squared: \t 0.84118\n",
            "MSE: \t\t 12.17196\n"
          ]
        }
      ]
    },
    {
      "cell_type": "code",
      "metadata": {
        "colab": {
          "base_uri": "https://localhost:8080/"
        },
        "id": "oW8O9SetImlG",
        "outputId": "31830163-050c-4fca-b649-3a6a254ed424"
      },
      "source": [
        "neigh_regressor = KNeighborsRegressor(n_neighbors=5, weights='distance',metric='minkowski', p=3)\n",
        "neigh_regressor.fit(X, y)\n",
        "prediction = neigh_regressor.predict(X_test)\n",
        "score_model = neigh_regressor.score(X_test, y_test)\n",
        "print(f'R-squared: \\t {round(score_model, 5)}')\n",
        "print(f'MSE: \\t\\t {round(mean_squared_error(y_test, prediction), 5)}')"
      ],
      "execution_count": 61,
      "outputs": [
        {
          "output_type": "stream",
          "name": "stdout",
          "text": [
            "R-squared: \t 0.82161\n",
            "MSE: \t\t 13.67207\n"
          ]
        }
      ]
    },
    {
      "cell_type": "markdown",
      "metadata": {
        "id": "1FCiAmISIu1d"
      },
      "source": [
        "Testing various k values on the manhattan distance distance weighted model"
      ]
    },
    {
      "cell_type": "code",
      "metadata": {
        "colab": {
          "base_uri": "https://localhost:8080/",
          "height": 365
        },
        "id": "91RS6aoKIxMR",
        "outputId": "d41e4fc9-457e-4085-acc3-f3ab3241e3cd"
      },
      "source": [
        "rsqr_list = []\n",
        "mse_list = []\n",
        "k_values = []\n",
        "for k in range(20):\n",
        "    neigh_regressor = KNeighborsRegressor(n_neighbors=(k+1), weights='distance', metric='manhattan')\n",
        "    neigh_regressor.fit(X, y)\n",
        "    y_pred = neigh_regressor.predict(X_test)\n",
        "    score = neigh_regressor.score(X_test, y_test)\n",
        "    mse = mean_squared_error(y_test, y_pred)\n",
        "\n",
        "    rsqr_list.append(score)\n",
        "    mse_list.append(mse)\n",
        "    k_values.append(k)\n",
        "\n",
        "\n",
        "# Plot accuracies and k values\n",
        "plt.plot(k_values, mse_list)\n",
        "plt.xticks(np.arange(min(k_values), max(k_values)+1, 2))\n",
        "plt.title(\"Classification Accuracy over K Values\")\n",
        "plt.xlabel(\"k values\")\n",
        "plt.ylabel(\"Classification Accuracy\")\n",
        "plt.show()\n",
        "print()\n",
        "print()\n",
        "\n",
        "\n",
        "# find max k and max accuracy\n",
        "min_mse = min(mse_list)\n",
        "best_k = mse_list.index(min_mse)\n",
        "best_rsqr = rsqr_list[best_k]\n",
        "print(f'Best MSE: {round(min_mse, 5)} at k = {best_k}')\n",
        "print(f'R-squared at k= {best_k}: {round(best_rsqr, 5)}')"
      ],
      "execution_count": 70,
      "outputs": [
        {
          "output_type": "display_data",
          "data": {
            "image/png": "[encoded data removed]",
            "text/plain": [
              "<Figure size 432x288 with 1 Axes>"
            ]
          },
          "metadata": {
            "needs_background": "light"
          }
        },
        {
          "output_type": "stream",
          "name": "stdout",
          "text": [
            "\n",
            "\n",
            "Best MSE: 10.76206 at k = 3\n",
            "R-squared at k= 3: 0.85958\n"
          ]
        }
      ]
    },
    {
      "cell_type": "markdown",
      "metadata": {
        "id": "hJG8Q_ItO9bV"
      },
      "source": [
        "Just like with th Telescope dataset, the distance weighting performed better than the uniform weightin. I was also surprised that the manhattan distance metric also performed better than euclidean and minkowski for the housing dataset. \n",
        "\n",
        "After running my best performing model (with hyperparameters of (weights='distance', metric='manhattan'), I found that k = 3 performed the best (refer to graph above). Although I did not end up many of the hyperparameters in my final \"best\" model, I did try the other parameters and did not find any increase in accuracy. "
      ]
    }
  ]
}