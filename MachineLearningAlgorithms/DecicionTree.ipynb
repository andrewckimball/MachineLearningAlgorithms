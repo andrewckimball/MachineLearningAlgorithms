{
  "nbformat": 4,
  "nbformat_minor": 0,
  "metadata": {
    "colab": {
      "name": "Lab_3_DecisionTree_Final2.ipynb",
      "provenance": []
    },
    "kernelspec": {
      "name": "python3",
      "display_name": "Python 3"
    },
    "language_info": {
      "name": "python"
    }
  },
  "cells": [
    {
      "cell_type": "markdown",
      "metadata": {
        "id": "l_jGEpAJ7kDs"
      },
      "source": [
        "# Decision Tree Lab"
      ]
    },
    {
      "cell_type": "code",
      "metadata": {
        "id": "4BnIQ2Ft0Jbf"
      },
      "source": [
        "import numpy as np\n",
        "import pandas as pd\n",
        "import pprint\n",
        "eps = np.finfo(float).eps\n",
        "from numpy import log2 as log\n",
        "from scipy.io.arff import loadarff"
      ],
      "execution_count": null,
      "outputs": []
    },
    {
      "cell_type": "markdown",
      "metadata": {
        "id": "9R9SpXwm7nHa"
      },
      "source": [
        "# 1 Correctly implement the ID3 decision tree algorithm, including the ability to handle unknown attributes"
      ]
    },
    {
      "cell_type": "code",
      "metadata": {
        "id": "L72Z41Uo0Ttf"
      },
      "source": [
        "class DTClassifier():\n",
        "\n",
        "    def __init__(self):\n",
        "        self.information_gain_list = []\n",
        "        self.full_tree = {}\n",
        "\n",
        "\n",
        "    def buildTree(self, df, tree=None): \n",
        "        target = df.keys()[-1]   # get unique values of labels\n",
        "\n",
        "        # Get attribute with max info gain\n",
        "        node = self.best_info_gain(df)\n",
        "        \n",
        "        # Get distinct values of the node\n",
        "        distinctVal = np.unique(df[node])\n",
        "        \n",
        "        # empty dictionary to create tree    \n",
        "        if tree is None:                    \n",
        "            tree={}\n",
        "            tree[node] = {}\n",
        "         \n",
        "        # loop to build tree\n",
        "        for value in distinctVal:\n",
        "            \n",
        "            subtable = self.temp_table(df,node,value)\n",
        "            clValue,counts = np.unique(subtable[target],return_counts=True)                        \n",
        "            \n",
        "            if len(counts)==1: \n",
        "                tree[node][value] = clValue[0]                                                    \n",
        "            else:        \n",
        "                tree[node][value] = self.buildTree(subtable) # do recursion\n",
        "\n",
        "            # storing tree in global variable\n",
        "            self.full_tree = tree\n",
        "\n",
        "        return tree\n",
        "\n",
        "        \n",
        "    def calc_entropy(self, df):\n",
        "        labels = df.keys()[-1]   \n",
        "        entropy = 0\n",
        "        values = df[labels].unique()\n",
        "        for value in values:\n",
        "            pi = df[labels].value_counts()[value]/len(df[labels])\n",
        "            entropy += -pi*np.log2(pi)\n",
        "        return entropy\n",
        "    \n",
        "    \n",
        "    def calc_entropy_attributes(self, df, attribute):\n",
        "        target = df.keys()[-1]   \n",
        "        unique_labels = df[target].unique()  #get unique labels\n",
        "        variables = df[attribute].unique()    #get unique values of attribute\n",
        "        entropy2 = 0\n",
        "        for v in variables:\n",
        "            entropy = 0\n",
        "            for label in unique_labels:\n",
        "                num = len(df[attribute][df[attribute]==v][df[target] ==label])\n",
        "                den = len(df[attribute][df[attribute]==v])\n",
        "                pi = num/(den+eps)\n",
        "                entropy += -pi*log(pi+eps)\n",
        "            fraction = den/len(df)\n",
        "            entropy2 += -fraction*entropy\n",
        "        return abs(entropy2)\n",
        "\n",
        "\n",
        "    def best_info_gain(self, df):\n",
        "        info_gain = []\n",
        "        for key in df.keys()[:-1]:\n",
        "            info_gain.append(self.calc_entropy(df)-self.calc_entropy_attributes(df,key))\n",
        "        \n",
        "        self.information_gain_list.append(max(info_gain))\n",
        "\n",
        "        return df.keys()[:-1][np.argmax(info_gain)]\n",
        "    \n",
        "    \n",
        "    def temp_table(self, df, node,value):\n",
        "        return df[df[node] == value].reset_index(drop=True)\n",
        "\n",
        "\n",
        "\n",
        "    def predict(self, data):\n",
        "        queries = data.iloc[:,:-1].to_dict(orient=\"records\")\n",
        "        predicted = pd.DataFrame(columns=[\"predicted\"])\n",
        "\n",
        "        #calculation of accuracy\n",
        "        for i in range(len(data)):\n",
        "            predicted.loc[i,\"predicted\"] = self.predict_tree_algo(queries[i], self.full_tree, 1.0)\n",
        "\n",
        "        return (np.sum(predicted[\"predicted\"]==data[data.keys()[-1]])/len(data))\n",
        "\n",
        "\n",
        "    def predict_tree_algo(self, query, tree, default=1):\n",
        "        for x in list(query.keys()):\n",
        "            if x in list(tree.keys()):\n",
        "                try:\n",
        "                    result = tree[x][query[x]]\n",
        "                except:\n",
        "                    return default\n",
        "\n",
        "                result = tree[x][query[x]]\n",
        "                if isinstance(result,dict):\n",
        "                    return self.predict_tree_algo(query,result)\n",
        "                else:\n",
        "                    return result\n",
        "\n",
        "\n",
        "    def get_info_gain(self):\n",
        "        return self.information_gain_list\n",
        "\n",
        "    \n",
        "    def get_full_tree(self):\n",
        "        return self.full_tree"
      ],
      "execution_count": null,
      "outputs": []
    },
    {
      "cell_type": "markdown",
      "metadata": {
        "id": "VJfndj4BnZiB"
      },
      "source": [
        "My DTClassifier() class has several additional methods that were not included in the \"recommended\" code scaffolding. The buildTree() method is a recursive method that builds the tree nodes using the \"tree\" variable. Inside this method, I call the temp_subtable() and use the values in subtable to go through the algorithm"
      ]
    },
    {
      "cell_type": "markdown",
      "metadata": {
        "id": "oCKl7oz23d0U"
      },
      "source": [
        "## 1.1 Debug"
      ]
    },
    {
      "cell_type": "code",
      "metadata": {
        "colab": {
          "base_uri": "https://localhost:8080/"
        },
        "id": "CYj-vP1U3gDo",
        "outputId": "e83b9c1b-f216-4648-d022-b1269b531141"
      },
      "source": [
        "## Load debug training data\n",
        "import pandas as pd\n",
        "from scipy.io.arff import loadarff\n",
        "\n",
        "!curl https://raw.githubusercontent.com/cs472ta/CS472/master/datasets/lenses.arff --output debug_data_train.arff\n",
        "\n",
        "dataset = loadarff('debug_data_train.arff')\n",
        "df_debug = pd.DataFrame(dataset[0])\n",
        "str_df = df_debug.select_dtypes([np.object])\n",
        "str_df = str_df.stack().str.decode('utf-8').unstack()\n",
        "for col in str_df:\n",
        "    df_debug[col] = str_df[col]\n",
        "\n",
        "\n",
        "## Train Decision Tree\n",
        "clf_debug = DTClassifier()\n",
        "debug_tree = clf_debug.buildTree(df_debug)\n",
        "\n",
        "\n",
        "## Load debug test data\n",
        "!curl https://raw.githubusercontent.com/cs472ta/CS472/master/datasets/lenses_test.arff --output debug_data_test.arff\n",
        "\n",
        "dataset = loadarff('debug_data_test.arff')\n",
        "df_debug_test = pd.DataFrame(dataset[0])\n",
        "str_df = df_debug_test.select_dtypes([np.object])\n",
        "str_df = str_df.stack().str.decode('utf-8').unstack()\n",
        "for col in str_df:\n",
        "    df_debug_test[col] = str_df[col]\n",
        "print()\n",
        "print(\"-----------------------------------------\")\n",
        "print()\n",
        "print()\n",
        "\n",
        "\n",
        "## Predict and compute model accuracy\n",
        "test_accuracy = clf_debug.predict(df_debug_test)\n",
        "print(f'Test accuracy: \\t {round(test_accuracy, 2)*100}%')\n",
        "print()\n",
        "\n",
        "## Print the information gain of every split you made\n",
        "print(f'Information Gain of each split: {clf_debug.get_info_gain()}')\n",
        "print()\n",
        "print(\"Tree:\")\n",
        "pprint.pprint(debug_tree)"
      ],
      "execution_count": null,
      "outputs": [
        {
          "output_type": "stream",
          "name": "stdout",
          "text": [
            "  % Total    % Received % Xferd  Average Speed   Time    Time     Time  Current\n",
            "                                 Dload  Upload   Total   Spent    Left  Speed\n",
            "100  2890  100  2890    0     0  62826      0 --:--:-- --:--:-- --:--:-- 62826\n",
            "  % Total    % Received % Xferd  Average Speed   Time    Time     Time  Current\n",
            "                                 Dload  Upload   Total   Spent    Left  Speed\n",
            "100  2839  100  2839    0     0  49807      0 --:--:-- --:--:-- --:--:-- 50696\n",
            "\n",
            "-----------------------------------------\n",
            "\n",
            "\n",
            "Test accuracy: \t 33.0%\n",
            "\n",
            "Information Gain of each split: [0.5487949406953989, 0.7704260414863784, 0.31668908831502124, 1.0, 0.4591479170272453, 0.9182958340544896]\n",
            "\n",
            "Tree:\n",
            "{'tear_prod_rate': {'normal': {'astigmatism': {'no': {'age': {'pre_presbyopic': 'soft',\n",
            "                                                              'presbyopic': {'spectacle_prescrip': {'hypermetrope': 'soft',\n",
            "                                                                                                    'myope': 'none'}},\n",
            "                                                              'young': 'soft'}},\n",
            "                                               'yes': {'spectacle_prescrip': {'hypermetrope': {'age': {'pre_presbyopic': 'none',\n",
            "                                                                                                       'presbyopic': 'none',\n",
            "                                                                                                       'young': 'hard'}},\n",
            "                                                                              'myope': 'hard'}}}},\n",
            "                    'reduced': 'none'}}\n"
          ]
        }
      ]
    },
    {
      "cell_type": "markdown",
      "metadata": {
        "id": "gEXz6ss463gB"
      },
      "source": [
        "## 1.2 Evaluation"
      ]
    },
    {
      "cell_type": "code",
      "metadata": {
        "colab": {
          "base_uri": "https://localhost:8080/"
        },
        "id": "4dOEPFF4656b",
        "outputId": "6d585ec4-d278-4f10-9494-7994a4636509"
      },
      "source": [
        "## Loading eval training dataset\n",
        "!curl https://raw.githubusercontent.com/cs472ta/CS472/master/datasets/zoo.arff --output eval_data_train.arff\n",
        "dataset = loadarff('eval_data_train.arff')\n",
        "df_eval_train = pd.DataFrame(dataset[0])\n",
        "str_df = df_eval_train.select_dtypes([np.object])\n",
        "str_df = str_df.stack().str.decode('utf-8').unstack()\n",
        "\n",
        "for col in str_df:\n",
        "    df_eval_train[col] = str_df[col]\n",
        "\n",
        "\n",
        "## Train decision tree\n",
        "clf_eval = DTClassifier()\n",
        "eval_tree = clf_eval.buildTree(df_eval_train)\n",
        "\n",
        "\n",
        "## Loading eval test dataset\n",
        "!curl https://raw.githubusercontent.com/cs472ta/CS472/master/datasets/zoo_test.arff --output eval_data_test.arff\n",
        "dataset = loadarff('eval_data_test.arff')\n",
        "df_eval_test = pd.DataFrame(dataset[0])\n",
        "str_df = df_eval_test.select_dtypes([np.object])\n",
        "str_df = str_df.stack().str.decode('utf-8').unstack()\n",
        "\n",
        "for col in str_df:\n",
        "    df_eval_test[col] = str_df[col]\n",
        "\n",
        "\n",
        "## Info gain and accuracy\n",
        "test_accuracy_eval = clf_eval.predict(df_eval_test)\n",
        "print(\"-------------------------------\")\n",
        "print()\n",
        "print(f'Accuracy of evaluation test dataset: \\t{test_accuracy_eval * 100}%')\n",
        "print(f'Information Gain of each split: \\t{clf_eval.get_info_gain()}')\n",
        "\n",
        "\n",
        "\n",
        "\n"
      ],
      "execution_count": null,
      "outputs": [
        {
          "output_type": "stream",
          "name": "stdout",
          "text": [
            "  % Total    % Received % Xferd  Average Speed   Time    Time     Time  Current\n",
            "                                 Dload  Upload   Total   Spent    Left  Speed\n",
            "100  6683  100  6683    0     0   116k      0 --:--:-- --:--:-- --:--:--  116k\n",
            "  % Total    % Received % Xferd  Average Speed   Time    Time     Time  Current\n",
            "                                 Dload  Upload   Total   Spent    Left  Speed\n",
            "100  171k  100  171k    0     0  2448k      0 --:--:-- --:--:-- --:--:-- 2448k\n",
            "-------------------------------\n",
            "\n",
            "Accuracy of evaluation test dataset: \t14.7%\n",
            "Information Gain of each split: \t[1.3630469031539403, 0.8865408928220906, 0.9852281360342512, 0.6962122601251456, 0.8256265261578951, 0.6892019851173661, 0.8631205685666313, 0.7219280948873621, 0.721928094887362]\n"
          ]
        }
      ]
    },
    {
      "cell_type": "markdown",
      "metadata": {
        "id": "WHXzMKSU7UOx"
      },
      "source": [
        "# 2. Use your ID3 algorithm to induce decision trees for the cars dataset and the voting dataset."
      ]
    },
    {
      "cell_type": "markdown",
      "metadata": {
        "id": "RwVg0a8UpKmx"
      },
      "source": [
        "## 2.1 Implement Cross Validation"
      ]
    },
    {
      "cell_type": "code",
      "metadata": {
        "id": "xdHOGKrDpPHP"
      },
      "source": [
        "## Building cross validation function\n",
        "def cross_validation(dataframe, cross):\n",
        "  \n",
        "  nFolds = cross\n",
        "  lst = list(range(1,nFolds+1))\n",
        "  dataframe['New'] = 0\n",
        "  dataframe = dataframe.sample(frac=1).reset_index()\n",
        "\n",
        "  # add a new column and number random rows\n",
        "  for i, row in enumerate(dataframe.itertuples()):\n",
        "    # dataframe['New'][i] = (i%nFolds + 1)\n",
        "    dataframe.loc[i, 'New'] = (i%nFolds + 1)\n",
        "  dataframe.drop(columns=['index'], inplace=True)\n",
        "\n",
        "  # create arrays of new splits\n",
        "  cv_splits = []\n",
        "  for i in range(nFolds):\n",
        "    trainIndices = dataframe[ dataframe['New']!=i+1 ].index.values.astype(int)\n",
        "    testIndices =  dataframe[ dataframe['New']==i+1 ].index.values.astype(int)\n",
        "    cv_splits.append( (trainIndices, testIndices) )\n",
        "  \n",
        "  test_accuracy_nfold = []\n",
        "  train_accuracy_nfold = [] \n",
        "  list_final_trees = []\n",
        "\n",
        "  for split in cv_splits:\n",
        "    df_cv_train = dataframe.loc[split[0]]\n",
        "    df_cv_train.drop(columns=['New'], inplace=True)\n",
        "    df_cv_train.reset_index(drop=True, inplace=True)\n",
        "    \n",
        "    df_cv_test = dataframe.loc[split[1]]\n",
        "    df_cv_test.drop(columns=['New'], inplace=True)\n",
        "    df_cv_test.reset_index(drop=True, inplace=True)\n",
        "\n",
        "\n",
        "    clf_splits = DTClassifier()\n",
        "    model_tree = clf_splits.buildTree(df_cv_train)\n",
        "\n",
        "    test_accuracy = clf_splits.predict(df_cv_test)\n",
        "    train_accuracy = clf_splits.predict(df_cv_train)\n",
        "    \n",
        "    # append accuracy of this split to list and the tree\n",
        "    test_accuracy_nfold.append(test_accuracy)\n",
        "    train_accuracy_nfold.append(train_accuracy)\n",
        "    list_final_trees.append(model_tree)\n",
        "  \n",
        "  return test_accuracy_nfold, train_accuracy_nfold, list_final_trees \n",
        "\n"
      ],
      "execution_count": null,
      "outputs": []
    },
    {
      "cell_type": "markdown",
      "metadata": {
        "id": "7pmCE72dp7oB"
      },
      "source": [
        "## 2.2 Cars Dataset"
      ]
    },
    {
      "cell_type": "code",
      "metadata": {
        "colab": {
          "base_uri": "https://localhost:8080/",
          "height": 505
        },
        "id": "Ay_XtY8Wp9NK",
        "outputId": "7ba3165f-1b0d-4b98-cbba-c67b4e09cd00"
      },
      "source": [
        "# Load cars dataset\n",
        "!curl https://raw.githubusercontent.com/cs472ta/CS472/master/datasets/cars.arff --output cars.arff\n",
        "dataset = loadarff('cars.arff')\n",
        "df_cars = pd.DataFrame(dataset[0])\n",
        "str_df = df_cars.select_dtypes([np.object])\n",
        "str_df = str_df.stack().str.decode('utf-8').unstack()\n",
        "for col in str_df:\n",
        "    df_cars[col] = str_df[col]\n",
        "\n",
        "\n",
        "# Call cross_validation function\n",
        "accuracy_test, accuracy_train, cars_tree = cross_validation(df_cars, 10)\n",
        "\n",
        "\n",
        "# Report training and test classification accuracies in dataframe\n",
        "df_score_cars = pd.DataFrame({'Test Accuracy': accuracy_test, 'Train Accuracy': accuracy_train}).round(5)\n",
        "df_score_cars.index.name = 'Split'\n",
        "df_score_cars.loc['Average'] = df_score_cars.mean()\n",
        "df_score_cars['Test Accuracy'] = ((df_score_cars['Test Accuracy'])*100).round(2).astype(str) + '%'\n",
        "df_score_cars['Train Accuracy'] = ((df_score_cars['Train Accuracy'])*100).round(2).astype(str) + '%'\n",
        "\n",
        "print()\n",
        "print(\"-----------------\")\n",
        "df_score_cars"
      ],
      "execution_count": null,
      "outputs": [
        {
          "output_type": "stream",
          "name": "stdout",
          "text": [
            "  % Total    % Received % Xferd  Average Speed   Time    Time     Time  Current\n",
            "                                 Dload  Upload   Total   Spent    Left  Speed\n",
            "100 55386  100 55386    0     0   370k      0 --:--:-- --:--:-- --:--:--  370k\n",
            "\n",
            "-----------------\n"
          ]
        },
        {
          "output_type": "execute_result",
          "data": {
            "text/html": [
              "<div>\n",
              "<style scoped>\n",
              "    .dataframe tbody tr th:only-of-type {\n",
              "        vertical-align: middle;\n",
              "    }\n",
              "\n",
              "    .dataframe tbody tr th {\n",
              "        vertical-align: top;\n",
              "    }\n",
              "\n",
              "    .dataframe thead th {\n",
              "        text-align: right;\n",
              "    }\n",
              "</style>\n",
              "<table border=\"1\" class=\"dataframe\">\n",
              "  <thead>\n",
              "    <tr style=\"text-align: right;\">\n",
              "      <th></th>\n",
              "      <th>Test Accuracy</th>\n",
              "      <th>Train Accuracy</th>\n",
              "    </tr>\n",
              "    <tr>\n",
              "      <th>Split</th>\n",
              "      <th></th>\n",
              "      <th></th>\n",
              "    </tr>\n",
              "  </thead>\n",
              "  <tbody>\n",
              "    <tr>\n",
              "      <th>0</th>\n",
              "      <td>89.6%</td>\n",
              "      <td>100.0%</td>\n",
              "    </tr>\n",
              "    <tr>\n",
              "      <th>1</th>\n",
              "      <td>87.86%</td>\n",
              "      <td>100.0%</td>\n",
              "    </tr>\n",
              "    <tr>\n",
              "      <th>2</th>\n",
              "      <td>87.86%</td>\n",
              "      <td>100.0%</td>\n",
              "    </tr>\n",
              "    <tr>\n",
              "      <th>3</th>\n",
              "      <td>86.7%</td>\n",
              "      <td>100.0%</td>\n",
              "    </tr>\n",
              "    <tr>\n",
              "      <th>4</th>\n",
              "      <td>90.17%</td>\n",
              "      <td>100.0%</td>\n",
              "    </tr>\n",
              "    <tr>\n",
              "      <th>5</th>\n",
              "      <td>93.64%</td>\n",
              "      <td>100.0%</td>\n",
              "    </tr>\n",
              "    <tr>\n",
              "      <th>6</th>\n",
              "      <td>91.33%</td>\n",
              "      <td>100.0%</td>\n",
              "    </tr>\n",
              "    <tr>\n",
              "      <th>7</th>\n",
              "      <td>91.33%</td>\n",
              "      <td>100.0%</td>\n",
              "    </tr>\n",
              "    <tr>\n",
              "      <th>8</th>\n",
              "      <td>84.3%</td>\n",
              "      <td>100.0%</td>\n",
              "    </tr>\n",
              "    <tr>\n",
              "      <th>9</th>\n",
              "      <td>87.79%</td>\n",
              "      <td>100.0%</td>\n",
              "    </tr>\n",
              "    <tr>\n",
              "      <th>Average</th>\n",
              "      <td>89.06%</td>\n",
              "      <td>100.0%</td>\n",
              "    </tr>\n",
              "  </tbody>\n",
              "</table>\n",
              "</div>"
            ],
            "text/plain": [
              "        Test Accuracy Train Accuracy\n",
              "Split                               \n",
              "0               89.6%         100.0%\n",
              "1              87.86%         100.0%\n",
              "2              87.86%         100.0%\n",
              "3               86.7%         100.0%\n",
              "4              90.17%         100.0%\n",
              "5              93.64%         100.0%\n",
              "6              91.33%         100.0%\n",
              "7              91.33%         100.0%\n",
              "8               84.3%         100.0%\n",
              "9              87.79%         100.0%\n",
              "Average        89.06%         100.0%"
            ]
          },
          "metadata": {},
          "execution_count": 10
        }
      ]
    },
    {
      "cell_type": "markdown",
      "metadata": {
        "id": "8b56hBtXsFVW"
      },
      "source": [
        "## 2.3 Voting Dataset"
      ]
    },
    {
      "cell_type": "code",
      "metadata": {
        "colab": {
          "base_uri": "https://localhost:8080/",
          "height": 505
        },
        "id": "75PCb3EdsJlU",
        "outputId": "a10d1641-8539-45a1-e608-0f63e657a9b3"
      },
      "source": [
        "# Load voting dataset\n",
        "!curl https://raw.githubusercontent.com/cs472ta/CS472/master/datasets/voting_with_missing.arff --output voting.arff\n",
        "dataset = loadarff('voting.arff')\n",
        "df_voting = pd.DataFrame(dataset[0])\n",
        "str_df = df_voting.select_dtypes([np.object])\n",
        "str_df = str_df.stack().str.decode('utf-8').unstack()\n",
        "for col in str_df:\n",
        "    df_voting[col] = str_df[col]\n",
        "\n",
        "# Call cross_validation function\n",
        "accuracy_test_vote, accuracy_train_vote, vote_tree = cross_validation(df_voting, 10)\n",
        "\n",
        "\n",
        "# Report training and test classification accuracies in dataframe\n",
        "df_score_voting = pd.DataFrame({'Test Accuracy': accuracy_test_vote, 'Train Accuracy': accuracy_train_vote}).round(5)\n",
        "df_score_voting.index.name = 'Split'\n",
        "df_score_voting.loc['Average'] = df_score_voting.mean()\n",
        "df_score_voting['Test Accuracy'] = ((df_score_voting['Test Accuracy'])*100).round(2).astype(str) + '%'\n",
        "df_score_voting['Train Accuracy'] = ((df_score_voting['Train Accuracy'])*100).round(2).astype(str) + '%'\n",
        "\n",
        "print()\n",
        "print(\"-----------------\")\n",
        "df_score_voting"
      ],
      "execution_count": null,
      "outputs": [
        {
          "output_type": "stream",
          "name": "stdout",
          "text": [
            "  % Total    % Received % Xferd  Average Speed   Time    Time     Time  Current\n",
            "                                 Dload  Upload   Total   Spent    Left  Speed\n",
            "100 40261  100 40261    0     0   216k      0 --:--:-- --:--:-- --:--:--  216k\n",
            "\n",
            "-----------------\n"
          ]
        },
        {
          "output_type": "execute_result",
          "data": {
            "text/html": [
              "<div>\n",
              "<style scoped>\n",
              "    .dataframe tbody tr th:only-of-type {\n",
              "        vertical-align: middle;\n",
              "    }\n",
              "\n",
              "    .dataframe tbody tr th {\n",
              "        vertical-align: top;\n",
              "    }\n",
              "\n",
              "    .dataframe thead th {\n",
              "        text-align: right;\n",
              "    }\n",
              "</style>\n",
              "<table border=\"1\" class=\"dataframe\">\n",
              "  <thead>\n",
              "    <tr style=\"text-align: right;\">\n",
              "      <th></th>\n",
              "      <th>Test Accuracy</th>\n",
              "      <th>Train Accuracy</th>\n",
              "    </tr>\n",
              "    <tr>\n",
              "      <th>Split</th>\n",
              "      <th></th>\n",
              "      <th></th>\n",
              "    </tr>\n",
              "  </thead>\n",
              "  <tbody>\n",
              "    <tr>\n",
              "      <th>0</th>\n",
              "      <td>90.91%</td>\n",
              "      <td>100.0%</td>\n",
              "    </tr>\n",
              "    <tr>\n",
              "      <th>1</th>\n",
              "      <td>97.73%</td>\n",
              "      <td>100.0%</td>\n",
              "    </tr>\n",
              "    <tr>\n",
              "      <th>2</th>\n",
              "      <td>90.91%</td>\n",
              "      <td>100.0%</td>\n",
              "    </tr>\n",
              "    <tr>\n",
              "      <th>3</th>\n",
              "      <td>95.46%</td>\n",
              "      <td>100.0%</td>\n",
              "    </tr>\n",
              "    <tr>\n",
              "      <th>4</th>\n",
              "      <td>95.46%</td>\n",
              "      <td>100.0%</td>\n",
              "    </tr>\n",
              "    <tr>\n",
              "      <th>5</th>\n",
              "      <td>88.37%</td>\n",
              "      <td>100.0%</td>\n",
              "    </tr>\n",
              "    <tr>\n",
              "      <th>6</th>\n",
              "      <td>97.67%</td>\n",
              "      <td>100.0%</td>\n",
              "    </tr>\n",
              "    <tr>\n",
              "      <th>7</th>\n",
              "      <td>93.02%</td>\n",
              "      <td>100.0%</td>\n",
              "    </tr>\n",
              "    <tr>\n",
              "      <th>8</th>\n",
              "      <td>95.35%</td>\n",
              "      <td>100.0%</td>\n",
              "    </tr>\n",
              "    <tr>\n",
              "      <th>9</th>\n",
              "      <td>95.35%</td>\n",
              "      <td>100.0%</td>\n",
              "    </tr>\n",
              "    <tr>\n",
              "      <th>Average</th>\n",
              "      <td>94.02%</td>\n",
              "      <td>100.0%</td>\n",
              "    </tr>\n",
              "  </tbody>\n",
              "</table>\n",
              "</div>"
            ],
            "text/plain": [
              "        Test Accuracy Train Accuracy\n",
              "Split                               \n",
              "0              90.91%         100.0%\n",
              "1              97.73%         100.0%\n",
              "2              90.91%         100.0%\n",
              "3              95.46%         100.0%\n",
              "4              95.46%         100.0%\n",
              "5              88.37%         100.0%\n",
              "6              97.67%         100.0%\n",
              "7              93.02%         100.0%\n",
              "8              95.35%         100.0%\n",
              "9              95.35%         100.0%\n",
              "Average        94.02%         100.0%"
            ]
          },
          "metadata": {},
          "execution_count": 11
        }
      ]
    },
    {
      "cell_type": "markdown",
      "metadata": {
        "id": "FUpCjflCu9Gn"
      },
      "source": [
        "## 2.4 Discuss Your Results"
      ]
    },
    {
      "cell_type": "markdown",
      "metadata": {
        "id": "FEfcAqdpvRRu"
      },
      "source": [
        "The average training set accuracy accross my 10 splits for the cars dataset was 89.06% and the accuracy accros my 10 splits for the voting dataset was 94%. The was very little variation accross the accuracies for my 10 splits for both datasets. In addition, each split for both datasets got perfect training accuracies. \n",
        "\n",
        "A fully expanded tree might not get 100% accuracy if there is are multiple instances in the dataset that have the same exact values accross all features but different labels. If this were the case, one such instance (with identical features) might go through the trained, induced tree and get misclassified. Since each of my k-fold splits for both the cars and voting datsets had 100% training accuracy, I do not believe there are any such instances in either datset."
      ]
    },
    {
      "cell_type": "markdown",
      "metadata": {
        "id": "0jAQJCHqvS2R"
      },
      "source": [
        "# 3 Discuss what decision trees above have learned"
      ]
    },
    {
      "cell_type": "markdown",
      "metadata": {
        "id": "rFyYccGMvqui"
      },
      "source": [
        "## 3.1 Discuss what the decision tree induced on the cars dataset has learned\n"
      ]
    },
    {
      "cell_type": "code",
      "metadata": {
        "colab": {
          "base_uri": "https://localhost:8080/"
        },
        "id": "YX_rixrQxVHp",
        "outputId": "06fdf6c8-2abc-473d-892a-3cb1377ed419"
      },
      "source": [
        "# Decision tree of most accurate split, which was #9 (refer to table in section 2.2)\n",
        "pprint.pprint(cars_tree[8])"
      ],
      "execution_count": null,
      "outputs": [
        {
          "output_type": "stream",
          "name": "stdout",
          "text": [
            "{'safety': {'high': {'persons': {'2': 'unacc',\n",
            "                                 '4': {'buying': {'high': {'maint': {'high': 'acc',\n",
            "                                                                     'low': 'acc',\n",
            "                                                                     'med': 'acc',\n",
            "                                                                     'vhigh': 'unacc'}},\n",
            "                                                  'low': {'maint': {'high': {'lug_boot': {'big': 'vgood',\n",
            "                                                                                          'med': 'acc',\n",
            "                                                                                          'small': 'acc'}},\n",
            "                                                                    'low': {'lug_boot': {'big': 'vgood',\n",
            "                                                                                         'med': {'doors': {'2': 'good',\n",
            "                                                                                                           '3': 'good',\n",
            "                                                                                                           '4': 'vgood',\n",
            "                                                                                                           '5more': 'vgood'}},\n",
            "                                                                                         'small': 'good'}},\n",
            "                                                                    'med': {'lug_boot': {'big': 'vgood',\n",
            "                                                                                         'med': 'vgood',\n",
            "                                                                                         'small': 'good'}},\n",
            "                                                                    'vhigh': 'acc'}},\n",
            "                                                  'med': {'maint': {'high': 'acc',\n",
            "                                                                    'low': {'lug_boot': {'big': 'vgood',\n",
            "                                                                                         'med': {'doors': {'2': 'good',\n",
            "                                                                                                           '5more': 'vgood'}},\n",
            "                                                                                         'small': 'good'}},\n",
            "                                                                    'med': {'lug_boot': {'big': 'vgood',\n",
            "                                                                                         'med': {'doors': {'2': 'acc',\n",
            "                                                                                                           '3': 'acc',\n",
            "                                                                                                           '4': 'vgood',\n",
            "                                                                                                           '5more': 'vgood'}},\n",
            "                                                                                         'small': 'acc'}},\n",
            "                                                                    'vhigh': 'acc'}},\n",
            "                                                  'vhigh': {'maint': {'high': 'unacc',\n",
            "                                                                      'low': 'acc',\n",
            "                                                                      'med': 'acc',\n",
            "                                                                      'vhigh': 'unacc'}}}},\n",
            "                                 'more': {'buying': {'high': {'maint': {'high': {'doors': {'2': {'lug_boot': {'big': 'acc',\n",
            "                                                                                                              'med': 'acc',\n",
            "                                                                                                              'small': 'unacc'}},\n",
            "                                                                                           '3': 'acc',\n",
            "                                                                                           '4': 'acc',\n",
            "                                                                                           '5more': 'acc'}},\n",
            "                                                                        'low': {'doors': {'2': {'lug_boot': {'med': 'acc',\n",
            "                                                                                                             'small': 'unacc'}},\n",
            "                                                                                          '3': 'acc',\n",
            "                                                                                          '4': 'acc',\n",
            "                                                                                          '5more': 'acc'}},\n",
            "                                                                        'med': {'doors': {'2': {'lug_boot': {'big': 'acc',\n",
            "                                                                                                             'med': 'acc',\n",
            "                                                                                                             'small': 'unacc'}},\n",
            "                                                                                          '3': 'acc',\n",
            "                                                                                          '4': 'acc',\n",
            "                                                                                          '5more': 'acc'}},\n",
            "                                                                        'vhigh': 'unacc'}},\n",
            "                                                     'low': {'maint': {'high': {'lug_boot': {'big': 'vgood',\n",
            "                                                                                             'med': {'doors': {'2': 'acc',\n",
            "                                                                                                               '3': 'vgood',\n",
            "                                                                                                               '4': 'vgood',\n",
            "                                                                                                               '5more': 'vgood'}},\n",
            "                                                                                             'small': {'doors': {'2': 'unacc',\n",
            "                                                                                                                 '3': 'acc',\n",
            "                                                                                                                 '4': 'acc',\n",
            "                                                                                                                 '5more': 'acc'}}}},\n",
            "                                                                       'low': {'lug_boot': {'big': 'vgood',\n",
            "                                                                                            'med': {'doors': {'2': 'good',\n",
            "                                                                                                              '3': 'vgood',\n",
            "                                                                                                              '4': 'vgood',\n",
            "                                                                                                              '5more': 'vgood'}},\n",
            "                                                                                            'small': {'doors': {'2': 'unacc',\n",
            "                                                                                                                '3': 'good',\n",
            "                                                                                                                '4': 'good',\n",
            "                                                                                                                '5more': 'good'}}}},\n",
            "                                                                       'med': {'lug_boot': {'big': 'vgood',\n",
            "                                                                                            'med': {'doors': {'2': 'good',\n",
            "                                                                                                              '3': 'vgood',\n",
            "                                                                                                              '4': 'vgood'}},\n",
            "                                                                                            'small': {'doors': {'2': 'unacc',\n",
            "                                                                                                                '4': 'good',\n",
            "                                                                                                                '5more': 'good'}}}},\n",
            "                                                                       'vhigh': {'doors': {'2': {'lug_boot': {'med': 'acc',\n",
            "                                                                                                              'small': 'unacc'}},\n",
            "                                                                                           '3': 'acc',\n",
            "                                                                                           '4': 'acc',\n",
            "                                                                                           '5more': 'acc'}}}},\n",
            "                                                     'med': {'maint': {'high': {'doors': {'2': {'lug_boot': {'big': 'acc',\n",
            "                                                                                                             'med': 'acc',\n",
            "                                                                                                             'small': 'unacc'}},\n",
            "                                                                                          '3': 'acc',\n",
            "                                                                                          '4': 'acc',\n",
            "                                                                                          '5more': 'acc'}},\n",
            "                                                                       'low': {'lug_boot': {'big': 'vgood',\n",
            "                                                                                            'med': {'doors': {'2': 'good',\n",
            "                                                                                                              '3': 'vgood',\n",
            "                                                                                                              '4': 'vgood'}},\n",
            "                                                                                            'small': {'doors': {'2': 'unacc',\n",
            "                                                                                                                '3': 'good',\n",
            "                                                                                                                '4': 'good'}}}},\n",
            "                                                                       'med': {'lug_boot': {'big': 'vgood',\n",
            "                                                                                            'med': {'doors': {'2': 'acc',\n",
            "                                                                                                              '3': 'vgood',\n",
            "                                                                                                              '4': 'vgood',\n",
            "                                                                                                              '5more': 'vgood'}},\n",
            "                                                                                            'small': {'doors': {'2': 'unacc',\n",
            "                                                                                                                '3': 'acc',\n",
            "                                                                                                                '4': 'acc',\n",
            "                                                                                                                '5more': 'acc'}}}},\n",
            "                                                                       'vhigh': {'doors': {'2': {'lug_boot': {'med': 'acc',\n",
            "                                                                                                              'small': 'unacc'}},\n",
            "                                                                                           '3': 'acc',\n",
            "                                                                                           '4': 'acc',\n",
            "                                                                                           '5more': 'acc'}}}},\n",
            "                                                     'vhigh': {'maint': {'high': 'unacc',\n",
            "                                                                         'low': {'doors': {'2': {'lug_boot': {'big': 'acc',\n",
            "                                                                                                              'med': 'acc',\n",
            "                                                                                                              'small': 'unacc'}},\n",
            "                                                                                           '3': 'acc',\n",
            "                                                                                           '4': 'acc',\n",
            "                                                                                           '5more': 'acc'}},\n",
            "                                                                         'med': 'acc',\n",
            "                                                                         'vhigh': 'unacc'}}}}}},\n",
            "            'low': 'unacc',\n",
            "            'med': {'persons': {'2': 'unacc',\n",
            "                                '4': {'buying': {'high': {'lug_boot': {'big': {'maint': {'high': 'acc',\n",
            "                                                                                         'low': 'acc',\n",
            "                                                                                         'med': 'acc',\n",
            "                                                                                         'vhigh': 'unacc'}},\n",
            "                                                                       'med': {'doors': {'2': 'unacc',\n",
            "                                                                                         '3': 'unacc',\n",
            "                                                                                         '4': {'maint': {'low': 'acc',\n",
            "                                                                                                         'med': 'acc',\n",
            "                                                                                                         'vhigh': 'unacc'}},\n",
            "                                                                                         '5more': {'maint': {'low': 'acc',\n",
            "                                                                                                             'med': 'acc',\n",
            "                                                                                                             'vhigh': 'unacc'}}}},\n",
            "                                                                       'small': 'unacc'}},\n",
            "                                                 'low': {'maint': {'high': 'acc',\n",
            "                                                                   'low': {'lug_boot': {'big': 'good',\n",
            "                                                                                        'med': {'doors': {'2': 'acc',\n",
            "                                                                                                          '3': 'acc',\n",
            "                                                                                                          '4': 'good',\n",
            "                                                                                                          '5more': 'good'}},\n",
            "                                                                                        'small': 'acc'}},\n",
            "                                                                   'med': {'lug_boot': {'big': 'good',\n",
            "                                                                                        'med': {'doors': {'3': 'acc',\n",
            "                                                                                                          '4': 'good',\n",
            "                                                                                                          '5more': 'good'}},\n",
            "                                                                                        'small': 'acc'}},\n",
            "                                                                   'vhigh': {'lug_boot': {'big': 'acc',\n",
            "                                                                                          'med': {'doors': {'2': 'unacc',\n",
            "                                                                                                            '3': 'unacc',\n",
            "                                                                                                            '4': 'acc',\n",
            "                                                                                                            '5more': 'acc'}},\n",
            "                                                                                          'small': 'unacc'}}}},\n",
            "                                                 'med': {'maint': {'high': {'lug_boot': {'big': 'acc',\n",
            "                                                                                         'med': {'doors': {'2': 'unacc',\n",
            "                                                                                                           '3': 'unacc',\n",
            "                                                                                                           '4': 'acc',\n",
            "                                                                                                           '5more': 'acc'}},\n",
            "                                                                                         'small': 'unacc'}},\n",
            "                                                                   'low': {'lug_boot': {'big': 'good',\n",
            "                                                                                        'med': {'doors': {'2': 'acc',\n",
            "                                                                                                          '3': 'acc',\n",
            "                                                                                                          '4': 'good',\n",
            "                                                                                                          '5more': 'good'}},\n",
            "                                                                                        'small': 'acc'}},\n",
            "                                                                   'med': 'acc',\n",
            "                                                                   'vhigh': {'lug_boot': {'big': 'acc',\n",
            "                                                                                          'med': {'doors': {'2': 'unacc',\n",
            "                                                                                                            '3': 'unacc',\n",
            "                                                                                                            '4': 'acc',\n",
            "                                                                                                            '5more': 'acc'}},\n",
            "                                                                                          'small': 'unacc'}}}},\n",
            "                                                 'vhigh': {'lug_boot': {'big': {'maint': {'high': 'unacc',\n",
            "                                                                                          'low': 'acc',\n",
            "                                                                                          'med': 'acc',\n",
            "                                                                                          'vhigh': 'unacc'}},\n",
            "                                                                        'med': {'doors': {'2': 'unacc',\n",
            "                                                                                          '3': 'unacc',\n",
            "                                                                                          '4': {'maint': {'low': 'acc',\n",
            "                                                                                                          'med': 'acc',\n",
            "                                                                                                          'vhigh': 'unacc'}},\n",
            "                                                                                          '5more': {'maint': {'high': 'unacc',\n",
            "                                                                                                              'low': 'acc',\n",
            "                                                                                                              'med': 'acc'}}}},\n",
            "                                                                        'small': 'unacc'}}}},\n",
            "                                'more': {'lug_boot': {'big': {'buying': {'high': {'maint': {'high': 'acc',\n",
            "                                                                                            'low': 'acc',\n",
            "                                                                                            'med': 'acc',\n",
            "                                                                                            'vhigh': 'unacc'}},\n",
            "                                                                         'low': {'maint': {'high': 'acc',\n",
            "                                                                                           'low': 'good',\n",
            "                                                                                           'med': 'good',\n",
            "                                                                                           'vhigh': 'acc'}},\n",
            "                                                                         'med': {'maint': {'high': 'acc',\n",
            "                                                                                           'low': 'good',\n",
            "                                                                                           'med': 'acc',\n",
            "                                                                                           'vhigh': 'acc'}},\n",
            "                                                                         'vhigh': {'maint': {'high': 'unacc',\n",
            "                                                                                             'low': 'acc',\n",
            "                                                                                             'med': 'acc',\n",
            "                                                                                             'vhigh': 'unacc'}}}},\n",
            "                                                      'med': {'maint': {'high': {'buying': {'high': {'doors': {'2': 'unacc',\n",
            "                                                                                                               '3': 'acc',\n",
            "                                                                                                               '4': 'acc'}},\n",
            "                                                                                            'low': 'acc',\n",
            "                                                                                            'med': {'doors': {'2': 'unacc',\n",
            "                                                                                                              '3': 'acc',\n",
            "                                                                                                              '4': 'acc',\n",
            "                                                                                                              '5more': 'acc'}},\n",
            "                                                                                            'vhigh': 'unacc'}},\n",
            "                                                                        'low': {'buying': {'high': {'doors': {'2': 'unacc',\n",
            "                                                                                                              '3': 'acc',\n",
            "                                                                                                              '4': 'acc',\n",
            "                                                                                                              '5more': 'acc'}},\n",
            "                                                                                           'low': {'doors': {'2': 'acc',\n",
            "                                                                                                             '3': 'good',\n",
            "                                                                                                             '4': 'good',\n",
            "                                                                                                             '5more': 'good'}},\n",
            "                                                                                           'med': {'doors': {'2': 'acc',\n",
            "                                                                                                             '3': 'good',\n",
            "                                                                                                             '4': 'good',\n",
            "                                                                                                             '5more': 'good'}},\n",
            "                                                                                           'vhigh': 'acc'}},\n",
            "                                                                        'med': {'buying': {'high': 'acc',\n",
            "                                                                                           'low': {'doors': {'2': 'acc',\n",
            "                                                                                                             '4': 'good',\n",
            "                                                                                                             '5more': 'good'}},\n",
            "                                                                                           'med': 'acc',\n",
            "                                                                                           'vhigh': {'doors': {'2': 'unacc',\n",
            "                                                                                                               '3': 'acc',\n",
            "                                                                                                               '4': 'acc',\n",
            "                                                                                                               '5more': 'acc'}}}},\n",
            "                                                                        'vhigh': {'buying': {'high': 'unacc',\n",
            "                                                                                             'low': {'doors': {'2': 'unacc',\n",
            "                                                                                                               '3': 'acc',\n",
            "                                                                                                               '4': 'acc',\n",
            "                                                                                                               '5more': 'acc'}},\n",
            "                                                                                             'med': {'doors': {'2': 'unacc',\n",
            "                                                                                                               '3': 'acc',\n",
            "                                                                                                               '4': 'acc'}},\n",
            "                                                                                             'vhigh': 'unacc'}}}},\n",
            "                                                      'small': {'buying': {'high': 'unacc',\n",
            "                                                                           'low': {'doors': {'2': 'unacc',\n",
            "                                                                                             '3': {'maint': {'low': 'acc',\n",
            "                                                                                                             'med': 'acc',\n",
            "                                                                                                             'vhigh': 'unacc'}},\n",
            "                                                                                             '4': {'maint': {'high': 'acc',\n",
            "                                                                                                             'low': 'acc',\n",
            "                                                                                                             'vhigh': 'unacc'}},\n",
            "                                                                                             '5more': 'acc'}},\n",
            "                                                                           'med': {'maint': {'high': 'unacc',\n",
            "                                                                                             'low': {'doors': {'2': 'unacc',\n",
            "                                                                                                               '3': 'acc',\n",
            "                                                                                                               '4': 'acc',\n",
            "                                                                                                               '5more': 'acc'}},\n",
            "                                                                                             'med': {'doors': {'2': 'unacc',\n",
            "                                                                                                               '3': 'acc',\n",
            "                                                                                                               '4': 'acc',\n",
            "                                                                                                               '5more': 'acc'}},\n",
            "                                                                                             'vhigh': 'unacc'}},\n",
            "                                                                           'vhigh': 'unacc'}}}}}}}}\n"
          ]
        }
      ]
    },
    {
      "cell_type": "markdown",
      "metadata": {
        "id": "DYHTxRJ1vsTs"
      },
      "source": [
        "The decision tree induced on the cars dataset shows that safety was the most important feature in deciding the quality of the car. In other words, the 'safety' feature had the highest information gain or decrease in entropy (compared to the entropy of the splitting solely on the labels). \n",
        "\n",
        "The instances with low safety were all classified as \"unnacceptable.\" For the cars with high safety, the next most important feature for predicting car acceptability is \"persons,\" or the number of persons the car can carry. For the cars with medium safety, the next most important feature for predictig the label is also \"persons.\"\n",
        "\n",
        "For cars that have either high or medium safefty and a capacity of 2, the predicted car acceptability is unnacceptable.  \n",
        "\n",
        "Note: Since we ran 10 different models using k-fold cross validation, I am using the tree of the training model with the highest accuracy. My 8th split yielded the highest accuracy, so the tree I refer to in this section is from the 8th split. "
      ]
    },
    {
      "cell_type": "markdown",
      "metadata": {
        "id": "Idyayw0mxota"
      },
      "source": [
        "## 3.2 Discuss what the decision tree induced on the voting dataset has learned"
      ]
    },
    {
      "cell_type": "code",
      "metadata": {
        "colab": {
          "base_uri": "https://localhost:8080/"
        },
        "id": "sLpRKvfnxtyd",
        "outputId": "77b5573b-eab0-4252-e721-5b9700e26080"
      },
      "source": [
        "# Decision tree of most accurate split, which was #4 (refer to table in section 2.3)\n",
        "pprint.pprint(vote_tree[3])"
      ],
      "execution_count": null,
      "outputs": [
        {
          "output_type": "stream",
          "name": "stdout",
          "text": [
            "{'physician-fee-freeze': {'?': {'education-spending': {'?': {'handicapped-infants': {'?': 'republican',\n",
            "                                                                                     'n': 'republican',\n",
            "                                                                                     'y': 'democrat'}},\n",
            "                                                       'n': 'democrat',\n",
            "                                                       'y': 'republican'}},\n",
            "                          'n': {'adoption-of-the-budget-resolution': {'?': 'democrat',\n",
            "                                                                      'n': {'education-spending': {'?': 'republican',\n",
            "                                                                                                   'n': {'synfuels-corporation-cutback': {'n': {'religious-groups-in-schools': {'n': {'crime': {'n': 'democrat',\n",
            "                                                                                                                                                                                                'y': 'republican'}},\n",
            "                                                                                                                                                                                'y': 'democrat'}},\n",
            "                                                                                                                                          'y': 'democrat'}},\n",
            "                                                                                                   'y': 'democrat'}},\n",
            "                                                                      'y': 'democrat'}},\n",
            "                          'y': {'synfuels-corporation-cutback': {'?': 'republican',\n",
            "                                                                 'n': {'export-administration-act-south-africa': {'?': {'adoption-of-the-budget-resolution': {'n': 'republican',\n",
            "                                                                                                                                                              'y': {'aid-to-nicaraguan-contras': {'?': 'republican',\n",
            "                                                                                                                                                                                                  'n': 'democrat',\n",
            "                                                                                                                                                                                                  'y': 'republican'}}}},\n",
            "                                                                                                                  'n': 'republican',\n",
            "                                                                                                                  'y': {'superfund-right-to-sue': {'?': {'handicapped-infants': {'n': 'democrat',\n",
            "                                                                                                                                                                                 'y': 'republican'}},\n",
            "                                                                                                                                                   'n': 'republican',\n",
            "                                                                                                                                                   'y': 'republican'}}}},\n",
            "                                                                 'y': {'export-administration-act-south-africa': {'?': {'education-spending': {'?': 'republican',\n",
            "                                                                                                                                               'n': 'democrat',\n",
            "                                                                                                                                               'y': {'water-project-cost-sharing': {'n': 'republican',\n",
            "                                                                                                                                                                                    'y': 'democrat'}}}},\n",
            "                                                                                                                  'n': {'adoption-of-the-budget-resolution': {'?': 'democrat',\n",
            "                                                                                                                                                              'n': {'superfund-right-to-sue': {'n': 'democrat',\n",
            "                                                                                                                                                                                               'y': {'water-project-cost-sharing': {'n': {'handicapped-infants': {'n': 'democrat',\n",
            "                                                                                                                                                                                                                                                                  'y': 'republican'}},\n",
            "                                                                                                                                                                                                                                    'y': 'republican'}}}},\n",
            "                                                                                                                                                              'y': 'democrat'}},\n",
            "                                                                                                                  'y': {'handicapped-infants': {'n': 'republican',\n",
            "                                                                                                                                                'y': {'immigration': {'n': {'adoption-of-the-budget-resolution': {'n': {'el-salvador-aid': {'n': 'democrat',\n",
            "                                                                                                                                                                                                                                            'y': 'republican'}},\n",
            "                                                                                                                                                                                                                  'y': 'democrat'}},\n",
            "                                                                                                                                                                      'y': 'republican'}}}}}}}}}}\n"
          ]
        }
      ]
    },
    {
      "cell_type": "markdown",
      "metadata": {
        "id": "KART-OYqxuDt"
      },
      "source": [
        "The decision tree induced on the voting dataset shows that the \"physician-fee-freeze\" feature, or how a congressperson voted on the 1980's legislation putting a freeze on physician's medicare fees, is the most important feature in predicting the party of a congressperson (the label). In other words, the \"physician-fee-freeze\" feature had the highest information gain among all features in the dataset.\n",
        "\n",
        "For those congresspeople who didn not vote on the \"physician-fee-freeze,\" the next most important legislation (or feature) that predicts their party affiliation is the \"mx-missle\" legislation. Those who voted \"no\" on\n",
        "\n",
        "For those congresspeople who voted \"no\" the \"physician-fee-freeze,\" the next most important legislation (or feature) that predicts their party affiliation is the \"education-spending\" legislation. Those who voted \"no\" on the \"physician-fee-freeze\" bill and the \"education-spending\" were democrats and those who voted \"no\" on the \"physician-fee-freeze\" bill and \"yes\" on the \"education-spending\" were rebublicans.\n",
        "\n",
        "For those congresspeople who voted \"yes\" the \"physician-fee-freeze,\" the next most important legislation (or feature) that predicts their party affiliation is the \"synfuels-corporation-cutback\" legislation.\n",
        "\n",
        "\n",
        "Note: Since we ran 10 different models using k-fold cross validation, I am using the tree of the training model with the highest accuracy. My 4th split yielded the highest accuracy, so the tree I refer to in this section is from the 4th split."
      ]
    },
    {
      "cell_type": "markdown",
      "metadata": {
        "id": "vRUGGTmt6xtP"
      },
      "source": [
        "## 3.3 How did you handle unknown attributes in the voting problem? Why did you choose this approach? (Do not use the approach of just throwing out data with unknown attributes)."
      ]
    },
    {
      "cell_type": "markdown",
      "metadata": {
        "id": "gQrjk71Q625S"
      },
      "source": [
        "I treated unknown attributes in the voting problem as another class. I chose this method because since all the features were categorical, it worked very well in my model. No additional code was required to accomodate unknown values, since the model treated them as if they were any other unique value of a feature. This approach worked well with the cars and voting datasets, as I got similar accuracies to the typical decision tree accuracies listed in the directions."
      ]
    },
    {
      "cell_type": "markdown",
      "metadata": {
        "id": "3OJ9tRY-o9-H"
      },
      "source": [
        "# 4.1 Use SciKit Learn's decision tree on the voting dataset and compare your results"
      ]
    },
    {
      "cell_type": "markdown",
      "metadata": {
        "id": "em2Rj5GypDBc"
      },
      "source": [
        "## 4.1.1 SK Learn on Voting Dataset"
      ]
    },
    {
      "cell_type": "code",
      "metadata": {
        "colab": {
          "base_uri": "https://localhost:8080/"
        },
        "id": "pX8wB37DpMbd",
        "outputId": "35d01994-cf7c-4483-8ea5-5d8a7a5337fd"
      },
      "source": [
        "# Load voting dataset\n",
        "!curl https://raw.githubusercontent.com/cs472ta/CS472/master/datasets/voting_with_missing.arff --output voting.arff\n",
        "\n",
        "dataset = loadarff('voting.arff')\n",
        "df_voting = pd.DataFrame(dataset[0])\n",
        "\n",
        "# cleaning voting\n",
        "str_df = df_voting.select_dtypes([np.object])\n",
        "str_df = str_df.stack().str.decode('utf-8').unstack()\n",
        "\n",
        "for col in str_df:\n",
        "    df_voting[col] = str_df[col]\n",
        "\n",
        "y = df_voting['Class']\n",
        "X = df_voting.drop(columns=['Class'])\n",
        "\n",
        "for col in X:\n",
        "  if not pd.api.types.is_numeric_dtype(df_voting[col]):\n",
        "    X = pd.get_dummies(X, columns=[col], drop_first=True)"
      ],
      "execution_count": null,
      "outputs": [
        {
          "output_type": "stream",
          "name": "stdout",
          "text": [
            "  % Total    % Received % Xferd  Average Speed   Time    Time     Time  Current\n",
            "                                 Dload  Upload   Total   Spent    Left  Speed\n",
            "\r  0     0    0     0    0     0      0      0 --:--:-- --:--:-- --:--:--     0\r100 40261  100 40261    0     0   655k      0 --:--:-- --:--:-- --:--:--  655k\n"
          ]
        }
      ]
    },
    {
      "cell_type": "markdown",
      "metadata": {
        "id": "VumLpcUmqpX2"
      },
      "source": [
        "Trying different difference between entropy and gini criterion"
      ]
    },
    {
      "cell_type": "code",
      "metadata": {
        "colab": {
          "base_uri": "https://localhost:8080/"
        },
        "id": "VTYuCmA8pOs-",
        "outputId": "801df7f4-0e4c-46a1-eda7-bfc17aa0c5de"
      },
      "source": [
        "from sklearn import tree\n",
        "from sklearn.model_selection import train_test_split\n",
        "\n",
        "X_train, X_test, y_train, y_test = train_test_split(X, y, test_size=0.2, random_state=12345)\n",
        "\n",
        "clf_sk = tree.DecisionTreeClassifier(criterion='entropy', min_samples_leaf=2, random_state=10)\n",
        "\n",
        "clf_sk = clf_sk.fit(X_train, y_train)\n",
        "\n",
        "accuracy = clf_sk.score(X_test, y_test)\n",
        "print(f'Accuracy of model: {round(accuracy,6)*100}%')"
      ],
      "execution_count": null,
      "outputs": [
        {
          "output_type": "stream",
          "name": "stdout",
          "text": [
            "Accuracy of model: 94.2529%\n"
          ]
        }
      ]
    },
    {
      "cell_type": "code",
      "metadata": {
        "colab": {
          "base_uri": "https://localhost:8080/"
        },
        "id": "utid9NbirM5A",
        "outputId": "943619e8-e1a8-45c1-a078-ea61fd9b831f"
      },
      "source": [
        "from sklearn import tree\n",
        "from sklearn.model_selection import train_test_split\n",
        "\n",
        "X_train, X_test, y_train, y_test = train_test_split(X, y, test_size=0.2, random_state=12345)\n",
        "\n",
        "clf_sk = tree.DecisionTreeClassifier(criterion='gini')\n",
        "\n",
        "clf_sk = clf_sk.fit(X_train, y_train)\n",
        "\n",
        "accuracy = clf_sk.score(X_test, y_test)\n",
        "print(f'Accuracy of model: {round(accuracy,6)*100}%')"
      ],
      "execution_count": null,
      "outputs": [
        {
          "output_type": "stream",
          "name": "stdout",
          "text": [
            "Accuracy of model: 91.95400000000001%\n"
          ]
        }
      ]
    },
    {
      "cell_type": "markdown",
      "metadata": {
        "id": "9Tz2arfRrbmQ"
      },
      "source": [
        "Testing the effect of altering the minimum number of samples to be at a leaf node and minimum impurity decrease (default is 0 to induce split)"
      ]
    },
    {
      "cell_type": "code",
      "metadata": {
        "colab": {
          "base_uri": "https://localhost:8080/"
        },
        "id": "y1UrdYShrcBs",
        "outputId": "7c077a27-1159-406c-b336-f3464e856e3e"
      },
      "source": [
        "from sklearn import tree\n",
        "from sklearn.model_selection import train_test_split\n",
        "\n",
        "X_train, X_test, y_train, y_test = train_test_split(X, y, test_size=0.2)\n",
        "\n",
        "clf_sk = tree.DecisionTreeClassifier(criterion='entropy', min_samples_leaf=2, min_impurity_decrease=.05)\n",
        "\n",
        "clf_sk = clf_sk.fit(X_train, y_train)\n",
        "\n",
        "accuracy = clf_sk.score(X_test, y_test)\n",
        "print(f'Accuracy of model: {round(accuracy,6)*100}%')"
      ],
      "execution_count": null,
      "outputs": [
        {
          "output_type": "stream",
          "name": "stdout",
          "text": [
            "Accuracy of model: 96.5517%\n"
          ]
        }
      ]
    },
    {
      "cell_type": "code",
      "metadata": {
        "colab": {
          "base_uri": "https://localhost:8080/"
        },
        "id": "ymjEo_Cir9er",
        "outputId": "17ac575f-6c42-4ed8-a7c3-5dd82edc356f"
      },
      "source": [
        "from sklearn import tree\n",
        "from sklearn.model_selection import train_test_split\n",
        "\n",
        "X_train, X_test, y_train, y_test = train_test_split(X, y, test_size=0.2)\n",
        "\n",
        "clf_sk = tree.DecisionTreeClassifier(criterion='entropy', min_samples_leaf=5, min_impurity_decrease=.15)\n",
        "\n",
        "clf_sk = clf_sk.fit(X_train, y_train)\n",
        "\n",
        "accuracy = clf_sk.score(X_test, y_test)\n",
        "print(f'Accuracy of model: {round(accuracy,6)*100}%')"
      ],
      "execution_count": null,
      "outputs": [
        {
          "output_type": "stream",
          "name": "stdout",
          "text": [
            "Accuracy of model: 97.7011%\n"
          ]
        }
      ]
    },
    {
      "cell_type": "markdown",
      "metadata": {
        "id": "ZtQqE06Ysy4y"
      },
      "source": [
        "Testing effect of using splitter='random'"
      ]
    },
    {
      "cell_type": "code",
      "metadata": {
        "colab": {
          "base_uri": "https://localhost:8080/"
        },
        "id": "NRBs4sqismBx",
        "outputId": "fcb5417d-d0a8-4744-88d4-7d62aac0c2c7"
      },
      "source": [
        "from sklearn import tree\n",
        "from sklearn.model_selection import train_test_split\n",
        "\n",
        "X_train, X_test, y_train, y_test = train_test_split(X, y, test_size=0.2)\n",
        "\n",
        "clf_sk = tree.DecisionTreeClassifier(criterion='entropy', min_samples_leaf=5, min_impurity_decrease=.15, splitter='random')\n",
        "\n",
        "clf_sk = clf_sk.fit(X_train, y_train)\n",
        "\n",
        "accuracy = clf_sk.score(X_test, y_test)\n",
        "print(f'Accuracy of model: {round(accuracy,6)*100}%')"
      ],
      "execution_count": null,
      "outputs": [
        {
          "output_type": "stream",
          "name": "stdout",
          "text": [
            "Accuracy of model: 93.406%\n"
          ]
        }
      ]
    },
    {
      "cell_type": "markdown",
      "metadata": {
        "id": "_wt_xHfisyGA"
      },
      "source": [
        "When testing the difference in the model's accuracy between using gini or entropy for the criterion to measure the quality of the split, the entropy criterion performed much better (94% accuracy vs. 91%).\n",
        "\n",
        "Then I tried to test the effect of altering the minimum number of samples to be at a leaf node and altering the minimum impurity decrease required to split. The model with min_samples_leaf = 5 and min_impurity_decrease=.15 got the highest accuracy of all my tests (97.7%). When I decreased the min_samples_leaf and min_impurity_decrease hyperparameters by 2 and .10 respectively, the model's accuracy dropped around 1%. \n",
        "\n",
        "Then I tried to test the effect of using a random splitter, rather than the default \"best.\" I used the same hyperparameters as my best model (criterion='entropy', min_samples_leaf = 5, and min_impurity_decrease=.15) and added the \"random\" splitter. With this adjustment, my model's accuracy decreased by 4%.\n",
        "\n"
      ]
    },
    {
      "cell_type": "markdown",
      "metadata": {
        "id": "-Oy2MPhnpWas"
      },
      "source": [
        "# 4.2 Choose a data set of your choice (not already used in this or previous labs) and use the SK decision tree to learn it. Experiment with different hyper-parameters to try to get the best results possible."
      ]
    },
    {
      "cell_type": "markdown",
      "metadata": {
        "id": "w8Fh7ss5uL2J"
      },
      "source": [
        "I am using a student enrollments dataset that I have used for regression in a previous statistics class. I was very curious how the Decision Tree algorithm would compare to the regression. This data predicts whether a student will drop out or maintain activity in the college. I loaded the data and did some cleaning before testing the SK decision tree with the data"
      ]
    },
    {
      "cell_type": "code",
      "metadata": {
        "id": "-THQEhpbpcv9"
      },
      "source": [
        "from datetime import datetime as dt\n",
        "df = pd.read_csv('/content/drive/MyDrive/Colab Notebooks/Data/student_enrollment_sample.csv')\n",
        "\n",
        "percent_missing = df.isnull().sum() * 100 / len(df)\n",
        "\n",
        "for index, value in percent_missing.items():\n",
        "  if value > 30:\n",
        "    df = df.drop([index], axis=1)\n",
        "\n",
        "# dropping remaining rows with null values\n",
        "df = df.dropna()\n",
        "\n",
        "df_dates = df.copy()\n",
        "\n",
        "# Fixing dates and casting to real values\n",
        "df_dates['LAST_ACTIVITY_DATE'] = pd.to_datetime(df_dates['LAST_ACTIVITY_DATE']).dt.date\n",
        "df_dates['EXPECTED_START_DATE'] = pd.to_datetime(df_dates['EXPECTED_START_DATE']).dt.date\n",
        "df_dates['BIRTH_DATE'] = pd.to_datetime(df_dates['BIRTH_DATE']).dt.date\n",
        "df_dates['GRADUATION_DATE'] = pd.to_datetime(df_dates['GRADUATION_DATE']).dt.date\n",
        "\n",
        "df_dates['LAST_ACTIVITY_DATE'] = (dt.strptime(\"2022-1-1\", \"%Y-%m-%d\").date() - df_dates['LAST_ACTIVITY_DATE']).dt.days\n",
        "df_dates['EXPECTED_START_DATE'] = (dt.strptime(\"2022-1-1\", \"%Y-%m-%d\").date() - df_dates['EXPECTED_START_DATE']).dt.days\n",
        "df_dates['BIRTH_DATE'] = (dt.strptime(\"2022-1-1\", \"%Y-%m-%d\").date() - df_dates['BIRTH_DATE']).dt.days\n",
        "df_dates['GRADUATION_DATE'] = (df_dates['GRADUATION_DATE'] - dt.strptime(\"2020-1-1\", \"%Y-%m-%d\").date()).dt.days\n",
        "\n",
        "\n",
        "df_cat = df_dates.copy()\n",
        "df_bin = (df_cat['PROGRAM_GROUP'].value_counts() / df_cat.shape[0])\n",
        "\n",
        "# Create df_bin series object \n",
        "for col in df_bin.items():\n",
        "  if col[1] < .05:\n",
        "    df_bin.drop(col[0], inplace=True)\n",
        "\n",
        "# Get index of \"PROGRAM_GROUP\"\n",
        "col_index = df_cat.columns.get_loc('PROGRAM_GROUP') + 1\n",
        "\n",
        "for i in df_cat.itertuples():\n",
        "  if i[col_index] not in df_bin.index.to_list():\n",
        "    df_cat.at[i[0], 'PROGRAM_GROUP'] = 'Other'\n",
        "\n",
        "\n",
        "# altering some values\n",
        "df_filtered = df_cat.copy()\n",
        "df_filtered.loc[df_filtered['STATUS_DESCRIPTION'] == 'Graduate', 'IN_SCHOOL_FLAG'] = 1\n",
        "df_filtered.loc[df_filtered['STATUS_DESCRIPTION'] == 'Graduate', 'SIMPLE_STATUS_DESCRIPTION'] = 'Active'\n",
        "\n",
        "\n",
        "df_dummy = df_filtered.copy()\n",
        "\n",
        "df_dummy['MOD_NUMBER'] = df_dummy['MOD_NUMBER'].astype('object')\n",
        "df_dummy['COHORT_YEAR'] = df_dummy['COHORT_YEAR'].astype('object')\n",
        "\n",
        "df_dummy.drop(columns=['STATUS_DESCRIPTION', 'SIMPLE_STATUS_DESCRIPTION'], inplace=True)\n",
        "\n",
        "# creating dummy values for categoricals\n",
        "for col in df_dummy:\n",
        "  if not pd.api.types.is_numeric_dtype(df_dummy[col]):\n",
        "    df_dummy = pd.get_dummies(df_dummy, columns=[col], drop_first=True)\n",
        "\n",
        "# seting X and y variables for training and testing\n",
        "y = df_dummy['IN_SCHOOL_FLAG']\n",
        "X = df_dummy.drop(columns=['IN_SCHOOL_FLAG'])\n"
      ],
      "execution_count": null,
      "outputs": []
    },
    {
      "cell_type": "markdown",
      "metadata": {
        "id": "YBQRs_gJ2pPt"
      },
      "source": [
        "Default hyperparameters"
      ]
    },
    {
      "cell_type": "code",
      "metadata": {
        "colab": {
          "base_uri": "https://localhost:8080/"
        },
        "id": "PD8vrSiqwGWO",
        "outputId": "ac13bcfb-777b-46f5-a044-226133756933"
      },
      "source": [
        "# Using sk learn DT model on student data with default parameters\n",
        "X_train, X_test, y_train, y_test = train_test_split(X, y, test_size=0.3)\n",
        "\n",
        "clf_student = tree.DecisionTreeClassifier()\n",
        "\n",
        "clf_student = clf_student.fit(X_train, y_train)\n",
        "\n",
        "accuracy = clf_student.score(X_test, y_test)\n",
        "print(f'Accuracy of model: {round(accuracy,6)*100}%')"
      ],
      "execution_count": null,
      "outputs": [
        {
          "output_type": "stream",
          "name": "stdout",
          "text": [
            "Accuracy of model: 97.7835%\n"
          ]
        }
      ]
    },
    {
      "cell_type": "code",
      "metadata": {
        "colab": {
          "base_uri": "https://localhost:8080/"
        },
        "id": "hzB2DgGwzi7k",
        "outputId": "3004bb87-31d1-438e-c990-0014885bc129"
      },
      "source": [
        "# Number of branches of defaults\n",
        "default_student_clf_depth = clf_student.tree_.max_depth\n",
        "default_student_clf_depth"
      ],
      "execution_count": null,
      "outputs": [
        {
          "output_type": "execute_result",
          "data": {
            "text/plain": [
              "24"
            ]
          },
          "metadata": {},
          "execution_count": 25
        }
      ]
    },
    {
      "cell_type": "markdown",
      "metadata": {
        "id": "t49yG_-x08tc"
      },
      "source": [
        "Now I try different hyperparameters"
      ]
    },
    {
      "cell_type": "code",
      "metadata": {
        "colab": {
          "base_uri": "https://localhost:8080/"
        },
        "id": "8gv59zHFw3Ci",
        "outputId": "64aef78d-c981-4e3a-d7d0-6c90bc21ed2f"
      },
      "source": [
        "X_train, X_test, y_train, y_test = train_test_split(X, y, test_size=0.3)\n",
        "\n",
        "clf_student = tree.DecisionTreeClassifier(criterion='entropy', min_samples_leaf=2, min_impurity_decrease=.05)\n",
        "\n",
        "clf_student = clf_student.fit(X_train, y_train)\n",
        "\n",
        "accuracy = clf_student.score(X_test, y_test)\n",
        "print(f'Accuracy of model: {round(accuracy,6)*100}%')"
      ],
      "execution_count": null,
      "outputs": [
        {
          "output_type": "stream",
          "name": "stdout",
          "text": [
            "Accuracy of model: 92.5574%\n"
          ]
        }
      ]
    },
    {
      "cell_type": "code",
      "metadata": {
        "colab": {
          "base_uri": "https://localhost:8080/"
        },
        "id": "-GSM-oTTxFkf",
        "outputId": "1f80186d-f82c-42ab-8af3-834e19831e2e"
      },
      "source": [
        "X_train, X_test, y_train, y_test = train_test_split(X, y, test_size=0.3)\n",
        "\n",
        "clf_student = tree.DecisionTreeClassifier(criterion='entropy', min_samples_leaf=7, min_impurity_decrease=.01)\n",
        "\n",
        "clf_student = clf_student.fit(X_train, y_train)\n",
        "\n",
        "accuracy = clf_student.score(X_test, y_test)\n",
        "print(f'Accuracy of model: {round(accuracy,6)*100}%')"
      ],
      "execution_count": null,
      "outputs": [
        {
          "output_type": "stream",
          "name": "stdout",
          "text": [
            "Accuracy of model: 96.464%\n"
          ]
        }
      ]
    },
    {
      "cell_type": "code",
      "metadata": {
        "colab": {
          "base_uri": "https://localhost:8080/"
        },
        "id": "V-tLuYeSxQDA",
        "outputId": "56722f3c-318a-452f-b2b1-0091cd1d3db0"
      },
      "source": [
        "X_train, X_test, y_train, y_test = train_test_split(X, y, test_size=0.3)\n",
        "\n",
        "clf_student = tree.DecisionTreeClassifier(criterion='gini', min_samples_leaf=7, min_impurity_decrease=.01)\n",
        "\n",
        "clf_student = clf_student.fit(X_train, y_train)\n",
        "\n",
        "accuracy = clf_student.score(X_test, y_test)\n",
        "print(f'Accuracy of model: {round(accuracy,6)*100}%')"
      ],
      "execution_count": null,
      "outputs": [
        {
          "output_type": "stream",
          "name": "stdout",
          "text": [
            "Accuracy of model: 95.9526%\n"
          ]
        }
      ]
    },
    {
      "cell_type": "code",
      "metadata": {
        "colab": {
          "base_uri": "https://localhost:8080/"
        },
        "id": "gyKbdnClxUYW",
        "outputId": "3de2a034-caaf-4408-9738-f7c7fb43bff7"
      },
      "source": [
        "X_train, X_test, y_train, y_test = train_test_split(X, y, test_size=0.3)\n",
        "\n",
        "clf_student = tree.DecisionTreeClassifier(criterion='gini', min_samples_leaf=7, min_impurity_decrease=.01, ccp_alpha=.001)\n",
        "\n",
        "clf_student = clf_student.fit(X_train, y_train)\n",
        "\n",
        "accuracy = clf_student.score(X_test, y_test)\n",
        "print(f'Accuracy of model: {round(accuracy,6)*100}%')"
      ],
      "execution_count": null,
      "outputs": [
        {
          "output_type": "stream",
          "name": "stdout",
          "text": [
            "Accuracy of model: 96.2046%\n"
          ]
        }
      ]
    },
    {
      "cell_type": "code",
      "metadata": {
        "id": "ORLYryaN0D7D",
        "colab": {
          "base_uri": "https://localhost:8080/"
        },
        "outputId": "a7b692b6-8851-489a-8ed5-f923e2de72f4"
      },
      "source": [
        "# Max depth of tree above\n",
        "max_depth_stoppingcriteria = clf_student.tree_.max_depth\n",
        "max_depth_stoppingcriteria"
      ],
      "execution_count": null,
      "outputs": [
        {
          "output_type": "execute_result",
          "data": {
            "text/plain": [
              "3"
            ]
          },
          "metadata": {},
          "execution_count": 30
        }
      ]
    },
    {
      "cell_type": "markdown",
      "metadata": {
        "id": "kEXnyD_yxweD"
      },
      "source": [
        "Interestingly, the model that performed the best was the one with all the default parameters. After testing different combinatinos of min_samples_leaf, min_impurity_decrease, ccp_alpha, and entropy, I couln't get over 96% accuracy. The model with the default hyperparameters, however got 97.8% accuracy. BUT, it had a tree depth of 24 nodes. The default settings train the model until it reaches pure nodes, so it has a very large chance of overfitting the dataset when generalizing, so this does not at all give me more confidence in the default hyperparameters. \n",
        "\n",
        "My next best model, with an accuracy of 96.46% had the following hyperparameters: criterion='entropy', min_samples_leaf=7, min_impurity_decrease=.01. By increasing the minimum samples required to be at a leaf node, I most likely caused the accuracy to go down a bit. However, this model is MUCH more simple, with a depth of only 3 nodes. "
      ]
    },
    {
      "cell_type": "markdown",
      "metadata": {
        "id": "z8tOCL5HpfQw"
      },
      "source": [
        "# 5. Visualize sklearn's decision tree for your chosen data set (using export_graphviz or another tool) and discuss what you find. If your tree is too deep to reasonably fit on one page, show only the first several levels (e.g. top 5)."
      ]
    },
    {
      "cell_type": "code",
      "metadata": {
        "colab": {
          "base_uri": "https://localhost:8080/",
          "height": 594
        },
        "id": "KQa4FNrwzJs2",
        "outputId": "a680825d-7dbb-4add-f8ea-031dec9256aa"
      },
      "source": [
        "from sklearn.tree import export_graphviz\n",
        "from six import StringIO\n",
        "from IPython.display import Image  \n",
        "import pydotplus, six\n",
        "  \n",
        "dot_data = StringIO()\n",
        "export_graphviz(clf_student, out_file=dot_data, filled=True, rounded=True, special_characters=True, feature_names = X.columns,class_names=['drop', 'active'])\n",
        "graph = pydotplus.graph_from_dot_data(dot_data.getvalue())  \n",
        "graph.write_png('lab3.png')\n",
        "Image(graph.create_png())"
      ],
      "execution_count": null,
      "outputs": [
        {
          "output_type": "execute_result",
          "data": {
            "image/png": "[encoded data removed]",
            "text/plain": [
              "<IPython.core.display.Image object>"
            ]
          },
          "metadata": {},
          "execution_count": 31
        }
      ]
    },
    {
      "cell_type": "markdown",
      "metadata": {
        "id": "7GbSIWLDpFfu"
      },
      "source": [
        "The model has learned that the number of months that a student has attended the college is the most important feature in predicting whether they will drop out or not. Of those who have attended for less than 4.5 months, 99.6% (24054/24147) drop out. Of the students who have attended for more than 4.5 months, those who owe less money and have less credit hours are more likely to drop out than those who have more debt."
      ]
    }
  ]
}